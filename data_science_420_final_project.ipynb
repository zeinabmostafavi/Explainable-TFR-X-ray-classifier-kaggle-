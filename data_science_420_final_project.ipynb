{
  "nbformat": 4,
  "nbformat_minor": 0,
  "metadata": {
    "kernelspec": {
      "language": "python",
      "display_name": "Python 3",
      "name": "python3"
    },
    "language_info": {
      "pygments_lexer": "ipython3",
      "nbconvert_exporter": "python",
      "version": "3.6.4",
      "file_extension": ".py",
      "codemirror_mode": {
        "name": "ipython",
        "version": 3
      },
      "name": "python",
      "mimetype": "text/x-python"
    },
    "colab": {
      "name": "data-science-420-final-project.ipynb",
      "provenance": []
    },
    "accelerator": "GPU"
  },
  "cells": [
    {
      "cell_type": "code",
      "metadata": {
        "colab": {
          "base_uri": "https://localhost:8080/"
        },
        "id": "vIkZ9MguJRlJ",
        "outputId": "29857a08-1c13-4ffe-9902-7663190a3f30"
      },
      "source": [
        "from google.colab import drive\n",
        "drive.mount('/content/drive')"
      ],
      "execution_count": 1,
      "outputs": [
        {
          "output_type": "stream",
          "name": "stdout",
          "text": [
            "Mounted at /content/drive\n"
          ]
        }
      ]
    },
    {
      "cell_type": "code",
      "metadata": {
        "id": "Vd1x5x_-JM42"
      },
      "source": [
        "import zipfile\n",
        "zip_ref = zipfile.ZipFile(\"/content/drive/MyDrive/kaggle/nih-chest-xrays-tfrecords.zip\", 'r')\n",
        "zip_ref.extractall(\"/content/nih-chest-xrays-tfrecords\")\n",
        "zip_ref.close()"
      ],
      "execution_count": 2,
      "outputs": []
    },
    {
      "cell_type": "code",
      "metadata": {
        "colab": {
          "base_uri": "https://localhost:8080/"
        },
        "id": "XzJkzpW9Jfji",
        "outputId": "e4edb71c-57f7-432c-f3d7-74b9e942d829"
      },
      "source": [
        "!pip install wandb\n",
        "import wandb\n",
        "from wandb.keras import WandbCallback"
      ],
      "execution_count": 3,
      "outputs": [
        {
          "output_type": "stream",
          "name": "stdout",
          "text": [
            "Collecting wandb\n",
            "  Downloading wandb-0.12.7-py2.py3-none-any.whl (1.7 MB)\n",
            "\u001b[K     |████████████████████████████████| 1.7 MB 4.1 MB/s \n",
            "\u001b[?25hRequirement already satisfied: PyYAML in /usr/local/lib/python3.7/dist-packages (from wandb) (3.13)\n",
            "Collecting GitPython>=1.0.0\n",
            "  Downloading GitPython-3.1.24-py3-none-any.whl (180 kB)\n",
            "\u001b[K     |████████████████████████████████| 180 kB 51.7 MB/s \n",
            "\u001b[?25hCollecting sentry-sdk>=1.0.0\n",
            "  Downloading sentry_sdk-1.5.0-py2.py3-none-any.whl (140 kB)\n",
            "\u001b[K     |████████████████████████████████| 140 kB 46.3 MB/s \n",
            "\u001b[?25hCollecting subprocess32>=3.5.3\n",
            "  Downloading subprocess32-3.5.4.tar.gz (97 kB)\n",
            "\u001b[K     |████████████████████████████████| 97 kB 7.0 MB/s \n",
            "\u001b[?25hRequirement already satisfied: Click!=8.0.0,>=7.0 in /usr/local/lib/python3.7/dist-packages (from wandb) (7.1.2)\n",
            "Requirement already satisfied: python-dateutil>=2.6.1 in /usr/local/lib/python3.7/dist-packages (from wandb) (2.8.2)\n",
            "Requirement already satisfied: psutil>=5.0.0 in /usr/local/lib/python3.7/dist-packages (from wandb) (5.4.8)\n",
            "Collecting configparser>=3.8.1\n",
            "  Downloading configparser-5.1.0-py3-none-any.whl (19 kB)\n",
            "Collecting pathtools\n",
            "  Downloading pathtools-0.1.2.tar.gz (11 kB)\n",
            "Requirement already satisfied: promise<3,>=2.0 in /usr/local/lib/python3.7/dist-packages (from wandb) (2.3)\n",
            "Requirement already satisfied: requests<3,>=2.0.0 in /usr/local/lib/python3.7/dist-packages (from wandb) (2.23.0)\n",
            "Requirement already satisfied: protobuf>=3.12.0 in /usr/local/lib/python3.7/dist-packages (from wandb) (3.17.3)\n",
            "Collecting docker-pycreds>=0.4.0\n",
            "  Downloading docker_pycreds-0.4.0-py2.py3-none-any.whl (9.0 kB)\n",
            "Collecting shortuuid>=0.5.0\n",
            "  Downloading shortuuid-1.0.8-py3-none-any.whl (9.5 kB)\n",
            "Collecting yaspin>=1.0.0\n",
            "  Downloading yaspin-2.1.0-py3-none-any.whl (18 kB)\n",
            "Requirement already satisfied: six>=1.13.0 in /usr/local/lib/python3.7/dist-packages (from wandb) (1.15.0)\n",
            "Requirement already satisfied: typing-extensions>=3.7.4.3 in /usr/local/lib/python3.7/dist-packages (from GitPython>=1.0.0->wandb) (3.10.0.2)\n",
            "Collecting gitdb<5,>=4.0.1\n",
            "  Downloading gitdb-4.0.9-py3-none-any.whl (63 kB)\n",
            "\u001b[K     |████████████████████████████████| 63 kB 1.8 MB/s \n",
            "\u001b[?25hCollecting smmap<6,>=3.0.1\n",
            "  Downloading smmap-5.0.0-py3-none-any.whl (24 kB)\n",
            "Requirement already satisfied: idna<3,>=2.5 in /usr/local/lib/python3.7/dist-packages (from requests<3,>=2.0.0->wandb) (2.10)\n",
            "Requirement already satisfied: certifi>=2017.4.17 in /usr/local/lib/python3.7/dist-packages (from requests<3,>=2.0.0->wandb) (2021.10.8)\n",
            "Requirement already satisfied: chardet<4,>=3.0.2 in /usr/local/lib/python3.7/dist-packages (from requests<3,>=2.0.0->wandb) (3.0.4)\n",
            "Requirement already satisfied: urllib3!=1.25.0,!=1.25.1,<1.26,>=1.21.1 in /usr/local/lib/python3.7/dist-packages (from requests<3,>=2.0.0->wandb) (1.24.3)\n",
            "Requirement already satisfied: termcolor<2.0.0,>=1.1.0 in /usr/local/lib/python3.7/dist-packages (from yaspin>=1.0.0->wandb) (1.1.0)\n",
            "Building wheels for collected packages: subprocess32, pathtools\n",
            "  Building wheel for subprocess32 (setup.py) ... \u001b[?25l\u001b[?25hdone\n",
            "  Created wheel for subprocess32: filename=subprocess32-3.5.4-py3-none-any.whl size=6502 sha256=63a4733d3f11236b609cc4e08e08a2fa058f9a9f86363e7b4f7810d228457eef\n",
            "  Stored in directory: /root/.cache/pip/wheels/50/ca/fa/8fca8d246e64f19488d07567547ddec8eb084e8c0d7a59226a\n",
            "  Building wheel for pathtools (setup.py) ... \u001b[?25l\u001b[?25hdone\n",
            "  Created wheel for pathtools: filename=pathtools-0.1.2-py3-none-any.whl size=8807 sha256=1d1196b72c4ada493ce5fff9e7993484376983b9ddaea3dd4d84d5aa5c7d6816\n",
            "  Stored in directory: /root/.cache/pip/wheels/3e/31/09/fa59cef12cdcfecc627b3d24273699f390e71828921b2cbba2\n",
            "Successfully built subprocess32 pathtools\n",
            "Installing collected packages: smmap, gitdb, yaspin, subprocess32, shortuuid, sentry-sdk, pathtools, GitPython, docker-pycreds, configparser, wandb\n",
            "Successfully installed GitPython-3.1.24 configparser-5.1.0 docker-pycreds-0.4.0 gitdb-4.0.9 pathtools-0.1.2 sentry-sdk-1.5.0 shortuuid-1.0.8 smmap-5.0.0 subprocess32-3.5.4 wandb-0.12.7 yaspin-2.1.0\n"
          ]
        }
      ]
    },
    {
      "cell_type": "code",
      "metadata": {
        "colab": {
          "base_uri": "https://localhost:8080/",
          "height": 130
        },
        "id": "MnU5n6ToJfWS",
        "outputId": "c80c8b07-772d-4a07-d8b1-4d0d94618fea"
      },
      "source": [
        "wandb.init(project=\"data-science-420-final-project\")"
      ],
      "execution_count": 4,
      "outputs": [
        {
          "output_type": "display_data",
          "data": {
            "application/javascript": [
              "\n",
              "        window._wandbApiKey = new Promise((resolve, reject) => {\n",
              "            function loadScript(url) {\n",
              "            return new Promise(function(resolve, reject) {\n",
              "                let newScript = document.createElement(\"script\");\n",
              "                newScript.onerror = reject;\n",
              "                newScript.onload = resolve;\n",
              "                document.body.appendChild(newScript);\n",
              "                newScript.src = url;\n",
              "            });\n",
              "            }\n",
              "            loadScript(\"https://cdn.jsdelivr.net/npm/postmate/build/postmate.min.js\").then(() => {\n",
              "            const iframe = document.createElement('iframe')\n",
              "            iframe.style.cssText = \"width:0;height:0;border:none\"\n",
              "            document.body.appendChild(iframe)\n",
              "            const handshake = new Postmate({\n",
              "                container: iframe,\n",
              "                url: 'https://wandb.ai/authorize'\n",
              "            });\n",
              "            const timeout = setTimeout(() => reject(\"Couldn't auto authenticate\"), 5000)\n",
              "            handshake.then(function(child) {\n",
              "                child.on('authorize', data => {\n",
              "                    clearTimeout(timeout)\n",
              "                    resolve(data)\n",
              "                });\n",
              "            });\n",
              "            })\n",
              "        });\n",
              "    "
            ],
            "text/plain": [
              "<IPython.core.display.Javascript object>"
            ]
          },
          "metadata": {}
        },
        {
          "output_type": "stream",
          "name": "stderr",
          "text": [
            "\u001b[34m\u001b[1mwandb\u001b[0m: You can find your API key in your browser here: https://wandb.ai/authorize\n"
          ]
        },
        {
          "name": "stdout",
          "output_type": "stream",
          "text": [
            "wandb: Paste an API key from your profile and hit enter, or press ctrl+c to quit: ··········\n"
          ]
        },
        {
          "output_type": "stream",
          "name": "stderr",
          "text": [
            "\u001b[34m\u001b[1mwandb\u001b[0m: Appending key for api.wandb.ai to your netrc file: /root/.netrc\n"
          ]
        },
        {
          "output_type": "display_data",
          "data": {
            "text/html": [
              "\n",
              "                    Syncing run <strong><a href=\"https://wandb.ai/zeinabmostafavi/data-science-420-final-project/runs/2kthib87\" target=\"_blank\">pretty-morning-2</a></strong> to <a href=\"https://wandb.ai/zeinabmostafavi/data-science-420-final-project\" target=\"_blank\">Weights & Biases</a> (<a href=\"https://docs.wandb.com/integrations/jupyter.html\" target=\"_blank\">docs</a>).<br/>\n",
              "\n",
              "                "
            ],
            "text/plain": [
              "<IPython.core.display.HTML object>"
            ]
          },
          "metadata": {}
        },
        {
          "output_type": "execute_result",
          "data": {
            "text/plain": [
              "<wandb.sdk.wandb_run.Run at 0x7fd26612e9d0>"
            ],
            "text/html": [
              "<button onClick=\"this.nextSibling.style.display='block';this.style.display='none';\">Display W&B run</button><iframe src=\"https://wandb.ai/zeinabmostafavi/data-science-420-final-project/runs/2kthib87?jupyter=true\" style=\"border:none;width:100%;height:420px;display:none;\"></iframe>"
            ]
          },
          "metadata": {},
          "execution_count": 4
        }
      ]
    },
    {
      "cell_type": "markdown",
      "metadata": {
        "id": "t45jnKCIJJUX"
      },
      "source": [
        "## DS420 Final Project\n",
        "## NIH Chest X-RAY Image Disease Classification"
      ]
    },
    {
      "cell_type": "markdown",
      "metadata": {
        "id": "gEUBjdAwJJUb"
      },
      "source": [
        "#### Team members: Yordanos Alemu, Kelsey Dinndorf, Jorania Ferreria Alves, & Rabab Mohamed Nafe"
      ]
    },
    {
      "cell_type": "markdown",
      "metadata": {
        "id": "3zqwAtJDJJUd"
      },
      "source": [
        "Data: https://www.kaggle.com/nickuzmenkov/nih-chest-xrays-tfrecords?select=preprocessed_data.csv\n",
        "\n",
        "The dataset includes chest x-ray images to classify different diagnoses of diseases. There are 15 categories of diagnosis and 256 images (600 x 600). Additional patient information like age, sex, etc. are not included.\n",
        "\n",
        "Disease Categories: None, Atelectasis, Consolidation, Infiltration, Pneumothorax, Edema, Emphysema, Fibrosis, Effusion, Pneumonia, Pleural Thickening, Cardiomegaly, Nodule, Mass, Hernia"
      ]
    },
    {
      "cell_type": "code",
      "metadata": {
        "_cell_guid": "b1076dfc-b9ad-4769-8c92-a6c4dae69d19",
        "_uuid": "8f2839f25d086af736a60e9eeb907d3b93b6e0e5",
        "trusted": true,
        "colab": {
          "base_uri": "https://localhost:8080/"
        },
        "id": "QzNtZJkzJJUg",
        "outputId": "3759f170-f81c-40f2-ddd6-02f06905afce"
      },
      "source": [
        "#import libraries\n",
        "\n",
        "import numpy as np \n",
        "import pandas as pd\n",
        "import seaborn as sns\n",
        "import os\n",
        "import tensorflow as tf\n",
        "import matplotlib.pyplot as plt\n",
        "from sklearn.preprocessing import StandardScaler\n",
        "\n",
        "# Input data files are available in the read-only \"../input/\" directory\n",
        "# For example, running this (by clicking run or pressing Shift+Enter) will list all files under the input directory\n",
        "\n",
        "import os\n",
        "for dirname, _, filenames in os.walk('/content/nih-chest-xrays-tfrecords'):\n",
        "    for filename in filenames:\n",
        "        print(os.path.join(dirname, filename))\n",
        "\n",
        "# You can write up to 20GB to the current directory (/kaggle/working/) that gets preserved as output when you create a version using \"Save & Run All\" \n",
        "# You can also write temporary files to /kaggle/temp/, but they won't be saved outside of the current session"
      ],
      "execution_count": 5,
      "outputs": [
        {
          "output_type": "stream",
          "name": "stdout",
          "text": [
            "/content/nih-chest-xrays-tfrecords/preprocessed_data.csv\n",
            "/content/nih-chest-xrays-tfrecords/data/053-438.tfrec\n",
            "/content/nih-chest-xrays-tfrecords/data/120-438.tfrec\n",
            "/content/nih-chest-xrays-tfrecords/data/096-438.tfrec\n",
            "/content/nih-chest-xrays-tfrecords/data/088-438.tfrec\n",
            "/content/nih-chest-xrays-tfrecords/data/196-438.tfrec\n",
            "/content/nih-chest-xrays-tfrecords/data/098-438.tfrec\n",
            "/content/nih-chest-xrays-tfrecords/data/009-438.tfrec\n",
            "/content/nih-chest-xrays-tfrecords/data/081-438.tfrec\n",
            "/content/nih-chest-xrays-tfrecords/data/069-438.tfrec\n",
            "/content/nih-chest-xrays-tfrecords/data/202-438.tfrec\n",
            "/content/nih-chest-xrays-tfrecords/data/172-438.tfrec\n",
            "/content/nih-chest-xrays-tfrecords/data/119-438.tfrec\n",
            "/content/nih-chest-xrays-tfrecords/data/199-438.tfrec\n",
            "/content/nih-chest-xrays-tfrecords/data/213-438.tfrec\n",
            "/content/nih-chest-xrays-tfrecords/data/219-438.tfrec\n",
            "/content/nih-chest-xrays-tfrecords/data/040-438.tfrec\n",
            "/content/nih-chest-xrays-tfrecords/data/177-438.tfrec\n",
            "/content/nih-chest-xrays-tfrecords/data/187-438.tfrec\n",
            "/content/nih-chest-xrays-tfrecords/data/139-438.tfrec\n",
            "/content/nih-chest-xrays-tfrecords/data/251-437.tfrec\n",
            "/content/nih-chest-xrays-tfrecords/data/205-438.tfrec\n",
            "/content/nih-chest-xrays-tfrecords/data/051-438.tfrec\n",
            "/content/nih-chest-xrays-tfrecords/data/052-438.tfrec\n",
            "/content/nih-chest-xrays-tfrecords/data/111-438.tfrec\n",
            "/content/nih-chest-xrays-tfrecords/data/080-438.tfrec\n",
            "/content/nih-chest-xrays-tfrecords/data/031-438.tfrec\n",
            "/content/nih-chest-xrays-tfrecords/data/169-438.tfrec\n",
            "/content/nih-chest-xrays-tfrecords/data/211-438.tfrec\n",
            "/content/nih-chest-xrays-tfrecords/data/090-438.tfrec\n",
            "/content/nih-chest-xrays-tfrecords/data/033-438.tfrec\n",
            "/content/nih-chest-xrays-tfrecords/data/084-438.tfrec\n",
            "/content/nih-chest-xrays-tfrecords/data/123-438.tfrec\n",
            "/content/nih-chest-xrays-tfrecords/data/034-438.tfrec\n",
            "/content/nih-chest-xrays-tfrecords/data/235-438.tfrec\n",
            "/content/nih-chest-xrays-tfrecords/data/103-438.tfrec\n",
            "/content/nih-chest-xrays-tfrecords/data/224-438.tfrec\n",
            "/content/nih-chest-xrays-tfrecords/data/086-438.tfrec\n",
            "/content/nih-chest-xrays-tfrecords/data/167-438.tfrec\n",
            "/content/nih-chest-xrays-tfrecords/data/017-438.tfrec\n",
            "/content/nih-chest-xrays-tfrecords/data/042-438.tfrec\n",
            "/content/nih-chest-xrays-tfrecords/data/059-438.tfrec\n",
            "/content/nih-chest-xrays-tfrecords/data/044-438.tfrec\n",
            "/content/nih-chest-xrays-tfrecords/data/250-437.tfrec\n",
            "/content/nih-chest-xrays-tfrecords/data/234-438.tfrec\n",
            "/content/nih-chest-xrays-tfrecords/data/171-438.tfrec\n",
            "/content/nih-chest-xrays-tfrecords/data/091-438.tfrec\n",
            "/content/nih-chest-xrays-tfrecords/data/225-438.tfrec\n",
            "/content/nih-chest-xrays-tfrecords/data/191-438.tfrec\n",
            "/content/nih-chest-xrays-tfrecords/data/153-438.tfrec\n",
            "/content/nih-chest-xrays-tfrecords/data/201-438.tfrec\n",
            "/content/nih-chest-xrays-tfrecords/data/087-438.tfrec\n",
            "/content/nih-chest-xrays-tfrecords/data/209-438.tfrec\n",
            "/content/nih-chest-xrays-tfrecords/data/083-438.tfrec\n",
            "/content/nih-chest-xrays-tfrecords/data/125-438.tfrec\n",
            "/content/nih-chest-xrays-tfrecords/data/193-438.tfrec\n",
            "/content/nih-chest-xrays-tfrecords/data/050-438.tfrec\n",
            "/content/nih-chest-xrays-tfrecords/data/238-438.tfrec\n",
            "/content/nih-chest-xrays-tfrecords/data/011-438.tfrec\n",
            "/content/nih-chest-xrays-tfrecords/data/055-438.tfrec\n",
            "/content/nih-chest-xrays-tfrecords/data/060-438.tfrec\n",
            "/content/nih-chest-xrays-tfrecords/data/229-438.tfrec\n",
            "/content/nih-chest-xrays-tfrecords/data/255-437.tfrec\n",
            "/content/nih-chest-xrays-tfrecords/data/188-438.tfrec\n",
            "/content/nih-chest-xrays-tfrecords/data/057-438.tfrec\n",
            "/content/nih-chest-xrays-tfrecords/data/161-438.tfrec\n",
            "/content/nih-chest-xrays-tfrecords/data/223-438.tfrec\n",
            "/content/nih-chest-xrays-tfrecords/data/016-438.tfrec\n",
            "/content/nih-chest-xrays-tfrecords/data/041-438.tfrec\n",
            "/content/nih-chest-xrays-tfrecords/data/043-438.tfrec\n",
            "/content/nih-chest-xrays-tfrecords/data/226-438.tfrec\n",
            "/content/nih-chest-xrays-tfrecords/data/036-438.tfrec\n",
            "/content/nih-chest-xrays-tfrecords/data/026-438.tfrec\n",
            "/content/nih-chest-xrays-tfrecords/data/178-438.tfrec\n",
            "/content/nih-chest-xrays-tfrecords/data/170-438.tfrec\n",
            "/content/nih-chest-xrays-tfrecords/data/101-438.tfrec\n",
            "/content/nih-chest-xrays-tfrecords/data/104-438.tfrec\n",
            "/content/nih-chest-xrays-tfrecords/data/239-438.tfrec\n",
            "/content/nih-chest-xrays-tfrecords/data/233-438.tfrec\n",
            "/content/nih-chest-xrays-tfrecords/data/074-438.tfrec\n",
            "/content/nih-chest-xrays-tfrecords/data/089-438.tfrec\n",
            "/content/nih-chest-xrays-tfrecords/data/244-438.tfrec\n",
            "/content/nih-chest-xrays-tfrecords/data/130-438.tfrec\n",
            "/content/nih-chest-xrays-tfrecords/data/148-438.tfrec\n",
            "/content/nih-chest-xrays-tfrecords/data/216-438.tfrec\n",
            "/content/nih-chest-xrays-tfrecords/data/210-438.tfrec\n",
            "/content/nih-chest-xrays-tfrecords/data/099-438.tfrec\n",
            "/content/nih-chest-xrays-tfrecords/data/131-438.tfrec\n",
            "/content/nih-chest-xrays-tfrecords/data/062-438.tfrec\n",
            "/content/nih-chest-xrays-tfrecords/data/212-438.tfrec\n",
            "/content/nih-chest-xrays-tfrecords/data/168-438.tfrec\n",
            "/content/nih-chest-xrays-tfrecords/data/082-438.tfrec\n",
            "/content/nih-chest-xrays-tfrecords/data/095-438.tfrec\n",
            "/content/nih-chest-xrays-tfrecords/data/085-438.tfrec\n",
            "/content/nih-chest-xrays-tfrecords/data/064-438.tfrec\n",
            "/content/nih-chest-xrays-tfrecords/data/245-438.tfrec\n",
            "/content/nih-chest-xrays-tfrecords/data/207-438.tfrec\n",
            "/content/nih-chest-xrays-tfrecords/data/078-438.tfrec\n",
            "/content/nih-chest-xrays-tfrecords/data/134-438.tfrec\n",
            "/content/nih-chest-xrays-tfrecords/data/112-438.tfrec\n",
            "/content/nih-chest-xrays-tfrecords/data/102-438.tfrec\n",
            "/content/nih-chest-xrays-tfrecords/data/010-438.tfrec\n",
            "/content/nih-chest-xrays-tfrecords/data/200-438.tfrec\n",
            "/content/nih-chest-xrays-tfrecords/data/184-438.tfrec\n",
            "/content/nih-chest-xrays-tfrecords/data/220-438.tfrec\n",
            "/content/nih-chest-xrays-tfrecords/data/137-438.tfrec\n",
            "/content/nih-chest-xrays-tfrecords/data/122-438.tfrec\n",
            "/content/nih-chest-xrays-tfrecords/data/018-438.tfrec\n",
            "/content/nih-chest-xrays-tfrecords/data/135-438.tfrec\n",
            "/content/nih-chest-xrays-tfrecords/data/164-438.tfrec\n",
            "/content/nih-chest-xrays-tfrecords/data/156-438.tfrec\n",
            "/content/nih-chest-xrays-tfrecords/data/003-438.tfrec\n",
            "/content/nih-chest-xrays-tfrecords/data/228-438.tfrec\n",
            "/content/nih-chest-xrays-tfrecords/data/015-438.tfrec\n",
            "/content/nih-chest-xrays-tfrecords/data/182-438.tfrec\n",
            "/content/nih-chest-xrays-tfrecords/data/097-438.tfrec\n",
            "/content/nih-chest-xrays-tfrecords/data/163-438.tfrec\n",
            "/content/nih-chest-xrays-tfrecords/data/109-438.tfrec\n",
            "/content/nih-chest-xrays-tfrecords/data/023-438.tfrec\n",
            "/content/nih-chest-xrays-tfrecords/data/006-438.tfrec\n",
            "/content/nih-chest-xrays-tfrecords/data/136-438.tfrec\n",
            "/content/nih-chest-xrays-tfrecords/data/061-438.tfrec\n",
            "/content/nih-chest-xrays-tfrecords/data/030-438.tfrec\n",
            "/content/nih-chest-xrays-tfrecords/data/046-438.tfrec\n",
            "/content/nih-chest-xrays-tfrecords/data/181-438.tfrec\n",
            "/content/nih-chest-xrays-tfrecords/data/185-438.tfrec\n",
            "/content/nih-chest-xrays-tfrecords/data/093-438.tfrec\n",
            "/content/nih-chest-xrays-tfrecords/data/157-438.tfrec\n",
            "/content/nih-chest-xrays-tfrecords/data/115-438.tfrec\n",
            "/content/nih-chest-xrays-tfrecords/data/076-438.tfrec\n",
            "/content/nih-chest-xrays-tfrecords/data/179-438.tfrec\n",
            "/content/nih-chest-xrays-tfrecords/data/065-438.tfrec\n",
            "/content/nih-chest-xrays-tfrecords/data/252-437.tfrec\n",
            "/content/nih-chest-xrays-tfrecords/data/186-438.tfrec\n",
            "/content/nih-chest-xrays-tfrecords/data/194-438.tfrec\n",
            "/content/nih-chest-xrays-tfrecords/data/113-438.tfrec\n",
            "/content/nih-chest-xrays-tfrecords/data/158-438.tfrec\n",
            "/content/nih-chest-xrays-tfrecords/data/066-438.tfrec\n",
            "/content/nih-chest-xrays-tfrecords/data/029-438.tfrec\n",
            "/content/nih-chest-xrays-tfrecords/data/056-438.tfrec\n",
            "/content/nih-chest-xrays-tfrecords/data/189-438.tfrec\n",
            "/content/nih-chest-xrays-tfrecords/data/204-438.tfrec\n",
            "/content/nih-chest-xrays-tfrecords/data/075-438.tfrec\n",
            "/content/nih-chest-xrays-tfrecords/data/254-437.tfrec\n",
            "/content/nih-chest-xrays-tfrecords/data/142-438.tfrec\n",
            "/content/nih-chest-xrays-tfrecords/data/071-438.tfrec\n",
            "/content/nih-chest-xrays-tfrecords/data/155-438.tfrec\n",
            "/content/nih-chest-xrays-tfrecords/data/217-438.tfrec\n",
            "/content/nih-chest-xrays-tfrecords/data/249-437.tfrec\n",
            "/content/nih-chest-xrays-tfrecords/data/048-438.tfrec\n",
            "/content/nih-chest-xrays-tfrecords/data/138-438.tfrec\n",
            "/content/nih-chest-xrays-tfrecords/data/190-438.tfrec\n",
            "/content/nih-chest-xrays-tfrecords/data/236-438.tfrec\n",
            "/content/nih-chest-xrays-tfrecords/data/002-438.tfrec\n",
            "/content/nih-chest-xrays-tfrecords/data/037-438.tfrec\n",
            "/content/nih-chest-xrays-tfrecords/data/227-438.tfrec\n",
            "/content/nih-chest-xrays-tfrecords/data/116-438.tfrec\n",
            "/content/nih-chest-xrays-tfrecords/data/247-438.tfrec\n",
            "/content/nih-chest-xrays-tfrecords/data/014-438.tfrec\n",
            "/content/nih-chest-xrays-tfrecords/data/001-438.tfrec\n",
            "/content/nih-chest-xrays-tfrecords/data/049-438.tfrec\n",
            "/content/nih-chest-xrays-tfrecords/data/107-438.tfrec\n",
            "/content/nih-chest-xrays-tfrecords/data/173-438.tfrec\n",
            "/content/nih-chest-xrays-tfrecords/data/165-438.tfrec\n",
            "/content/nih-chest-xrays-tfrecords/data/240-438.tfrec\n",
            "/content/nih-chest-xrays-tfrecords/data/117-438.tfrec\n",
            "/content/nih-chest-xrays-tfrecords/data/230-438.tfrec\n",
            "/content/nih-chest-xrays-tfrecords/data/100-438.tfrec\n",
            "/content/nih-chest-xrays-tfrecords/data/028-438.tfrec\n",
            "/content/nih-chest-xrays-tfrecords/data/133-438.tfrec\n",
            "/content/nih-chest-xrays-tfrecords/data/108-438.tfrec\n",
            "/content/nih-chest-xrays-tfrecords/data/126-438.tfrec\n",
            "/content/nih-chest-xrays-tfrecords/data/121-438.tfrec\n",
            "/content/nih-chest-xrays-tfrecords/data/114-438.tfrec\n",
            "/content/nih-chest-xrays-tfrecords/data/248-437.tfrec\n",
            "/content/nih-chest-xrays-tfrecords/data/147-438.tfrec\n",
            "/content/nih-chest-xrays-tfrecords/data/106-438.tfrec\n",
            "/content/nih-chest-xrays-tfrecords/data/180-438.tfrec\n",
            "/content/nih-chest-xrays-tfrecords/data/242-438.tfrec\n",
            "/content/nih-chest-xrays-tfrecords/data/154-438.tfrec\n",
            "/content/nih-chest-xrays-tfrecords/data/198-438.tfrec\n",
            "/content/nih-chest-xrays-tfrecords/data/110-438.tfrec\n",
            "/content/nih-chest-xrays-tfrecords/data/152-438.tfrec\n",
            "/content/nih-chest-xrays-tfrecords/data/159-438.tfrec\n",
            "/content/nih-chest-xrays-tfrecords/data/221-438.tfrec\n",
            "/content/nih-chest-xrays-tfrecords/data/063-438.tfrec\n",
            "/content/nih-chest-xrays-tfrecords/data/197-438.tfrec\n",
            "/content/nih-chest-xrays-tfrecords/data/143-438.tfrec\n",
            "/content/nih-chest-xrays-tfrecords/data/243-438.tfrec\n",
            "/content/nih-chest-xrays-tfrecords/data/174-438.tfrec\n",
            "/content/nih-chest-xrays-tfrecords/data/013-438.tfrec\n",
            "/content/nih-chest-xrays-tfrecords/data/183-438.tfrec\n",
            "/content/nih-chest-xrays-tfrecords/data/092-438.tfrec\n",
            "/content/nih-chest-xrays-tfrecords/data/047-438.tfrec\n",
            "/content/nih-chest-xrays-tfrecords/data/004-438.tfrec\n",
            "/content/nih-chest-xrays-tfrecords/data/151-438.tfrec\n",
            "/content/nih-chest-xrays-tfrecords/data/146-438.tfrec\n",
            "/content/nih-chest-xrays-tfrecords/data/141-438.tfrec\n",
            "/content/nih-chest-xrays-tfrecords/data/222-438.tfrec\n",
            "/content/nih-chest-xrays-tfrecords/data/118-438.tfrec\n",
            "/content/nih-chest-xrays-tfrecords/data/000-438.tfrec\n",
            "/content/nih-chest-xrays-tfrecords/data/160-438.tfrec\n",
            "/content/nih-chest-xrays-tfrecords/data/253-437.tfrec\n",
            "/content/nih-chest-xrays-tfrecords/data/073-438.tfrec\n",
            "/content/nih-chest-xrays-tfrecords/data/012-438.tfrec\n",
            "/content/nih-chest-xrays-tfrecords/data/079-438.tfrec\n",
            "/content/nih-chest-xrays-tfrecords/data/022-438.tfrec\n",
            "/content/nih-chest-xrays-tfrecords/data/150-438.tfrec\n",
            "/content/nih-chest-xrays-tfrecords/data/054-438.tfrec\n",
            "/content/nih-chest-xrays-tfrecords/data/045-438.tfrec\n",
            "/content/nih-chest-xrays-tfrecords/data/246-438.tfrec\n",
            "/content/nih-chest-xrays-tfrecords/data/144-438.tfrec\n",
            "/content/nih-chest-xrays-tfrecords/data/149-438.tfrec\n",
            "/content/nih-chest-xrays-tfrecords/data/132-438.tfrec\n",
            "/content/nih-chest-xrays-tfrecords/data/206-438.tfrec\n",
            "/content/nih-chest-xrays-tfrecords/data/127-438.tfrec\n",
            "/content/nih-chest-xrays-tfrecords/data/077-438.tfrec\n",
            "/content/nih-chest-xrays-tfrecords/data/068-438.tfrec\n",
            "/content/nih-chest-xrays-tfrecords/data/070-438.tfrec\n",
            "/content/nih-chest-xrays-tfrecords/data/008-438.tfrec\n",
            "/content/nih-chest-xrays-tfrecords/data/192-438.tfrec\n",
            "/content/nih-chest-xrays-tfrecords/data/140-438.tfrec\n",
            "/content/nih-chest-xrays-tfrecords/data/129-438.tfrec\n",
            "/content/nih-chest-xrays-tfrecords/data/021-438.tfrec\n",
            "/content/nih-chest-xrays-tfrecords/data/035-438.tfrec\n",
            "/content/nih-chest-xrays-tfrecords/data/024-438.tfrec\n",
            "/content/nih-chest-xrays-tfrecords/data/038-438.tfrec\n",
            "/content/nih-chest-xrays-tfrecords/data/058-438.tfrec\n",
            "/content/nih-chest-xrays-tfrecords/data/019-438.tfrec\n",
            "/content/nih-chest-xrays-tfrecords/data/218-438.tfrec\n",
            "/content/nih-chest-xrays-tfrecords/data/105-438.tfrec\n",
            "/content/nih-chest-xrays-tfrecords/data/007-438.tfrec\n",
            "/content/nih-chest-xrays-tfrecords/data/166-438.tfrec\n",
            "/content/nih-chest-xrays-tfrecords/data/241-438.tfrec\n",
            "/content/nih-chest-xrays-tfrecords/data/176-438.tfrec\n",
            "/content/nih-chest-xrays-tfrecords/data/124-438.tfrec\n",
            "/content/nih-chest-xrays-tfrecords/data/203-438.tfrec\n",
            "/content/nih-chest-xrays-tfrecords/data/067-438.tfrec\n",
            "/content/nih-chest-xrays-tfrecords/data/231-438.tfrec\n",
            "/content/nih-chest-xrays-tfrecords/data/027-438.tfrec\n",
            "/content/nih-chest-xrays-tfrecords/data/072-438.tfrec\n",
            "/content/nih-chest-xrays-tfrecords/data/032-438.tfrec\n",
            "/content/nih-chest-xrays-tfrecords/data/214-438.tfrec\n",
            "/content/nih-chest-xrays-tfrecords/data/094-438.tfrec\n",
            "/content/nih-chest-xrays-tfrecords/data/237-438.tfrec\n",
            "/content/nih-chest-xrays-tfrecords/data/128-438.tfrec\n",
            "/content/nih-chest-xrays-tfrecords/data/195-438.tfrec\n",
            "/content/nih-chest-xrays-tfrecords/data/005-438.tfrec\n",
            "/content/nih-chest-xrays-tfrecords/data/232-438.tfrec\n",
            "/content/nih-chest-xrays-tfrecords/data/208-438.tfrec\n",
            "/content/nih-chest-xrays-tfrecords/data/215-438.tfrec\n",
            "/content/nih-chest-xrays-tfrecords/data/175-438.tfrec\n",
            "/content/nih-chest-xrays-tfrecords/data/039-438.tfrec\n",
            "/content/nih-chest-xrays-tfrecords/data/025-438.tfrec\n",
            "/content/nih-chest-xrays-tfrecords/data/020-438.tfrec\n",
            "/content/nih-chest-xrays-tfrecords/data/145-438.tfrec\n",
            "/content/nih-chest-xrays-tfrecords/data/162-438.tfrec\n"
          ]
        }
      ]
    },
    {
      "cell_type": "markdown",
      "metadata": {
        "id": "W0NFE5l1JJUk"
      },
      "source": [
        "### Exploratory Data Analysis and Visualization"
      ]
    },
    {
      "cell_type": "code",
      "metadata": {
        "trusted": true,
        "colab": {
          "base_uri": "https://localhost:8080/",
          "height": 504
        },
        "id": "mmzo1vXdJJUm",
        "outputId": "01d9cc21-32f9-48eb-d64f-c9ea6b4730f2"
      },
      "source": [
        "# Read the disease csv file (contains True/False)\n",
        "df= pd.read_csv('/content/nih-chest-xrays-tfrecords/preprocessed_data.csv')\n",
        "df.head()"
      ],
      "execution_count": 6,
      "outputs": [
        {
          "output_type": "execute_result",
          "data": {
            "text/html": [
              "<div>\n",
              "<style scoped>\n",
              "    .dataframe tbody tr th:only-of-type {\n",
              "        vertical-align: middle;\n",
              "    }\n",
              "\n",
              "    .dataframe tbody tr th {\n",
              "        vertical-align: top;\n",
              "    }\n",
              "\n",
              "    .dataframe thead th {\n",
              "        text-align: right;\n",
              "    }\n",
              "</style>\n",
              "<table border=\"1\" class=\"dataframe\">\n",
              "  <thead>\n",
              "    <tr style=\"text-align: right;\">\n",
              "      <th></th>\n",
              "      <th>Unnamed: 0</th>\n",
              "      <th>No Finding</th>\n",
              "      <th>Atelectasis</th>\n",
              "      <th>Consolidation</th>\n",
              "      <th>Infiltration</th>\n",
              "      <th>Pneumothorax</th>\n",
              "      <th>Edema</th>\n",
              "      <th>Emphysema</th>\n",
              "      <th>Fibrosis</th>\n",
              "      <th>Effusion</th>\n",
              "      <th>Pneumonia</th>\n",
              "      <th>Pleural_Thickening</th>\n",
              "      <th>Cardiomegaly</th>\n",
              "      <th>Nodule</th>\n",
              "      <th>Mass</th>\n",
              "      <th>Hernia</th>\n",
              "    </tr>\n",
              "  </thead>\n",
              "  <tbody>\n",
              "    <tr>\n",
              "      <th>0</th>\n",
              "      <td>../input/data/images_001/images/00000001_000.png</td>\n",
              "      <td>False</td>\n",
              "      <td>False</td>\n",
              "      <td>False</td>\n",
              "      <td>False</td>\n",
              "      <td>False</td>\n",
              "      <td>False</td>\n",
              "      <td>False</td>\n",
              "      <td>False</td>\n",
              "      <td>False</td>\n",
              "      <td>False</td>\n",
              "      <td>False</td>\n",
              "      <td>True</td>\n",
              "      <td>False</td>\n",
              "      <td>False</td>\n",
              "      <td>False</td>\n",
              "    </tr>\n",
              "    <tr>\n",
              "      <th>1</th>\n",
              "      <td>../input/data/images_001/images/00000001_001.png</td>\n",
              "      <td>False</td>\n",
              "      <td>False</td>\n",
              "      <td>False</td>\n",
              "      <td>False</td>\n",
              "      <td>False</td>\n",
              "      <td>False</td>\n",
              "      <td>True</td>\n",
              "      <td>False</td>\n",
              "      <td>False</td>\n",
              "      <td>False</td>\n",
              "      <td>False</td>\n",
              "      <td>True</td>\n",
              "      <td>False</td>\n",
              "      <td>False</td>\n",
              "      <td>False</td>\n",
              "    </tr>\n",
              "    <tr>\n",
              "      <th>2</th>\n",
              "      <td>../input/data/images_001/images/00000001_002.png</td>\n",
              "      <td>False</td>\n",
              "      <td>False</td>\n",
              "      <td>False</td>\n",
              "      <td>False</td>\n",
              "      <td>False</td>\n",
              "      <td>False</td>\n",
              "      <td>False</td>\n",
              "      <td>False</td>\n",
              "      <td>True</td>\n",
              "      <td>False</td>\n",
              "      <td>False</td>\n",
              "      <td>True</td>\n",
              "      <td>False</td>\n",
              "      <td>False</td>\n",
              "      <td>False</td>\n",
              "    </tr>\n",
              "    <tr>\n",
              "      <th>3</th>\n",
              "      <td>../input/data/images_001/images/00000002_000.png</td>\n",
              "      <td>True</td>\n",
              "      <td>False</td>\n",
              "      <td>False</td>\n",
              "      <td>False</td>\n",
              "      <td>False</td>\n",
              "      <td>False</td>\n",
              "      <td>False</td>\n",
              "      <td>False</td>\n",
              "      <td>False</td>\n",
              "      <td>False</td>\n",
              "      <td>False</td>\n",
              "      <td>False</td>\n",
              "      <td>False</td>\n",
              "      <td>False</td>\n",
              "      <td>False</td>\n",
              "    </tr>\n",
              "    <tr>\n",
              "      <th>4</th>\n",
              "      <td>../input/data/images_001/images/00000003_000.png</td>\n",
              "      <td>False</td>\n",
              "      <td>False</td>\n",
              "      <td>False</td>\n",
              "      <td>False</td>\n",
              "      <td>False</td>\n",
              "      <td>False</td>\n",
              "      <td>False</td>\n",
              "      <td>False</td>\n",
              "      <td>False</td>\n",
              "      <td>False</td>\n",
              "      <td>False</td>\n",
              "      <td>False</td>\n",
              "      <td>False</td>\n",
              "      <td>False</td>\n",
              "      <td>True</td>\n",
              "    </tr>\n",
              "  </tbody>\n",
              "</table>\n",
              "</div>"
            ],
            "text/plain": [
              "                                         Unnamed: 0  No Finding  ...   Mass  Hernia\n",
              "0  ../input/data/images_001/images/00000001_000.png       False  ...  False   False\n",
              "1  ../input/data/images_001/images/00000001_001.png       False  ...  False   False\n",
              "2  ../input/data/images_001/images/00000001_002.png       False  ...  False   False\n",
              "3  ../input/data/images_001/images/00000002_000.png        True  ...  False   False\n",
              "4  ../input/data/images_001/images/00000003_000.png       False  ...  False    True\n",
              "\n",
              "[5 rows x 16 columns]"
            ]
          },
          "metadata": {},
          "execution_count": 6
        }
      ]
    },
    {
      "cell_type": "code",
      "metadata": {
        "trusted": true,
        "id": "jDikfM1IJJUo"
      },
      "source": [
        "#Define disease categories as data\n",
        "data= df.iloc[:,1:]"
      ],
      "execution_count": 7,
      "outputs": []
    },
    {
      "cell_type": "code",
      "metadata": {
        "trusted": true,
        "colab": {
          "base_uri": "https://localhost:8080/",
          "height": 461
        },
        "id": "AkaSmXgNJJUr",
        "outputId": "f1041e80-2846-46a7-a2bc-f33e0da59381"
      },
      "source": [
        "data"
      ],
      "execution_count": 8,
      "outputs": [
        {
          "output_type": "execute_result",
          "data": {
            "text/html": [
              "<div>\n",
              "<style scoped>\n",
              "    .dataframe tbody tr th:only-of-type {\n",
              "        vertical-align: middle;\n",
              "    }\n",
              "\n",
              "    .dataframe tbody tr th {\n",
              "        vertical-align: top;\n",
              "    }\n",
              "\n",
              "    .dataframe thead th {\n",
              "        text-align: right;\n",
              "    }\n",
              "</style>\n",
              "<table border=\"1\" class=\"dataframe\">\n",
              "  <thead>\n",
              "    <tr style=\"text-align: right;\">\n",
              "      <th></th>\n",
              "      <th>No Finding</th>\n",
              "      <th>Atelectasis</th>\n",
              "      <th>Consolidation</th>\n",
              "      <th>Infiltration</th>\n",
              "      <th>Pneumothorax</th>\n",
              "      <th>Edema</th>\n",
              "      <th>Emphysema</th>\n",
              "      <th>Fibrosis</th>\n",
              "      <th>Effusion</th>\n",
              "      <th>Pneumonia</th>\n",
              "      <th>Pleural_Thickening</th>\n",
              "      <th>Cardiomegaly</th>\n",
              "      <th>Nodule</th>\n",
              "      <th>Mass</th>\n",
              "      <th>Hernia</th>\n",
              "    </tr>\n",
              "  </thead>\n",
              "  <tbody>\n",
              "    <tr>\n",
              "      <th>0</th>\n",
              "      <td>False</td>\n",
              "      <td>False</td>\n",
              "      <td>False</td>\n",
              "      <td>False</td>\n",
              "      <td>False</td>\n",
              "      <td>False</td>\n",
              "      <td>False</td>\n",
              "      <td>False</td>\n",
              "      <td>False</td>\n",
              "      <td>False</td>\n",
              "      <td>False</td>\n",
              "      <td>True</td>\n",
              "      <td>False</td>\n",
              "      <td>False</td>\n",
              "      <td>False</td>\n",
              "    </tr>\n",
              "    <tr>\n",
              "      <th>1</th>\n",
              "      <td>False</td>\n",
              "      <td>False</td>\n",
              "      <td>False</td>\n",
              "      <td>False</td>\n",
              "      <td>False</td>\n",
              "      <td>False</td>\n",
              "      <td>True</td>\n",
              "      <td>False</td>\n",
              "      <td>False</td>\n",
              "      <td>False</td>\n",
              "      <td>False</td>\n",
              "      <td>True</td>\n",
              "      <td>False</td>\n",
              "      <td>False</td>\n",
              "      <td>False</td>\n",
              "    </tr>\n",
              "    <tr>\n",
              "      <th>2</th>\n",
              "      <td>False</td>\n",
              "      <td>False</td>\n",
              "      <td>False</td>\n",
              "      <td>False</td>\n",
              "      <td>False</td>\n",
              "      <td>False</td>\n",
              "      <td>False</td>\n",
              "      <td>False</td>\n",
              "      <td>True</td>\n",
              "      <td>False</td>\n",
              "      <td>False</td>\n",
              "      <td>True</td>\n",
              "      <td>False</td>\n",
              "      <td>False</td>\n",
              "      <td>False</td>\n",
              "    </tr>\n",
              "    <tr>\n",
              "      <th>3</th>\n",
              "      <td>True</td>\n",
              "      <td>False</td>\n",
              "      <td>False</td>\n",
              "      <td>False</td>\n",
              "      <td>False</td>\n",
              "      <td>False</td>\n",
              "      <td>False</td>\n",
              "      <td>False</td>\n",
              "      <td>False</td>\n",
              "      <td>False</td>\n",
              "      <td>False</td>\n",
              "      <td>False</td>\n",
              "      <td>False</td>\n",
              "      <td>False</td>\n",
              "      <td>False</td>\n",
              "    </tr>\n",
              "    <tr>\n",
              "      <th>4</th>\n",
              "      <td>False</td>\n",
              "      <td>False</td>\n",
              "      <td>False</td>\n",
              "      <td>False</td>\n",
              "      <td>False</td>\n",
              "      <td>False</td>\n",
              "      <td>False</td>\n",
              "      <td>False</td>\n",
              "      <td>False</td>\n",
              "      <td>False</td>\n",
              "      <td>False</td>\n",
              "      <td>False</td>\n",
              "      <td>False</td>\n",
              "      <td>False</td>\n",
              "      <td>True</td>\n",
              "    </tr>\n",
              "    <tr>\n",
              "      <th>...</th>\n",
              "      <td>...</td>\n",
              "      <td>...</td>\n",
              "      <td>...</td>\n",
              "      <td>...</td>\n",
              "      <td>...</td>\n",
              "      <td>...</td>\n",
              "      <td>...</td>\n",
              "      <td>...</td>\n",
              "      <td>...</td>\n",
              "      <td>...</td>\n",
              "      <td>...</td>\n",
              "      <td>...</td>\n",
              "      <td>...</td>\n",
              "      <td>...</td>\n",
              "      <td>...</td>\n",
              "    </tr>\n",
              "    <tr>\n",
              "      <th>112115</th>\n",
              "      <td>False</td>\n",
              "      <td>False</td>\n",
              "      <td>False</td>\n",
              "      <td>False</td>\n",
              "      <td>False</td>\n",
              "      <td>False</td>\n",
              "      <td>False</td>\n",
              "      <td>False</td>\n",
              "      <td>False</td>\n",
              "      <td>True</td>\n",
              "      <td>False</td>\n",
              "      <td>False</td>\n",
              "      <td>False</td>\n",
              "      <td>True</td>\n",
              "      <td>False</td>\n",
              "    </tr>\n",
              "    <tr>\n",
              "      <th>112116</th>\n",
              "      <td>True</td>\n",
              "      <td>False</td>\n",
              "      <td>False</td>\n",
              "      <td>False</td>\n",
              "      <td>False</td>\n",
              "      <td>False</td>\n",
              "      <td>False</td>\n",
              "      <td>False</td>\n",
              "      <td>False</td>\n",
              "      <td>False</td>\n",
              "      <td>False</td>\n",
              "      <td>False</td>\n",
              "      <td>False</td>\n",
              "      <td>False</td>\n",
              "      <td>False</td>\n",
              "    </tr>\n",
              "    <tr>\n",
              "      <th>112117</th>\n",
              "      <td>True</td>\n",
              "      <td>False</td>\n",
              "      <td>False</td>\n",
              "      <td>False</td>\n",
              "      <td>False</td>\n",
              "      <td>False</td>\n",
              "      <td>False</td>\n",
              "      <td>False</td>\n",
              "      <td>False</td>\n",
              "      <td>False</td>\n",
              "      <td>False</td>\n",
              "      <td>False</td>\n",
              "      <td>False</td>\n",
              "      <td>False</td>\n",
              "      <td>False</td>\n",
              "    </tr>\n",
              "    <tr>\n",
              "      <th>112118</th>\n",
              "      <td>True</td>\n",
              "      <td>False</td>\n",
              "      <td>False</td>\n",
              "      <td>False</td>\n",
              "      <td>False</td>\n",
              "      <td>False</td>\n",
              "      <td>False</td>\n",
              "      <td>False</td>\n",
              "      <td>False</td>\n",
              "      <td>False</td>\n",
              "      <td>False</td>\n",
              "      <td>False</td>\n",
              "      <td>False</td>\n",
              "      <td>False</td>\n",
              "      <td>False</td>\n",
              "    </tr>\n",
              "    <tr>\n",
              "      <th>112119</th>\n",
              "      <td>True</td>\n",
              "      <td>False</td>\n",
              "      <td>False</td>\n",
              "      <td>False</td>\n",
              "      <td>False</td>\n",
              "      <td>False</td>\n",
              "      <td>False</td>\n",
              "      <td>False</td>\n",
              "      <td>False</td>\n",
              "      <td>False</td>\n",
              "      <td>False</td>\n",
              "      <td>False</td>\n",
              "      <td>False</td>\n",
              "      <td>False</td>\n",
              "      <td>False</td>\n",
              "    </tr>\n",
              "  </tbody>\n",
              "</table>\n",
              "<p>112120 rows × 15 columns</p>\n",
              "</div>"
            ],
            "text/plain": [
              "        No Finding  Atelectasis  Consolidation  ...  Nodule   Mass  Hernia\n",
              "0            False        False          False  ...   False  False   False\n",
              "1            False        False          False  ...   False  False   False\n",
              "2            False        False          False  ...   False  False   False\n",
              "3             True        False          False  ...   False  False   False\n",
              "4            False        False          False  ...   False  False    True\n",
              "...            ...          ...            ...  ...     ...    ...     ...\n",
              "112115       False        False          False  ...   False   True   False\n",
              "112116        True        False          False  ...   False  False   False\n",
              "112117        True        False          False  ...   False  False   False\n",
              "112118        True        False          False  ...   False  False   False\n",
              "112119        True        False          False  ...   False  False   False\n",
              "\n",
              "[112120 rows x 15 columns]"
            ]
          },
          "metadata": {},
          "execution_count": 8
        }
      ]
    },
    {
      "cell_type": "code",
      "metadata": {
        "trusted": true,
        "colab": {
          "base_uri": "https://localhost:8080/"
        },
        "id": "MuYu2grdJJUs",
        "outputId": "c2f59f9a-6b55-4f10-9824-659f5f6c11ad"
      },
      "source": [
        "#Show data shape\n",
        "df.shape\n",
        "\n",
        "#There are 16 columns and 112,120 rows"
      ],
      "execution_count": 9,
      "outputs": [
        {
          "output_type": "execute_result",
          "data": {
            "text/plain": [
              "(112120, 16)"
            ]
          },
          "metadata": {},
          "execution_count": 9
        }
      ]
    },
    {
      "cell_type": "code",
      "metadata": {
        "trusted": true,
        "colab": {
          "base_uri": "https://localhost:8080/"
        },
        "id": "k5Y7bjv5JJUv",
        "outputId": "2f457147-3cf3-49b5-a76a-508bf63aa99f"
      },
      "source": [
        "# Show data info\n",
        "df.info()\n",
        "\n",
        "#There are no missing values\n",
        "#all of the attributes are type boolean"
      ],
      "execution_count": 10,
      "outputs": [
        {
          "output_type": "stream",
          "name": "stdout",
          "text": [
            "<class 'pandas.core.frame.DataFrame'>\n",
            "RangeIndex: 112120 entries, 0 to 112119\n",
            "Data columns (total 16 columns):\n",
            " #   Column              Non-Null Count   Dtype \n",
            "---  ------              --------------   ----- \n",
            " 0   Unnamed: 0          112120 non-null  object\n",
            " 1   No Finding          112120 non-null  bool  \n",
            " 2   Atelectasis         112120 non-null  bool  \n",
            " 3   Consolidation       112120 non-null  bool  \n",
            " 4   Infiltration        112120 non-null  bool  \n",
            " 5   Pneumothorax        112120 non-null  bool  \n",
            " 6   Edema               112120 non-null  bool  \n",
            " 7   Emphysema           112120 non-null  bool  \n",
            " 8   Fibrosis            112120 non-null  bool  \n",
            " 9   Effusion            112120 non-null  bool  \n",
            " 10  Pneumonia           112120 non-null  bool  \n",
            " 11  Pleural_Thickening  112120 non-null  bool  \n",
            " 12  Cardiomegaly        112120 non-null  bool  \n",
            " 13  Nodule              112120 non-null  bool  \n",
            " 14  Mass                112120 non-null  bool  \n",
            " 15  Hernia              112120 non-null  bool  \n",
            "dtypes: bool(15), object(1)\n",
            "memory usage: 2.5+ MB\n"
          ]
        }
      ]
    },
    {
      "cell_type": "code",
      "metadata": {
        "trusted": true,
        "colab": {
          "base_uri": "https://localhost:8080/",
          "height": 298
        },
        "id": "c7JAWprJJJUx",
        "outputId": "fa782559-4518-49de-cbcc-356b0df5a2e9"
      },
      "source": [
        "# Countplot of No finding category\n",
        "sns.countplot(x='No Finding', data=df)"
      ],
      "execution_count": 11,
      "outputs": [
        {
          "output_type": "execute_result",
          "data": {
            "text/plain": [
              "<matplotlib.axes._subplots.AxesSubplot at 0x7fd261c7a6d0>"
            ]
          },
          "metadata": {},
          "execution_count": 11
        },
        {
          "output_type": "display_data",
          "data": {
            "image/png": "[encoded data removed]",
            "text/plain": [
              "<Figure size 432x288 with 1 Axes>"
            ]
          },
          "metadata": {
            "needs_background": "light"
          }
        }
      ]
    },
    {
      "cell_type": "code",
      "metadata": {
        "trusted": true,
        "colab": {
          "base_uri": "https://localhost:8080/"
        },
        "id": "BvUUdYP-JJUz",
        "outputId": "8f5e3f9f-a6c2-4d3a-ead9-e3733510977c"
      },
      "source": [
        "#define data columns, number of columns, and character columns\n",
        "cols = data.columns\n",
        "num_cols = data._get_numeric_data().columns\n",
        "char_cols=list(set(cols) - set(num_cols))\n",
        "char_cols"
      ],
      "execution_count": 12,
      "outputs": [
        {
          "output_type": "execute_result",
          "data": {
            "text/plain": [
              "[]"
            ]
          },
          "metadata": {},
          "execution_count": 12
        }
      ]
    },
    {
      "cell_type": "code",
      "metadata": {
        "trusted": true,
        "id": "Qe4v1n1kJJU1"
      },
      "source": [
        "# 1-hot encoding\n",
        "from sklearn.preprocessing import LabelEncoder\n",
        "le= LabelEncoder()\n",
        "def encode(df):\n",
        "    for i in cols:\n",
        "        df[i]= le.fit_transform(df[i])\n",
        "    return df"
      ],
      "execution_count": 13,
      "outputs": []
    },
    {
      "cell_type": "code",
      "metadata": {
        "trusted": true,
        "colab": {
          "base_uri": "https://localhost:8080/",
          "height": 461
        },
        "id": "exQHtNIOJJU2",
        "outputId": "bb02c1cd-cd67-4451-a45a-16e5cce270c9"
      },
      "source": [
        "#1-hot encode the disease categories\n",
        "encode(data)"
      ],
      "execution_count": 14,
      "outputs": [
        {
          "output_type": "execute_result",
          "data": {
            "text/html": [
              "<div>\n",
              "<style scoped>\n",
              "    .dataframe tbody tr th:only-of-type {\n",
              "        vertical-align: middle;\n",
              "    }\n",
              "\n",
              "    .dataframe tbody tr th {\n",
              "        vertical-align: top;\n",
              "    }\n",
              "\n",
              "    .dataframe thead th {\n",
              "        text-align: right;\n",
              "    }\n",
              "</style>\n",
              "<table border=\"1\" class=\"dataframe\">\n",
              "  <thead>\n",
              "    <tr style=\"text-align: right;\">\n",
              "      <th></th>\n",
              "      <th>No Finding</th>\n",
              "      <th>Atelectasis</th>\n",
              "      <th>Consolidation</th>\n",
              "      <th>Infiltration</th>\n",
              "      <th>Pneumothorax</th>\n",
              "      <th>Edema</th>\n",
              "      <th>Emphysema</th>\n",
              "      <th>Fibrosis</th>\n",
              "      <th>Effusion</th>\n",
              "      <th>Pneumonia</th>\n",
              "      <th>Pleural_Thickening</th>\n",
              "      <th>Cardiomegaly</th>\n",
              "      <th>Nodule</th>\n",
              "      <th>Mass</th>\n",
              "      <th>Hernia</th>\n",
              "    </tr>\n",
              "  </thead>\n",
              "  <tbody>\n",
              "    <tr>\n",
              "      <th>0</th>\n",
              "      <td>0</td>\n",
              "      <td>0</td>\n",
              "      <td>0</td>\n",
              "      <td>0</td>\n",
              "      <td>0</td>\n",
              "      <td>0</td>\n",
              "      <td>0</td>\n",
              "      <td>0</td>\n",
              "      <td>0</td>\n",
              "      <td>0</td>\n",
              "      <td>0</td>\n",
              "      <td>1</td>\n",
              "      <td>0</td>\n",
              "      <td>0</td>\n",
              "      <td>0</td>\n",
              "    </tr>\n",
              "    <tr>\n",
              "      <th>1</th>\n",
              "      <td>0</td>\n",
              "      <td>0</td>\n",
              "      <td>0</td>\n",
              "      <td>0</td>\n",
              "      <td>0</td>\n",
              "      <td>0</td>\n",
              "      <td>1</td>\n",
              "      <td>0</td>\n",
              "      <td>0</td>\n",
              "      <td>0</td>\n",
              "      <td>0</td>\n",
              "      <td>1</td>\n",
              "      <td>0</td>\n",
              "      <td>0</td>\n",
              "      <td>0</td>\n",
              "    </tr>\n",
              "    <tr>\n",
              "      <th>2</th>\n",
              "      <td>0</td>\n",
              "      <td>0</td>\n",
              "      <td>0</td>\n",
              "      <td>0</td>\n",
              "      <td>0</td>\n",
              "      <td>0</td>\n",
              "      <td>0</td>\n",
              "      <td>0</td>\n",
              "      <td>1</td>\n",
              "      <td>0</td>\n",
              "      <td>0</td>\n",
              "      <td>1</td>\n",
              "      <td>0</td>\n",
              "      <td>0</td>\n",
              "      <td>0</td>\n",
              "    </tr>\n",
              "    <tr>\n",
              "      <th>3</th>\n",
              "      <td>1</td>\n",
              "      <td>0</td>\n",
              "      <td>0</td>\n",
              "      <td>0</td>\n",
              "      <td>0</td>\n",
              "      <td>0</td>\n",
              "      <td>0</td>\n",
              "      <td>0</td>\n",
              "      <td>0</td>\n",
              "      <td>0</td>\n",
              "      <td>0</td>\n",
              "      <td>0</td>\n",
              "      <td>0</td>\n",
              "      <td>0</td>\n",
              "      <td>0</td>\n",
              "    </tr>\n",
              "    <tr>\n",
              "      <th>4</th>\n",
              "      <td>0</td>\n",
              "      <td>0</td>\n",
              "      <td>0</td>\n",
              "      <td>0</td>\n",
              "      <td>0</td>\n",
              "      <td>0</td>\n",
              "      <td>0</td>\n",
              "      <td>0</td>\n",
              "      <td>0</td>\n",
              "      <td>0</td>\n",
              "      <td>0</td>\n",
              "      <td>0</td>\n",
              "      <td>0</td>\n",
              "      <td>0</td>\n",
              "      <td>1</td>\n",
              "    </tr>\n",
              "    <tr>\n",
              "      <th>...</th>\n",
              "      <td>...</td>\n",
              "      <td>...</td>\n",
              "      <td>...</td>\n",
              "      <td>...</td>\n",
              "      <td>...</td>\n",
              "      <td>...</td>\n",
              "      <td>...</td>\n",
              "      <td>...</td>\n",
              "      <td>...</td>\n",
              "      <td>...</td>\n",
              "      <td>...</td>\n",
              "      <td>...</td>\n",
              "      <td>...</td>\n",
              "      <td>...</td>\n",
              "      <td>...</td>\n",
              "    </tr>\n",
              "    <tr>\n",
              "      <th>112115</th>\n",
              "      <td>0</td>\n",
              "      <td>0</td>\n",
              "      <td>0</td>\n",
              "      <td>0</td>\n",
              "      <td>0</td>\n",
              "      <td>0</td>\n",
              "      <td>0</td>\n",
              "      <td>0</td>\n",
              "      <td>0</td>\n",
              "      <td>1</td>\n",
              "      <td>0</td>\n",
              "      <td>0</td>\n",
              "      <td>0</td>\n",
              "      <td>1</td>\n",
              "      <td>0</td>\n",
              "    </tr>\n",
              "    <tr>\n",
              "      <th>112116</th>\n",
              "      <td>1</td>\n",
              "      <td>0</td>\n",
              "      <td>0</td>\n",
              "      <td>0</td>\n",
              "      <td>0</td>\n",
              "      <td>0</td>\n",
              "      <td>0</td>\n",
              "      <td>0</td>\n",
              "      <td>0</td>\n",
              "      <td>0</td>\n",
              "      <td>0</td>\n",
              "      <td>0</td>\n",
              "      <td>0</td>\n",
              "      <td>0</td>\n",
              "      <td>0</td>\n",
              "    </tr>\n",
              "    <tr>\n",
              "      <th>112117</th>\n",
              "      <td>1</td>\n",
              "      <td>0</td>\n",
              "      <td>0</td>\n",
              "      <td>0</td>\n",
              "      <td>0</td>\n",
              "      <td>0</td>\n",
              "      <td>0</td>\n",
              "      <td>0</td>\n",
              "      <td>0</td>\n",
              "      <td>0</td>\n",
              "      <td>0</td>\n",
              "      <td>0</td>\n",
              "      <td>0</td>\n",
              "      <td>0</td>\n",
              "      <td>0</td>\n",
              "    </tr>\n",
              "    <tr>\n",
              "      <th>112118</th>\n",
              "      <td>1</td>\n",
              "      <td>0</td>\n",
              "      <td>0</td>\n",
              "      <td>0</td>\n",
              "      <td>0</td>\n",
              "      <td>0</td>\n",
              "      <td>0</td>\n",
              "      <td>0</td>\n",
              "      <td>0</td>\n",
              "      <td>0</td>\n",
              "      <td>0</td>\n",
              "      <td>0</td>\n",
              "      <td>0</td>\n",
              "      <td>0</td>\n",
              "      <td>0</td>\n",
              "    </tr>\n",
              "    <tr>\n",
              "      <th>112119</th>\n",
              "      <td>1</td>\n",
              "      <td>0</td>\n",
              "      <td>0</td>\n",
              "      <td>0</td>\n",
              "      <td>0</td>\n",
              "      <td>0</td>\n",
              "      <td>0</td>\n",
              "      <td>0</td>\n",
              "      <td>0</td>\n",
              "      <td>0</td>\n",
              "      <td>0</td>\n",
              "      <td>0</td>\n",
              "      <td>0</td>\n",
              "      <td>0</td>\n",
              "      <td>0</td>\n",
              "    </tr>\n",
              "  </tbody>\n",
              "</table>\n",
              "<p>112120 rows × 15 columns</p>\n",
              "</div>"
            ],
            "text/plain": [
              "        No Finding  Atelectasis  Consolidation  ...  Nodule  Mass  Hernia\n",
              "0                0            0              0  ...       0     0       0\n",
              "1                0            0              0  ...       0     0       0\n",
              "2                0            0              0  ...       0     0       0\n",
              "3                1            0              0  ...       0     0       0\n",
              "4                0            0              0  ...       0     0       1\n",
              "...            ...          ...            ...  ...     ...   ...     ...\n",
              "112115           0            0              0  ...       0     1       0\n",
              "112116           1            0              0  ...       0     0       0\n",
              "112117           1            0              0  ...       0     0       0\n",
              "112118           1            0              0  ...       0     0       0\n",
              "112119           1            0              0  ...       0     0       0\n",
              "\n",
              "[112120 rows x 15 columns]"
            ]
          },
          "metadata": {},
          "execution_count": 14
        }
      ]
    },
    {
      "cell_type": "code",
      "metadata": {
        "trusted": true,
        "id": "duXyaSdSJJU3"
      },
      "source": [
        "#concat the original image urls with the 1-hot encoded data\n",
        "df=pd.concat([df.iloc[:,0],data], axis=1)"
      ],
      "execution_count": 15,
      "outputs": []
    },
    {
      "cell_type": "code",
      "metadata": {
        "trusted": true,
        "colab": {
          "base_uri": "https://localhost:8080/",
          "height": 934
        },
        "id": "FaM-q698JJU4",
        "outputId": "d17b57c4-6e3c-4910-84a8-2478ac47f830"
      },
      "source": [
        "#Histogram of disease types\n",
        "data.hist(bins=20, figsize=(15,10))"
      ],
      "execution_count": 16,
      "outputs": [
        {
          "output_type": "execute_result",
          "data": {
            "text/plain": [
              "array([[<matplotlib.axes._subplots.AxesSubplot object at 0x7fd25efbe5d0>,\n",
              "        <matplotlib.axes._subplots.AxesSubplot object at 0x7fd25ef70b50>,\n",
              "        <matplotlib.axes._subplots.AxesSubplot object at 0x7fd25ef32190>,\n",
              "        <matplotlib.axes._subplots.AxesSubplot object at 0x7fd25eee7790>],\n",
              "       [<matplotlib.axes._subplots.AxesSubplot object at 0x7fd25ee9ed90>,\n",
              "        <matplotlib.axes._subplots.AxesSubplot object at 0x7fd25ee623d0>,\n",
              "        <matplotlib.axes._subplots.AxesSubplot object at 0x7fd25ee15a50>,\n",
              "        <matplotlib.axes._subplots.AxesSubplot object at 0x7fd25eddf590>],\n",
              "       [<matplotlib.axes._subplots.AxesSubplot object at 0x7fd25eddf5d0>,\n",
              "        <matplotlib.axes._subplots.AxesSubplot object at 0x7fd25ed98d50>,\n",
              "        <matplotlib.axes._subplots.AxesSubplot object at 0x7fd25ed11610>,\n",
              "        <matplotlib.axes._subplots.AxesSubplot object at 0x7fd25ecc9ad0>],\n",
              "       [<matplotlib.axes._subplots.AxesSubplot object at 0x7fd25ecf4c10>,\n",
              "        <matplotlib.axes._subplots.AxesSubplot object at 0x7fd25ecc0690>,\n",
              "        <matplotlib.axes._subplots.AxesSubplot object at 0x7fd25ec77c90>,\n",
              "        <matplotlib.axes._subplots.AxesSubplot object at 0x7fd25ec392d0>]],\n",
              "      dtype=object)"
            ]
          },
          "metadata": {},
          "execution_count": 16
        },
        {
          "output_type": "display_data",
          "data": {
            "image/png": "[encoded data removed]",
            "text/plain": [
              "<Figure size 1080x720 with 16 Axes>"
            ]
          },
          "metadata": {
            "needs_background": "light"
          }
        }
      ]
    },
    {
      "cell_type": "code",
      "metadata": {
        "trusted": true,
        "id": "H3NTny94JJU5"
      },
      "source": [
        "#import libraries\n",
        "import IPython.display as display\n",
        "import random\n",
        "from functools import partial\n",
        "import sys\n",
        "from numpy import load\n",
        "from keras.models import Sequential\n",
        "from keras.layers import Conv2D\n",
        "from keras.layers import MaxPooling2D\n",
        "from keras.layers import Dense\n",
        "from keras.layers import Flatten\n",
        "import time as timer"
      ],
      "execution_count": 17,
      "outputs": []
    },
    {
      "cell_type": "code",
      "metadata": {
        "trusted": true,
        "colab": {
          "base_uri": "https://localhost:8080/",
          "height": 749
        },
        "id": "_WO-Bj7yJJU8",
        "outputId": "159c550f-9e23-4a35-fa63-8ce133f0c9e7"
      },
      "source": [
        "# Correlation matrix\n",
        "sns.set(rc={'figure.figsize':(20,10)})\n",
        "correlation_matrix = data.corr().round(2)\n",
        "sns.heatmap(data=correlation_matrix, annot=True)\n",
        "\n",
        "'''\n",
        "There are large correlations between the No Finding category an most of the other categories.\n",
        "There is a fairly large correlation (0.18) between Emphysema and Pneumothorax.\n",
        "There is a fairly large correlation (0.17) between Pneumonia and Edema.\n",
        "There is a fairly large correlation (0.17) between Atelectasis and Effusion.\n",
        "'''"
      ],
      "execution_count": 18,
      "outputs": [
        {
          "output_type": "execute_result",
          "data": {
            "application/vnd.google.colaboratory.intrinsic+json": {
              "type": "string"
            },
            "text/plain": [
              "'\\nThere are large correlations between the No Finding category an most of the other categories.\\nThere is a fairly large correlation (0.18) between Emphysema and Pneumothorax.\\nThere is a fairly large correlation (0.17) between Pneumonia and Edema.\\nThere is a fairly large correlation (0.17) between Atelectasis and Effusion.\\n'"
            ]
          },
          "metadata": {},
          "execution_count": 18
        },
        {
          "output_type": "display_data",
          "data": {
            "image/png": "[encoded data removed]",
            "text/plain": [
              "<Figure size 1440x720 with 2 Axes>"
            ]
          },
          "metadata": {}
        }
      ]
    },
    {
      "cell_type": "code",
      "metadata": {
        "trusted": true,
        "colab": {
          "base_uri": "https://localhost:8080/",
          "height": 594
        },
        "id": "77i9nATwJJU9",
        "outputId": "0b1bec09-a68a-4d27-b45e-2b512fdc3f6d"
      },
      "source": [
        "# Pie chart of percent of x-ray images classified as a Mass disease\n",
        "df.groupby('Mass').size().plot(kind='pie', autopct='%.2f')\n",
        "\n",
        "# 5.16% of the x-ray images are classified as Mass"
      ],
      "execution_count": 19,
      "outputs": [
        {
          "output_type": "execute_result",
          "data": {
            "text/plain": [
              "<matplotlib.axes._subplots.AxesSubplot at 0x7fd25e983e50>"
            ]
          },
          "metadata": {},
          "execution_count": 19
        },
        {
          "output_type": "display_data",
          "data": {
            "image/png": "[encoded data removed]",
            "text/plain": [
              "<Figure size 1440x720 with 1 Axes>"
            ]
          },
          "metadata": {}
        }
      ]
    },
    {
      "cell_type": "code",
      "metadata": {
        "trusted": true,
        "colab": {
          "base_uri": "https://localhost:8080/"
        },
        "id": "l__cKSLFJJU-",
        "outputId": "5bc2ce21-cc7c-4a05-f6db-71cbe53e841e"
      },
      "source": [
        "# Define list of column headers\n",
        "heads = list(df.columns)[2:]\n",
        "heads"
      ],
      "execution_count": 20,
      "outputs": [
        {
          "output_type": "execute_result",
          "data": {
            "text/plain": [
              "['Atelectasis',\n",
              " 'Consolidation',\n",
              " 'Infiltration',\n",
              " 'Pneumothorax',\n",
              " 'Edema',\n",
              " 'Emphysema',\n",
              " 'Fibrosis',\n",
              " 'Effusion',\n",
              " 'Pneumonia',\n",
              " 'Pleural_Thickening',\n",
              " 'Cardiomegaly',\n",
              " 'Nodule',\n",
              " 'Mass',\n",
              " 'Hernia']"
            ]
          },
          "metadata": {},
          "execution_count": 20
        }
      ]
    },
    {
      "cell_type": "markdown",
      "metadata": {
        "id": "88TduiZjJJU-"
      },
      "source": [
        "### Split Image"
      ]
    },
    {
      "cell_type": "code",
      "metadata": {
        "trusted": true,
        "colab": {
          "base_uri": "https://localhost:8080/"
        },
        "id": "tZ9Ar-S6JJU_",
        "outputId": "27afa561-6877-411f-cc93-58b4f8d6c33a"
      },
      "source": [
        "file_loc = '/content/nih-chest-xrays-tfrecords/'\n",
        "\n",
        "image_loc = file_loc + 'data/'\n",
        "\n",
        "image = os.listdir(image_loc)\n",
        "\n",
        "print('The total images in TFRecord is ' + str(len(image)) + ' x-ray images')\n",
        "\n",
        "#There are 256 images"
      ],
      "execution_count": 21,
      "outputs": [
        {
          "output_type": "stream",
          "name": "stdout",
          "text": [
            "The total images in TFRecord is 256 x-ray images\n"
          ]
        }
      ]
    },
    {
      "cell_type": "code",
      "metadata": {
        "trusted": true,
        "id": "JGLR89IGJJU_"
      },
      "source": [
        "img = [image_loc + x for x in image]\n",
        "\n",
        "file_name = tf.io.gfile.glob(img)"
      ],
      "execution_count": 22,
      "outputs": []
    },
    {
      "cell_type": "markdown",
      "metadata": {
        "id": "nWmxWP-9JJVA"
      },
      "source": [
        "Randomly sample the entire list to a 80-20% split, then set aside 10% of the train sets randomly as a validation set."
      ]
    },
    {
      "cell_type": "code",
      "metadata": {
        "trusted": true,
        "id": "uSth6O8mJJVA"
      },
      "source": [
        "#Define training and test sets (index)\n",
        "ALL = list(range(len(file_name)))\n",
        "\n",
        "train_valid = random.sample(ALL, int(len(ALL) * 0.8))\n",
        "test_index = list(set(ALL) - set(train_valid))\n",
        "\n",
        "train_index = random.sample(train_valid, int(len(train_valid) * 0.9))\n",
        "valid_index = list(set(train_valid) - set(train_index))"
      ],
      "execution_count": 23,
      "outputs": []
    },
    {
      "cell_type": "code",
      "metadata": {
        "trusted": true,
        "colab": {
          "base_uri": "https://localhost:8080/"
        },
        "id": "jTHX1ij1JJVA",
        "outputId": "42c203a1-f105-4719-d923-ac9e59086dad"
      },
      "source": [
        "#Define training and test image file names\n",
        "TRAINING_FILENAMES, VALID_FILENAMES, TEST_FILENAMES = [file_name[index] for index in train_index], [file_name[index] for index in valid_index], [file_name[index] for index in test_index]\n",
        "TRAINING_FILENAMES"
      ],
      "execution_count": 24,
      "outputs": [
        {
          "output_type": "execute_result",
          "data": {
            "text/plain": [
              "['/content/nih-chest-xrays-tfrecords/data/066-438.tfrec',\n",
              " '/content/nih-chest-xrays-tfrecords/data/135-438.tfrec',\n",
              " '/content/nih-chest-xrays-tfrecords/data/016-438.tfrec',\n",
              " '/content/nih-chest-xrays-tfrecords/data/061-438.tfrec',\n",
              " '/content/nih-chest-xrays-tfrecords/data/193-438.tfrec',\n",
              " '/content/nih-chest-xrays-tfrecords/data/251-437.tfrec',\n",
              " '/content/nih-chest-xrays-tfrecords/data/154-438.tfrec',\n",
              " '/content/nih-chest-xrays-tfrecords/data/167-438.tfrec',\n",
              " '/content/nih-chest-xrays-tfrecords/data/037-438.tfrec',\n",
              " '/content/nih-chest-xrays-tfrecords/data/240-438.tfrec',\n",
              " '/content/nih-chest-xrays-tfrecords/data/163-438.tfrec',\n",
              " '/content/nih-chest-xrays-tfrecords/data/122-438.tfrec',\n",
              " '/content/nih-chest-xrays-tfrecords/data/192-438.tfrec',\n",
              " '/content/nih-chest-xrays-tfrecords/data/219-438.tfrec',\n",
              " '/content/nih-chest-xrays-tfrecords/data/242-438.tfrec',\n",
              " '/content/nih-chest-xrays-tfrecords/data/236-438.tfrec',\n",
              " '/content/nih-chest-xrays-tfrecords/data/012-438.tfrec',\n",
              " '/content/nih-chest-xrays-tfrecords/data/001-438.tfrec',\n",
              " '/content/nih-chest-xrays-tfrecords/data/170-438.tfrec',\n",
              " '/content/nih-chest-xrays-tfrecords/data/003-438.tfrec',\n",
              " '/content/nih-chest-xrays-tfrecords/data/074-438.tfrec',\n",
              " '/content/nih-chest-xrays-tfrecords/data/155-438.tfrec',\n",
              " '/content/nih-chest-xrays-tfrecords/data/150-438.tfrec',\n",
              " '/content/nih-chest-xrays-tfrecords/data/233-438.tfrec',\n",
              " '/content/nih-chest-xrays-tfrecords/data/200-438.tfrec',\n",
              " '/content/nih-chest-xrays-tfrecords/data/081-438.tfrec',\n",
              " '/content/nih-chest-xrays-tfrecords/data/083-438.tfrec',\n",
              " '/content/nih-chest-xrays-tfrecords/data/238-438.tfrec',\n",
              " '/content/nih-chest-xrays-tfrecords/data/183-438.tfrec',\n",
              " '/content/nih-chest-xrays-tfrecords/data/151-438.tfrec',\n",
              " '/content/nih-chest-xrays-tfrecords/data/005-438.tfrec',\n",
              " '/content/nih-chest-xrays-tfrecords/data/091-438.tfrec',\n",
              " '/content/nih-chest-xrays-tfrecords/data/245-438.tfrec',\n",
              " '/content/nih-chest-xrays-tfrecords/data/010-438.tfrec',\n",
              " '/content/nih-chest-xrays-tfrecords/data/180-438.tfrec',\n",
              " '/content/nih-chest-xrays-tfrecords/data/191-438.tfrec',\n",
              " '/content/nih-chest-xrays-tfrecords/data/139-438.tfrec',\n",
              " '/content/nih-chest-xrays-tfrecords/data/026-438.tfrec',\n",
              " '/content/nih-chest-xrays-tfrecords/data/230-438.tfrec',\n",
              " '/content/nih-chest-xrays-tfrecords/data/041-438.tfrec',\n",
              " '/content/nih-chest-xrays-tfrecords/data/214-438.tfrec',\n",
              " '/content/nih-chest-xrays-tfrecords/data/063-438.tfrec',\n",
              " '/content/nih-chest-xrays-tfrecords/data/239-438.tfrec',\n",
              " '/content/nih-chest-xrays-tfrecords/data/031-438.tfrec',\n",
              " '/content/nih-chest-xrays-tfrecords/data/095-438.tfrec',\n",
              " '/content/nih-chest-xrays-tfrecords/data/130-438.tfrec',\n",
              " '/content/nih-chest-xrays-tfrecords/data/039-438.tfrec',\n",
              " '/content/nih-chest-xrays-tfrecords/data/249-437.tfrec',\n",
              " '/content/nih-chest-xrays-tfrecords/data/211-438.tfrec',\n",
              " '/content/nih-chest-xrays-tfrecords/data/103-438.tfrec',\n",
              " '/content/nih-chest-xrays-tfrecords/data/123-438.tfrec',\n",
              " '/content/nih-chest-xrays-tfrecords/data/244-438.tfrec',\n",
              " '/content/nih-chest-xrays-tfrecords/data/174-438.tfrec',\n",
              " '/content/nih-chest-xrays-tfrecords/data/105-438.tfrec',\n",
              " '/content/nih-chest-xrays-tfrecords/data/168-438.tfrec',\n",
              " '/content/nih-chest-xrays-tfrecords/data/067-438.tfrec',\n",
              " '/content/nih-chest-xrays-tfrecords/data/046-438.tfrec',\n",
              " '/content/nih-chest-xrays-tfrecords/data/223-438.tfrec',\n",
              " '/content/nih-chest-xrays-tfrecords/data/068-438.tfrec',\n",
              " '/content/nih-chest-xrays-tfrecords/data/051-438.tfrec',\n",
              " '/content/nih-chest-xrays-tfrecords/data/036-438.tfrec',\n",
              " '/content/nih-chest-xrays-tfrecords/data/147-438.tfrec',\n",
              " '/content/nih-chest-xrays-tfrecords/data/237-438.tfrec',\n",
              " '/content/nih-chest-xrays-tfrecords/data/203-438.tfrec',\n",
              " '/content/nih-chest-xrays-tfrecords/data/024-438.tfrec',\n",
              " '/content/nih-chest-xrays-tfrecords/data/169-438.tfrec',\n",
              " '/content/nih-chest-xrays-tfrecords/data/011-438.tfrec',\n",
              " '/content/nih-chest-xrays-tfrecords/data/216-438.tfrec',\n",
              " '/content/nih-chest-xrays-tfrecords/data/145-438.tfrec',\n",
              " '/content/nih-chest-xrays-tfrecords/data/137-438.tfrec',\n",
              " '/content/nih-chest-xrays-tfrecords/data/096-438.tfrec',\n",
              " '/content/nih-chest-xrays-tfrecords/data/060-438.tfrec',\n",
              " '/content/nih-chest-xrays-tfrecords/data/199-438.tfrec',\n",
              " '/content/nih-chest-xrays-tfrecords/data/171-438.tfrec',\n",
              " '/content/nih-chest-xrays-tfrecords/data/080-438.tfrec',\n",
              " '/content/nih-chest-xrays-tfrecords/data/040-438.tfrec',\n",
              " '/content/nih-chest-xrays-tfrecords/data/227-438.tfrec',\n",
              " '/content/nih-chest-xrays-tfrecords/data/047-438.tfrec',\n",
              " '/content/nih-chest-xrays-tfrecords/data/218-438.tfrec',\n",
              " '/content/nih-chest-xrays-tfrecords/data/159-438.tfrec',\n",
              " '/content/nih-chest-xrays-tfrecords/data/133-438.tfrec',\n",
              " '/content/nih-chest-xrays-tfrecords/data/100-438.tfrec',\n",
              " '/content/nih-chest-xrays-tfrecords/data/030-438.tfrec',\n",
              " '/content/nih-chest-xrays-tfrecords/data/069-438.tfrec',\n",
              " '/content/nih-chest-xrays-tfrecords/data/132-438.tfrec',\n",
              " '/content/nih-chest-xrays-tfrecords/data/195-438.tfrec',\n",
              " '/content/nih-chest-xrays-tfrecords/data/243-438.tfrec',\n",
              " '/content/nih-chest-xrays-tfrecords/data/209-438.tfrec',\n",
              " '/content/nih-chest-xrays-tfrecords/data/006-438.tfrec',\n",
              " '/content/nih-chest-xrays-tfrecords/data/173-438.tfrec',\n",
              " '/content/nih-chest-xrays-tfrecords/data/140-438.tfrec',\n",
              " '/content/nih-chest-xrays-tfrecords/data/075-438.tfrec',\n",
              " '/content/nih-chest-xrays-tfrecords/data/042-438.tfrec',\n",
              " '/content/nih-chest-xrays-tfrecords/data/057-438.tfrec',\n",
              " '/content/nih-chest-xrays-tfrecords/data/224-438.tfrec',\n",
              " '/content/nih-chest-xrays-tfrecords/data/102-438.tfrec',\n",
              " '/content/nih-chest-xrays-tfrecords/data/177-438.tfrec',\n",
              " '/content/nih-chest-xrays-tfrecords/data/064-438.tfrec',\n",
              " '/content/nih-chest-xrays-tfrecords/data/246-438.tfrec',\n",
              " '/content/nih-chest-xrays-tfrecords/data/152-438.tfrec',\n",
              " '/content/nih-chest-xrays-tfrecords/data/158-438.tfrec',\n",
              " '/content/nih-chest-xrays-tfrecords/data/079-438.tfrec',\n",
              " '/content/nih-chest-xrays-tfrecords/data/197-438.tfrec',\n",
              " '/content/nih-chest-xrays-tfrecords/data/188-438.tfrec',\n",
              " '/content/nih-chest-xrays-tfrecords/data/217-438.tfrec',\n",
              " '/content/nih-chest-xrays-tfrecords/data/120-438.tfrec',\n",
              " '/content/nih-chest-xrays-tfrecords/data/070-438.tfrec',\n",
              " '/content/nih-chest-xrays-tfrecords/data/021-438.tfrec',\n",
              " '/content/nih-chest-xrays-tfrecords/data/176-438.tfrec',\n",
              " '/content/nih-chest-xrays-tfrecords/data/082-438.tfrec',\n",
              " '/content/nih-chest-xrays-tfrecords/data/049-438.tfrec',\n",
              " '/content/nih-chest-xrays-tfrecords/data/059-438.tfrec',\n",
              " '/content/nih-chest-xrays-tfrecords/data/054-438.tfrec',\n",
              " '/content/nih-chest-xrays-tfrecords/data/004-438.tfrec',\n",
              " '/content/nih-chest-xrays-tfrecords/data/141-438.tfrec',\n",
              " '/content/nih-chest-xrays-tfrecords/data/165-438.tfrec',\n",
              " '/content/nih-chest-xrays-tfrecords/data/043-438.tfrec',\n",
              " '/content/nih-chest-xrays-tfrecords/data/018-438.tfrec',\n",
              " '/content/nih-chest-xrays-tfrecords/data/008-438.tfrec',\n",
              " '/content/nih-chest-xrays-tfrecords/data/093-438.tfrec',\n",
              " '/content/nih-chest-xrays-tfrecords/data/050-438.tfrec',\n",
              " '/content/nih-chest-xrays-tfrecords/data/121-438.tfrec',\n",
              " '/content/nih-chest-xrays-tfrecords/data/014-438.tfrec',\n",
              " '/content/nih-chest-xrays-tfrecords/data/210-438.tfrec',\n",
              " '/content/nih-chest-xrays-tfrecords/data/098-438.tfrec',\n",
              " '/content/nih-chest-xrays-tfrecords/data/129-438.tfrec',\n",
              " '/content/nih-chest-xrays-tfrecords/data/179-438.tfrec',\n",
              " '/content/nih-chest-xrays-tfrecords/data/241-438.tfrec',\n",
              " '/content/nih-chest-xrays-tfrecords/data/087-438.tfrec',\n",
              " '/content/nih-chest-xrays-tfrecords/data/029-438.tfrec',\n",
              " '/content/nih-chest-xrays-tfrecords/data/234-438.tfrec',\n",
              " '/content/nih-chest-xrays-tfrecords/data/164-438.tfrec',\n",
              " '/content/nih-chest-xrays-tfrecords/data/109-438.tfrec',\n",
              " '/content/nih-chest-xrays-tfrecords/data/128-438.tfrec',\n",
              " '/content/nih-chest-xrays-tfrecords/data/232-438.tfrec',\n",
              " '/content/nih-chest-xrays-tfrecords/data/099-438.tfrec',\n",
              " '/content/nih-chest-xrays-tfrecords/data/114-438.tfrec',\n",
              " '/content/nih-chest-xrays-tfrecords/data/073-438.tfrec',\n",
              " '/content/nih-chest-xrays-tfrecords/data/076-438.tfrec',\n",
              " '/content/nih-chest-xrays-tfrecords/data/085-438.tfrec',\n",
              " '/content/nih-chest-xrays-tfrecords/data/055-438.tfrec',\n",
              " '/content/nih-chest-xrays-tfrecords/data/028-438.tfrec',\n",
              " '/content/nih-chest-xrays-tfrecords/data/116-438.tfrec',\n",
              " '/content/nih-chest-xrays-tfrecords/data/221-438.tfrec',\n",
              " '/content/nih-chest-xrays-tfrecords/data/101-438.tfrec',\n",
              " '/content/nih-chest-xrays-tfrecords/data/153-438.tfrec',\n",
              " '/content/nih-chest-xrays-tfrecords/data/144-438.tfrec',\n",
              " '/content/nih-chest-xrays-tfrecords/data/162-438.tfrec',\n",
              " '/content/nih-chest-xrays-tfrecords/data/089-438.tfrec',\n",
              " '/content/nih-chest-xrays-tfrecords/data/086-438.tfrec',\n",
              " '/content/nih-chest-xrays-tfrecords/data/104-438.tfrec',\n",
              " '/content/nih-chest-xrays-tfrecords/data/000-438.tfrec',\n",
              " '/content/nih-chest-xrays-tfrecords/data/022-438.tfrec',\n",
              " '/content/nih-chest-xrays-tfrecords/data/094-438.tfrec',\n",
              " '/content/nih-chest-xrays-tfrecords/data/053-438.tfrec',\n",
              " '/content/nih-chest-xrays-tfrecords/data/184-438.tfrec',\n",
              " '/content/nih-chest-xrays-tfrecords/data/143-438.tfrec',\n",
              " '/content/nih-chest-xrays-tfrecords/data/204-438.tfrec',\n",
              " '/content/nih-chest-xrays-tfrecords/data/097-438.tfrec',\n",
              " '/content/nih-chest-xrays-tfrecords/data/136-438.tfrec',\n",
              " '/content/nih-chest-xrays-tfrecords/data/035-438.tfrec',\n",
              " '/content/nih-chest-xrays-tfrecords/data/172-438.tfrec',\n",
              " '/content/nih-chest-xrays-tfrecords/data/215-438.tfrec',\n",
              " '/content/nih-chest-xrays-tfrecords/data/058-438.tfrec',\n",
              " '/content/nih-chest-xrays-tfrecords/data/111-438.tfrec',\n",
              " '/content/nih-chest-xrays-tfrecords/data/044-438.tfrec',\n",
              " '/content/nih-chest-xrays-tfrecords/data/201-438.tfrec',\n",
              " '/content/nih-chest-xrays-tfrecords/data/248-437.tfrec',\n",
              " '/content/nih-chest-xrays-tfrecords/data/212-438.tfrec',\n",
              " '/content/nih-chest-xrays-tfrecords/data/124-438.tfrec',\n",
              " '/content/nih-chest-xrays-tfrecords/data/009-438.tfrec',\n",
              " '/content/nih-chest-xrays-tfrecords/data/092-438.tfrec',\n",
              " '/content/nih-chest-xrays-tfrecords/data/166-438.tfrec',\n",
              " '/content/nih-chest-xrays-tfrecords/data/127-438.tfrec',\n",
              " '/content/nih-chest-xrays-tfrecords/data/019-438.tfrec',\n",
              " '/content/nih-chest-xrays-tfrecords/data/206-438.tfrec',\n",
              " '/content/nih-chest-xrays-tfrecords/data/138-438.tfrec',\n",
              " '/content/nih-chest-xrays-tfrecords/data/213-438.tfrec',\n",
              " '/content/nih-chest-xrays-tfrecords/data/156-438.tfrec',\n",
              " '/content/nih-chest-xrays-tfrecords/data/205-438.tfrec',\n",
              " '/content/nih-chest-xrays-tfrecords/data/131-438.tfrec',\n",
              " '/content/nih-chest-xrays-tfrecords/data/157-438.tfrec',\n",
              " '/content/nih-chest-xrays-tfrecords/data/254-437.tfrec']"
            ]
          },
          "metadata": {},
          "execution_count": 24
        }
      ]
    },
    {
      "cell_type": "code",
      "metadata": {
        "trusted": true,
        "colab": {
          "base_uri": "https://localhost:8080/"
        },
        "id": "LGSdNVJjJJVA",
        "outputId": "cbe977f6-512d-4c9f-fbe3-00901d0a60bc"
      },
      "source": [
        "print(\"Train TFRecord Files:\", len(TRAINING_FILENAMES))\n",
        "print(\"Validation TFRecord Files:\", len(VALID_FILENAMES))\n",
        "print(\"Test TFRecord Files:\", len(TEST_FILENAMES))"
      ],
      "execution_count": 25,
      "outputs": [
        {
          "output_type": "stream",
          "name": "stdout",
          "text": [
            "Train TFRecord Files: 183\n",
            "Validation TFRecord Files: 21\n",
            "Test TFRecord Files: 52\n"
          ]
        }
      ]
    },
    {
      "cell_type": "markdown",
      "metadata": {
        "id": "tDZu4sl-JJVB"
      },
      "source": [
        "### Reducing Image Dimensionality"
      ]
    },
    {
      "cell_type": "code",
      "metadata": {
        "trusted": true,
        "id": "kdmPR6c8JJVB"
      },
      "source": [
        "feature_description = {}\n",
        "\n",
        "for elem in list(df.columns)[2:]:\n",
        "    feature_description[elem] = tf.io.FixedLenFeature([], tf.int64)\n",
        "    \n",
        "feature_description['image'] = tf.io.FixedLenFeature([], tf.string)"
      ],
      "execution_count": 26,
      "outputs": []
    },
    {
      "cell_type": "markdown",
      "metadata": {
        "id": "wUP9y03HJJVB"
      },
      "source": [
        "Here we are reducing the image size to 50 X 50 "
      ]
    },
    {
      "cell_type": "code",
      "metadata": {
        "trusted": true,
        "id": "gm0ovj5HJJVB"
      },
      "source": [
        "BATCH_SIZE = 32\n",
        "IMAGE_ONE_AXIS = 50\n",
        "IMAGE_SIZE = [IMAGE_ONE_AXIS, IMAGE_ONE_AXIS]\n",
        "AUTOTUNE = tf.data.experimental.AUTOTUNE"
      ],
      "execution_count": 27,
      "outputs": []
    },
    {
      "cell_type": "code",
      "metadata": {
        "trusted": true,
        "id": "MW-5oImNJJVC"
      },
      "source": [
        "# Functions to read the data\n",
        "def read_tfrecord(example):\n",
        "    example = tf.io.parse_single_example(example, feature_description)\n",
        "    image = tf.io.decode_jpeg(example[\"image\"], channels=3)\n",
        "    image = tf.image.resize(image, IMAGE_SIZE)\n",
        "    image = tf.cast(image, tf.float32) / 255.0\n",
        "    \n",
        "    label = []\n",
        "    \n",
        "    for val in heads:\n",
        "        label.append(example[val])\n",
        "    \n",
        "    return image, label"
      ],
      "execution_count": 28,
      "outputs": []
    },
    {
      "cell_type": "code",
      "metadata": {
        "trusted": true,
        "id": "QT5AiwSoJJVC"
      },
      "source": [
        "def load_dataset(filenames):\n",
        "    ignore_order = tf.data.Options()\n",
        "    ignore_order.experimental_deterministic = False\n",
        "    dataset = tf.data.TFRecordDataset(filenames)\n",
        "    dataset = dataset.with_options(ignore_order)\n",
        "    dataset = dataset.map(read_tfrecord)\n",
        "    \n",
        "    return dataset"
      ],
      "execution_count": 29,
      "outputs": []
    },
    {
      "cell_type": "code",
      "metadata": {
        "trusted": true,
        "id": "ShZQnH_tJJVD"
      },
      "source": [
        "def get_dataset(filenames):\n",
        "    dataset = load_dataset(filenames)\n",
        "    dataset = dataset.shuffle(2048)\n",
        "    dataset = dataset.prefetch(buffer_size=AUTOTUNE)\n",
        "    dataset = dataset.batch(BATCH_SIZE)\n",
        "    \n",
        "    return dataset"
      ],
      "execution_count": 30,
      "outputs": []
    },
    {
      "cell_type": "code",
      "metadata": {
        "trusted": true,
        "id": "iwa41bqsJJVD"
      },
      "source": [
        "#Define train, valid, and test datasets\n",
        "train_dataset = get_dataset(TRAINING_FILENAMES)\n",
        "valid_dataset = get_dataset(VALID_FILENAMES)\n",
        "test_dataset = get_dataset(TEST_FILENAMES)"
      ],
      "execution_count": 31,
      "outputs": []
    },
    {
      "cell_type": "code",
      "metadata": {
        "trusted": true,
        "colab": {
          "base_uri": "https://localhost:8080/",
          "height": 0
        },
        "id": "_djgU6n3JJVE",
        "outputId": "c6476e6d-4f08-4e58-d415-e847cf2c62f3"
      },
      "source": [
        "#Show the images for the training set to visualize\n",
        "image_viz, label_viz = next(iter(train_dataset))\n",
        "\n",
        "def show_batch(X, Y):\n",
        "    plt.figure(figsize=(20, 20))\n",
        "    for n in range(25):\n",
        "        ax = plt.subplot(5, 5, n + 1)\n",
        "        plt.imshow(X[n])\n",
        "        \n",
        "        result = [x for i, x in enumerate(heads) if Y[n][i]]\n",
        "        title = \"+\".join(result)\n",
        "        \n",
        "        if result == []: title = \"No Finding\"\n",
        "        \n",
        "        plt.title(title)\n",
        "        plt.axis(\"off\")\n",
        "\n",
        "show_batch(image_viz.numpy(), label_viz.numpy())"
      ],
      "execution_count": 32,
      "outputs": [
        {
          "output_type": "display_data",
          "data": {
            "image/png": "[encoded data removed]",
            "text/plain": [
              "<Figure size 1440x1440 with 25 Axes>"
            ]
          },
          "metadata": {}
        }
      ]
    },
    {
      "cell_type": "code",
      "metadata": {
        "trusted": true,
        "colab": {
          "base_uri": "https://localhost:8080/"
        },
        "id": "wueNsDSrJJVE",
        "outputId": "1043b43b-3345-4891-d546-7dcbd5836f06"
      },
      "source": [
        "image_viz.numpy()"
      ],
      "execution_count": 33,
      "outputs": [
        {
          "output_type": "execute_result",
          "data": {
            "text/plain": [
              "array([[[[0.        , 0.        , 0.        ],\n",
              "         [0.        , 0.        , 0.        ],\n",
              "         [0.        , 0.        , 0.        ],\n",
              "         ...,\n",
              "         [0.        , 0.        , 0.        ],\n",
              "         [0.        , 0.        , 0.        ],\n",
              "         [0.        , 0.        , 0.        ]],\n",
              "\n",
              "        [[0.        , 0.        , 0.        ],\n",
              "         [0.        , 0.        , 0.        ],\n",
              "         [0.        , 0.        , 0.        ],\n",
              "         ...,\n",
              "         [0.        , 0.        , 0.        ],\n",
              "         [0.        , 0.        , 0.        ],\n",
              "         [0.        , 0.        , 0.        ]],\n",
              "\n",
              "        [[0.        , 0.        , 0.        ],\n",
              "         [0.        , 0.        , 0.        ],\n",
              "         [0.04160781, 0.04160781, 0.04160781],\n",
              "         ...,\n",
              "         [0.16647059, 0.16647059, 0.16647059],\n",
              "         [0.        , 0.        , 0.        ],\n",
              "         [0.        , 0.        , 0.        ]],\n",
              "\n",
              "        ...,\n",
              "\n",
              "        [[0.        , 0.        , 0.        ],\n",
              "         [0.108     , 0.108     , 0.108     ],\n",
              "         [0.19921567, 0.19921567, 0.19921567],\n",
              "         ...,\n",
              "         [0.        , 0.        , 0.        ],\n",
              "         [0.        , 0.        , 0.        ],\n",
              "         [0.04596861, 0.04596861, 0.04596861]],\n",
              "\n",
              "        [[0.        , 0.        , 0.        ],\n",
              "         [0.11372549, 0.11372549, 0.11372549],\n",
              "         [0.21508233, 0.21508233, 0.21508233],\n",
              "         ...,\n",
              "         [0.        , 0.        , 0.        ],\n",
              "         [0.        , 0.        , 0.        ],\n",
              "         [0.05419611, 0.05419611, 0.05419611]],\n",
              "\n",
              "        [[0.        , 0.        , 0.        ],\n",
              "         [0.12748392, 0.12748392, 0.12748392],\n",
              "         [0.23316868, 0.23316868, 0.23316868],\n",
              "         ...,\n",
              "         [0.        , 0.        , 0.        ],\n",
              "         [0.        , 0.        , 0.        ],\n",
              "         [0.05882353, 0.05882353, 0.05882353]]],\n",
              "\n",
              "\n",
              "       [[[0.        , 0.        , 0.        ],\n",
              "         [0.        , 0.        , 0.        ],\n",
              "         [0.        , 0.        , 0.        ],\n",
              "         ...,\n",
              "         [0.        , 0.        , 0.        ],\n",
              "         [0.        , 0.        , 0.        ],\n",
              "         [0.        , 0.        , 0.        ]],\n",
              "\n",
              "        [[0.        , 0.        , 0.        ],\n",
              "         [0.        , 0.        , 0.        ],\n",
              "         [0.        , 0.        , 0.        ],\n",
              "         ...,\n",
              "         [0.        , 0.        , 0.        ],\n",
              "         [0.        , 0.        , 0.        ],\n",
              "         [0.        , 0.        , 0.        ]],\n",
              "\n",
              "        [[0.        , 0.        , 0.        ],\n",
              "         [0.        , 0.        , 0.        ],\n",
              "         [0.        , 0.        , 0.        ],\n",
              "         ...,\n",
              "         [0.62070566, 0.62070566, 0.62070566],\n",
              "         [0.        , 0.        , 0.        ],\n",
              "         [0.        , 0.        , 0.        ]],\n",
              "\n",
              "        ...,\n",
              "\n",
              "        [[0.        , 0.        , 0.        ],\n",
              "         [0.        , 0.        , 0.        ],\n",
              "         [0.09760774, 0.09760774, 0.09760774],\n",
              "         ...,\n",
              "         [0.16670634, 0.16670634, 0.16670634],\n",
              "         [0.        , 0.        , 0.        ],\n",
              "         [0.        , 0.        , 0.        ]],\n",
              "\n",
              "        [[0.        , 0.        , 0.        ],\n",
              "         [0.0352938 , 0.0352938 , 0.0352938 ],\n",
              "         [0.18622702, 0.18622702, 0.18622702],\n",
              "         ...,\n",
              "         [0.12010268, 0.12010268, 0.12010268],\n",
              "         [0.        , 0.        , 0.        ],\n",
              "         [0.        , 0.        , 0.        ]],\n",
              "\n",
              "        [[0.15474531, 0.15474531, 0.15474531],\n",
              "         [0.31147295, 0.31147295, 0.31147295],\n",
              "         [0.42133337, 0.42133337, 0.42133337],\n",
              "         ...,\n",
              "         [0.13084753, 0.13084753, 0.13084753],\n",
              "         [0.        , 0.        , 0.        ],\n",
              "         [0.        , 0.        , 0.        ]]],\n",
              "\n",
              "\n",
              "       [[[0.24314511, 0.24314511, 0.24314511],\n",
              "         [0.31764707, 0.31764707, 0.31764707],\n",
              "         [0.32690194, 0.32690194, 0.32690194],\n",
              "         ...,\n",
              "         [0.30478442, 0.30478442, 0.30478442],\n",
              "         [0.26345113, 0.26345113, 0.26345113],\n",
              "         [0.18238267, 0.18238267, 0.18238267]],\n",
              "\n",
              "        [[0.2163247 , 0.2163247 , 0.2163247 ],\n",
              "         [0.2838102 , 0.2838102 , 0.2838102 ],\n",
              "         [0.36674505, 0.36674505, 0.36674505],\n",
              "         ...,\n",
              "         [0.4215138 , 0.4215138 , 0.4215138 ],\n",
              "         [0.35245803, 0.35245803, 0.35245803],\n",
              "         [0.24203919, 0.24203919, 0.24203919]],\n",
              "\n",
              "        [[0.452949  , 0.452949  , 0.452949  ],\n",
              "         [0.7071922 , 0.7071922 , 0.7071922 ],\n",
              "         [0.5875685 , 0.5875685 , 0.5875685 ],\n",
              "         ...,\n",
              "         [0.6096855 , 0.6096855 , 0.6096855 ],\n",
              "         [0.6053099 , 0.6053099 , 0.6053099 ],\n",
              "         [0.54494923, 0.54494923, 0.54494923]],\n",
              "\n",
              "        ...,\n",
              "\n",
              "        [[0.39356863, 0.39356863, 0.39356863],\n",
              "         [0.598196  , 0.598196  , 0.598196  ],\n",
              "         [0.74192154, 0.74192154, 0.74192154],\n",
              "         ...,\n",
              "         [0.7286276 , 0.7286276 , 0.7286276 ],\n",
              "         [0.555373  , 0.555373  , 0.555373  ],\n",
              "         [0.32650983, 0.32650983, 0.32650983]],\n",
              "\n",
              "        [[0.42167976, 0.42167976, 0.42167976],\n",
              "         [0.60749656, 0.60749656, 0.60749656],\n",
              "         [0.7469018 , 0.7469018 , 0.7469018 ],\n",
              "         ...,\n",
              "         [0.758432  , 0.758432  , 0.758432  ],\n",
              "         [0.55388325, 0.55388325, 0.55388325],\n",
              "         [0.32793242, 0.32793242, 0.32793242]],\n",
              "\n",
              "        [[0.47098055, 0.47098055, 0.47098055],\n",
              "         [0.63349026, 0.63349026, 0.63349026],\n",
              "         [0.7778824 , 0.7778824 , 0.7778824 ],\n",
              "         ...,\n",
              "         [0.7892629 , 0.7892629 , 0.7892629 ],\n",
              "         [0.6417043 , 0.6417043 , 0.6417043 ],\n",
              "         [0.4176768 , 0.4176768 , 0.4176768 ]]],\n",
              "\n",
              "\n",
              "       ...,\n",
              "\n",
              "\n",
              "       [[[0.2808518 , 0.2808518 , 0.2808518 ],\n",
              "         [0.03189962, 0.03189962, 0.03189962],\n",
              "         [0.05356864, 0.05356864, 0.05356864],\n",
              "         ...,\n",
              "         [0.5066666 , 0.5066666 , 0.5066666 ],\n",
              "         [0.5340502 , 0.5340502 , 0.5340502 ],\n",
              "         [0.5834213 , 0.5834213 , 0.5834213 ]],\n",
              "\n",
              "        [[0.        , 0.        , 0.        ],\n",
              "         [0.        , 0.        , 0.        ],\n",
              "         [0.        , 0.        , 0.        ],\n",
              "         ...,\n",
              "         [0.        , 0.        , 0.        ],\n",
              "         [0.        , 0.        , 0.        ],\n",
              "         [0.        , 0.        , 0.        ]],\n",
              "\n",
              "        [[0.02024313, 0.02024313, 0.02024313],\n",
              "         [0.01921568, 0.01921568, 0.01921568],\n",
              "         [0.01960784, 0.01960784, 0.01960784],\n",
              "         ...,\n",
              "         [0.        , 0.        , 0.        ],\n",
              "         [0.        , 0.        , 0.        ],\n",
              "         [0.        , 0.        , 0.        ]],\n",
              "\n",
              "        ...,\n",
              "\n",
              "        [[0.02745098, 0.02745098, 0.02745098],\n",
              "         [0.02745098, 0.02745098, 0.02745098],\n",
              "         [0.02745098, 0.02745098, 0.02745098],\n",
              "         ...,\n",
              "         [0.33298045, 0.33298045, 0.33298045],\n",
              "         [0.18491039, 0.18491039, 0.18491039],\n",
              "         [0.11199999, 0.11199999, 0.11199999]],\n",
              "\n",
              "        [[0.02745098, 0.02745098, 0.02745098],\n",
              "         [0.02745098, 0.02745098, 0.02745098],\n",
              "         [0.02745098, 0.02745098, 0.02745098],\n",
              "         ...,\n",
              "         [0.34240785, 0.34240785, 0.34240785],\n",
              "         [0.19215687, 0.19215687, 0.19215687],\n",
              "         [0.13229194, 0.13229194, 0.13229194]],\n",
              "\n",
              "        [[0.02745098, 0.02745098, 0.02745098],\n",
              "         [0.02745098, 0.02745098, 0.02745098],\n",
              "         [0.02745098, 0.02745098, 0.02745098],\n",
              "         ...,\n",
              "         [0.35505128, 0.35505128, 0.35505128],\n",
              "         [0.21241428, 0.21241428, 0.21241428],\n",
              "         [0.16862746, 0.16862746, 0.16862746]]],\n",
              "\n",
              "\n",
              "       [[[0.3724894 , 0.3724894 , 0.3724894 ],\n",
              "         [0.11373648, 0.11373648, 0.11373648],\n",
              "         [0.05882353, 0.05882353, 0.05882353],\n",
              "         ...,\n",
              "         [0.1483843 , 0.1483843 , 0.1483843 ],\n",
              "         [0.15467778, 0.15467778, 0.15467778],\n",
              "         [0.16271535, 0.16271535, 0.16271535]],\n",
              "\n",
              "        [[0.35577568, 0.35577568, 0.35577568],\n",
              "         [0.1094902 , 0.1094902 , 0.1094902 ],\n",
              "         [0.05490196, 0.05490196, 0.05490196],\n",
              "         ...,\n",
              "         [0.05137245, 0.05137245, 0.05137245],\n",
              "         [0.05098039, 0.05098039, 0.05098039],\n",
              "         [0.05663845, 0.05663845, 0.05663845]],\n",
              "\n",
              "        [[0.33764705, 0.33764705, 0.33764705],\n",
              "         [0.19566269, 0.19566269, 0.19566269],\n",
              "         [0.14858823, 0.14858823, 0.14858823],\n",
              "         ...,\n",
              "         [0.1325097 , 0.1325097 , 0.1325097 ],\n",
              "         [0.05306679, 0.05306679, 0.05306679],\n",
              "         [0.05412552, 0.05412552, 0.05412552]],\n",
              "\n",
              "        ...,\n",
              "\n",
              "        [[0.0738745 , 0.0738745 , 0.0738745 ],\n",
              "         [0.03939604, 0.03939604, 0.03939604],\n",
              "         [0.04701962, 0.04701962, 0.04701962],\n",
              "         ...,\n",
              "         [0.03925489, 0.03925489, 0.03925489],\n",
              "         [0.03921569, 0.03921569, 0.03921569],\n",
              "         [0.03921569, 0.03921569, 0.03921569]],\n",
              "\n",
              "        [[0.07096944, 0.07096944, 0.07096944],\n",
              "         [0.04313726, 0.04313726, 0.04313726],\n",
              "         [0.04543544, 0.04543544, 0.04543544],\n",
              "         ...,\n",
              "         [0.04313726, 0.04313726, 0.04313726],\n",
              "         [0.04313726, 0.04313726, 0.04313726],\n",
              "         [0.03599997, 0.03599997, 0.03599997]],\n",
              "\n",
              "        [[0.07714666, 0.07714666, 0.07714666],\n",
              "         [0.05528312, 0.05528312, 0.05528312],\n",
              "         [0.05522354, 0.05522354, 0.05522354],\n",
              "         ...,\n",
              "         [0.04313726, 0.04313726, 0.04313726],\n",
              "         [0.04107598, 0.04107598, 0.04107598],\n",
              "         [0.03850983, 0.03850983, 0.03850983]]],\n",
              "\n",
              "\n",
              "       [[[0.03529412, 0.03529412, 0.03529412],\n",
              "         [0.04243137, 0.04243137, 0.04243137],\n",
              "         [0.0385098 , 0.0385098 , 0.0385098 ],\n",
              "         ...,\n",
              "         [0.03858037, 0.03858037, 0.03858037],\n",
              "         [0.03567532, 0.03567532, 0.03567532],\n",
              "         [0.03908863, 0.03908863, 0.03908863]],\n",
              "\n",
              "        [[0.04275608, 0.04275608, 0.04275608],\n",
              "         [0.03741176, 0.03741176, 0.03741176],\n",
              "         [0.05641567, 0.05641567, 0.05641567],\n",
              "         ...,\n",
              "         [0.03508241, 0.03508241, 0.03508241],\n",
              "         [0.03709789, 0.03709789, 0.03709789],\n",
              "         [0.0424314 , 0.0424314 , 0.0424314 ]],\n",
              "\n",
              "        [[0.04313726, 0.04313726, 0.04313726],\n",
              "         [0.03942746, 0.03942746, 0.03942746],\n",
              "         [0.10898037, 0.10898037, 0.10898037],\n",
              "         ...,\n",
              "         [0.028196  , 0.028196  , 0.028196  ],\n",
              "         [0.03921569, 0.03921569, 0.03921569],\n",
              "         [0.03850983, 0.03850983, 0.03850983]],\n",
              "\n",
              "        ...,\n",
              "\n",
              "        [[0.04705882, 0.04705882, 0.04705882],\n",
              "         [0.05058833, 0.05058833, 0.05058833],\n",
              "         [0.05098039, 0.05098039, 0.05098039],\n",
              "         ...,\n",
              "         [0.59960794, 0.59960794, 0.59960794],\n",
              "         [0.55717677, 0.55717677, 0.55717677],\n",
              "         [0.40971747, 0.40971747, 0.40971747]],\n",
              "\n",
              "        [[0.05638105, 0.05638105, 0.05638105],\n",
              "         [0.05701976, 0.05701976, 0.05701976],\n",
              "         [0.05278416, 0.05278416, 0.05278416],\n",
              "         ...,\n",
              "         [0.6016234 , 0.6016234 , 0.6016234 ],\n",
              "         [0.5638762 , 0.5638762 , 0.5638762 ],\n",
              "         [0.51983225, 0.51983225, 0.51983225]],\n",
              "\n",
              "        [[0.05753885, 0.05753885, 0.05753885],\n",
              "         [0.05638119, 0.05638119, 0.05638119],\n",
              "         [0.05850195, 0.05850195, 0.05850195],\n",
              "         ...,\n",
              "         [0.6181961 , 0.6181961 , 0.6181961 ],\n",
              "         [0.5864989 , 0.5864989 , 0.5864989 ],\n",
              "         [0.5112268 , 0.5112268 , 0.5112268 ]]]], dtype=float32)"
            ]
          },
          "metadata": {},
          "execution_count": 33
        }
      ]
    },
    {
      "cell_type": "code",
      "metadata": {
        "trusted": true,
        "colab": {
          "base_uri": "https://localhost:8080/"
        },
        "id": "VgbS644SJJVE",
        "outputId": "7a258d9c-f034-470b-e35b-3b76b192e8ac"
      },
      "source": [
        "label_viz.numpy()"
      ],
      "execution_count": 34,
      "outputs": [
        {
          "output_type": "execute_result",
          "data": {
            "text/plain": [
              "array([[0, 0, 0, 0, 0, 0, 0, 0, 0, 0, 0, 0, 0, 0],\n",
              "       [0, 0, 0, 0, 0, 0, 0, 0, 0, 0, 0, 0, 0, 0],\n",
              "       [0, 0, 0, 0, 0, 0, 0, 0, 1, 0, 0, 0, 0, 0],\n",
              "       [0, 0, 0, 0, 0, 0, 0, 0, 0, 0, 0, 0, 0, 0],\n",
              "       [0, 0, 0, 0, 0, 0, 0, 1, 0, 0, 0, 0, 1, 0],\n",
              "       [0, 0, 0, 0, 0, 0, 0, 0, 0, 0, 0, 0, 0, 0],\n",
              "       [0, 0, 0, 1, 0, 0, 0, 1, 0, 0, 0, 0, 0, 0],\n",
              "       [1, 0, 0, 0, 0, 0, 0, 0, 0, 1, 0, 0, 0, 0],\n",
              "       [0, 0, 0, 0, 0, 0, 0, 0, 0, 0, 0, 0, 0, 0],\n",
              "       [0, 0, 0, 0, 0, 0, 0, 0, 0, 0, 0, 0, 0, 0],\n",
              "       [0, 0, 1, 0, 0, 0, 0, 1, 0, 0, 0, 0, 0, 0],\n",
              "       [0, 0, 0, 0, 0, 0, 0, 0, 0, 0, 0, 0, 0, 0],\n",
              "       [0, 0, 0, 0, 0, 0, 0, 0, 0, 0, 0, 0, 0, 0],\n",
              "       [0, 0, 0, 0, 0, 0, 0, 0, 0, 0, 0, 0, 0, 0],\n",
              "       [0, 0, 0, 0, 0, 0, 0, 0, 0, 0, 0, 0, 1, 0],\n",
              "       [0, 0, 0, 0, 0, 0, 0, 0, 0, 0, 0, 0, 0, 0],\n",
              "       [0, 0, 0, 0, 0, 0, 0, 0, 0, 0, 0, 1, 0, 0],\n",
              "       [0, 0, 0, 0, 0, 0, 0, 0, 0, 0, 0, 0, 0, 0],\n",
              "       [0, 0, 0, 0, 0, 0, 0, 0, 0, 0, 0, 0, 0, 0],\n",
              "       [0, 0, 0, 0, 0, 0, 0, 0, 0, 0, 0, 0, 0, 0],\n",
              "       [0, 0, 0, 0, 0, 0, 0, 0, 0, 0, 0, 0, 0, 0],\n",
              "       [0, 0, 0, 0, 0, 0, 0, 0, 0, 0, 0, 1, 0, 0],\n",
              "       [0, 0, 0, 0, 0, 0, 0, 0, 0, 0, 0, 0, 0, 0],\n",
              "       [1, 1, 1, 0, 0, 0, 0, 1, 0, 0, 0, 0, 0, 0],\n",
              "       [0, 0, 1, 0, 0, 0, 0, 0, 0, 0, 0, 0, 0, 0],\n",
              "       [0, 0, 0, 0, 0, 0, 0, 0, 0, 0, 0, 0, 0, 0],\n",
              "       [0, 0, 0, 0, 0, 0, 0, 0, 0, 0, 0, 0, 0, 0],\n",
              "       [0, 0, 0, 0, 0, 0, 0, 0, 0, 0, 0, 0, 0, 0],\n",
              "       [0, 0, 0, 0, 0, 0, 0, 0, 0, 0, 0, 0, 1, 0],\n",
              "       [0, 0, 1, 0, 0, 0, 0, 0, 0, 0, 0, 0, 0, 0],\n",
              "       [0, 0, 1, 0, 0, 0, 0, 0, 0, 0, 0, 0, 0, 0],\n",
              "       [0, 0, 0, 0, 0, 0, 0, 0, 0, 0, 0, 0, 0, 0]])"
            ]
          },
          "metadata": {},
          "execution_count": 34
        }
      ]
    },
    {
      "cell_type": "markdown",
      "metadata": {
        "id": "gvIdFxQVJJVF"
      },
      "source": [
        "# PCA Model:"
      ]
    },
    {
      "cell_type": "code",
      "metadata": {
        "trusted": true,
        "colab": {
          "base_uri": "https://localhost:8080/",
          "height": 1000
        },
        "id": "skeQ21LIJJVF",
        "outputId": "c8181f75-741f-4840-a7f1-83b9ef6a68a3"
      },
      "source": [
        "from PIL import Image\n",
        "from IPython.display import display\n",
        "display(image)"
      ],
      "execution_count": 35,
      "outputs": [
        {
          "output_type": "display_data",
          "data": {
            "text/plain": [
              "['053-438.tfrec',\n",
              " '120-438.tfrec',\n",
              " '096-438.tfrec',\n",
              " '088-438.tfrec',\n",
              " '196-438.tfrec',\n",
              " '098-438.tfrec',\n",
              " '009-438.tfrec',\n",
              " '081-438.tfrec',\n",
              " '069-438.tfrec',\n",
              " '202-438.tfrec',\n",
              " '172-438.tfrec',\n",
              " '119-438.tfrec',\n",
              " '199-438.tfrec',\n",
              " '213-438.tfrec',\n",
              " '219-438.tfrec',\n",
              " '040-438.tfrec',\n",
              " '177-438.tfrec',\n",
              " '187-438.tfrec',\n",
              " '139-438.tfrec',\n",
              " '251-437.tfrec',\n",
              " '205-438.tfrec',\n",
              " '051-438.tfrec',\n",
              " '052-438.tfrec',\n",
              " '111-438.tfrec',\n",
              " '080-438.tfrec',\n",
              " '031-438.tfrec',\n",
              " '169-438.tfrec',\n",
              " '211-438.tfrec',\n",
              " '090-438.tfrec',\n",
              " '033-438.tfrec',\n",
              " '084-438.tfrec',\n",
              " '123-438.tfrec',\n",
              " '034-438.tfrec',\n",
              " '235-438.tfrec',\n",
              " '103-438.tfrec',\n",
              " '224-438.tfrec',\n",
              " '086-438.tfrec',\n",
              " '167-438.tfrec',\n",
              " '017-438.tfrec',\n",
              " '042-438.tfrec',\n",
              " '059-438.tfrec',\n",
              " '044-438.tfrec',\n",
              " '250-437.tfrec',\n",
              " '234-438.tfrec',\n",
              " '171-438.tfrec',\n",
              " '091-438.tfrec',\n",
              " '225-438.tfrec',\n",
              " '191-438.tfrec',\n",
              " '153-438.tfrec',\n",
              " '201-438.tfrec',\n",
              " '087-438.tfrec',\n",
              " '209-438.tfrec',\n",
              " '083-438.tfrec',\n",
              " '125-438.tfrec',\n",
              " '193-438.tfrec',\n",
              " '050-438.tfrec',\n",
              " '238-438.tfrec',\n",
              " '011-438.tfrec',\n",
              " '055-438.tfrec',\n",
              " '060-438.tfrec',\n",
              " '229-438.tfrec',\n",
              " '255-437.tfrec',\n",
              " '188-438.tfrec',\n",
              " '057-438.tfrec',\n",
              " '161-438.tfrec',\n",
              " '223-438.tfrec',\n",
              " '016-438.tfrec',\n",
              " '041-438.tfrec',\n",
              " '043-438.tfrec',\n",
              " '226-438.tfrec',\n",
              " '036-438.tfrec',\n",
              " '026-438.tfrec',\n",
              " '178-438.tfrec',\n",
              " '170-438.tfrec',\n",
              " '101-438.tfrec',\n",
              " '104-438.tfrec',\n",
              " '239-438.tfrec',\n",
              " '233-438.tfrec',\n",
              " '074-438.tfrec',\n",
              " '089-438.tfrec',\n",
              " '244-438.tfrec',\n",
              " '130-438.tfrec',\n",
              " '148-438.tfrec',\n",
              " '216-438.tfrec',\n",
              " '210-438.tfrec',\n",
              " '099-438.tfrec',\n",
              " '131-438.tfrec',\n",
              " '062-438.tfrec',\n",
              " '212-438.tfrec',\n",
              " '168-438.tfrec',\n",
              " '082-438.tfrec',\n",
              " '095-438.tfrec',\n",
              " '085-438.tfrec',\n",
              " '064-438.tfrec',\n",
              " '245-438.tfrec',\n",
              " '207-438.tfrec',\n",
              " '078-438.tfrec',\n",
              " '134-438.tfrec',\n",
              " '112-438.tfrec',\n",
              " '102-438.tfrec',\n",
              " '010-438.tfrec',\n",
              " '200-438.tfrec',\n",
              " '184-438.tfrec',\n",
              " '220-438.tfrec',\n",
              " '137-438.tfrec',\n",
              " '122-438.tfrec',\n",
              " '018-438.tfrec',\n",
              " '135-438.tfrec',\n",
              " '164-438.tfrec',\n",
              " '156-438.tfrec',\n",
              " '003-438.tfrec',\n",
              " '228-438.tfrec',\n",
              " '015-438.tfrec',\n",
              " '182-438.tfrec',\n",
              " '097-438.tfrec',\n",
              " '163-438.tfrec',\n",
              " '109-438.tfrec',\n",
              " '023-438.tfrec',\n",
              " '006-438.tfrec',\n",
              " '136-438.tfrec',\n",
              " '061-438.tfrec',\n",
              " '030-438.tfrec',\n",
              " '046-438.tfrec',\n",
              " '181-438.tfrec',\n",
              " '185-438.tfrec',\n",
              " '093-438.tfrec',\n",
              " '157-438.tfrec',\n",
              " '115-438.tfrec',\n",
              " '076-438.tfrec',\n",
              " '179-438.tfrec',\n",
              " '065-438.tfrec',\n",
              " '252-437.tfrec',\n",
              " '186-438.tfrec',\n",
              " '194-438.tfrec',\n",
              " '113-438.tfrec',\n",
              " '158-438.tfrec',\n",
              " '066-438.tfrec',\n",
              " '029-438.tfrec',\n",
              " '056-438.tfrec',\n",
              " '189-438.tfrec',\n",
              " '204-438.tfrec',\n",
              " '075-438.tfrec',\n",
              " '254-437.tfrec',\n",
              " '142-438.tfrec',\n",
              " '071-438.tfrec',\n",
              " '155-438.tfrec',\n",
              " '217-438.tfrec',\n",
              " '249-437.tfrec',\n",
              " '048-438.tfrec',\n",
              " '138-438.tfrec',\n",
              " '190-438.tfrec',\n",
              " '236-438.tfrec',\n",
              " '002-438.tfrec',\n",
              " '037-438.tfrec',\n",
              " '227-438.tfrec',\n",
              " '116-438.tfrec',\n",
              " '247-438.tfrec',\n",
              " '014-438.tfrec',\n",
              " '001-438.tfrec',\n",
              " '049-438.tfrec',\n",
              " '107-438.tfrec',\n",
              " '173-438.tfrec',\n",
              " '165-438.tfrec',\n",
              " '240-438.tfrec',\n",
              " '117-438.tfrec',\n",
              " '230-438.tfrec',\n",
              " '100-438.tfrec',\n",
              " '028-438.tfrec',\n",
              " '133-438.tfrec',\n",
              " '108-438.tfrec',\n",
              " '126-438.tfrec',\n",
              " '121-438.tfrec',\n",
              " '114-438.tfrec',\n",
              " '248-437.tfrec',\n",
              " '147-438.tfrec',\n",
              " '106-438.tfrec',\n",
              " '180-438.tfrec',\n",
              " '242-438.tfrec',\n",
              " '154-438.tfrec',\n",
              " '198-438.tfrec',\n",
              " '110-438.tfrec',\n",
              " '152-438.tfrec',\n",
              " '159-438.tfrec',\n",
              " '221-438.tfrec',\n",
              " '063-438.tfrec',\n",
              " '197-438.tfrec',\n",
              " '143-438.tfrec',\n",
              " '243-438.tfrec',\n",
              " '174-438.tfrec',\n",
              " '013-438.tfrec',\n",
              " '183-438.tfrec',\n",
              " '092-438.tfrec',\n",
              " '047-438.tfrec',\n",
              " '004-438.tfrec',\n",
              " '151-438.tfrec',\n",
              " '146-438.tfrec',\n",
              " '141-438.tfrec',\n",
              " '222-438.tfrec',\n",
              " '118-438.tfrec',\n",
              " '000-438.tfrec',\n",
              " '160-438.tfrec',\n",
              " '253-437.tfrec',\n",
              " '073-438.tfrec',\n",
              " '012-438.tfrec',\n",
              " '079-438.tfrec',\n",
              " '022-438.tfrec',\n",
              " '150-438.tfrec',\n",
              " '054-438.tfrec',\n",
              " '045-438.tfrec',\n",
              " '246-438.tfrec',\n",
              " '144-438.tfrec',\n",
              " '149-438.tfrec',\n",
              " '132-438.tfrec',\n",
              " '206-438.tfrec',\n",
              " '127-438.tfrec',\n",
              " '077-438.tfrec',\n",
              " '068-438.tfrec',\n",
              " '070-438.tfrec',\n",
              " '008-438.tfrec',\n",
              " '192-438.tfrec',\n",
              " '140-438.tfrec',\n",
              " '129-438.tfrec',\n",
              " '021-438.tfrec',\n",
              " '035-438.tfrec',\n",
              " '024-438.tfrec',\n",
              " '038-438.tfrec',\n",
              " '058-438.tfrec',\n",
              " '019-438.tfrec',\n",
              " '218-438.tfrec',\n",
              " '105-438.tfrec',\n",
              " '007-438.tfrec',\n",
              " '166-438.tfrec',\n",
              " '241-438.tfrec',\n",
              " '176-438.tfrec',\n",
              " '124-438.tfrec',\n",
              " '203-438.tfrec',\n",
              " '067-438.tfrec',\n",
              " '231-438.tfrec',\n",
              " '027-438.tfrec',\n",
              " '072-438.tfrec',\n",
              " '032-438.tfrec',\n",
              " '214-438.tfrec',\n",
              " '094-438.tfrec',\n",
              " '237-438.tfrec',\n",
              " '128-438.tfrec',\n",
              " '195-438.tfrec',\n",
              " '005-438.tfrec',\n",
              " '232-438.tfrec',\n",
              " '208-438.tfrec',\n",
              " '215-438.tfrec',\n",
              " '175-438.tfrec',\n",
              " '039-438.tfrec',\n",
              " '025-438.tfrec',\n",
              " '020-438.tfrec',\n",
              " '145-438.tfrec',\n",
              " '162-438.tfrec']"
            ]
          },
          "metadata": {}
        }
      ]
    },
    {
      "cell_type": "code",
      "metadata": {
        "trusted": true,
        "colab": {
          "base_uri": "https://localhost:8080/",
          "height": 152
        },
        "id": "mcHI0fkIJJVG",
        "outputId": "35024a32-5d7d-4267-ee40-fc25551a225a"
      },
      "source": [
        "'''# Read and print data:\n",
        "sess=tf.compat.v1.InteractiveSession()\n",
        "\n",
        "# Read TFRecord file\n",
        "reader = tf.compat.v1.TFRecordReader()\n",
        "#tf.compat.v1.python_io\n",
        "filename_queue = tf.train.string_input_producer(['180-438.tfrec'])\n",
        "_, serialized_example = reader.read(filename_queue)\n",
        "\n",
        "# Define features\n",
        "read_features = {\n",
        "    'image/height': tf.FixedLenFeature([], dtype=tf.int64),\n",
        "    'image/width': tf.FixedLenFeature([], dtype=tf.int64),\n",
        "    'image/colorspace': tf.FixedLenFeature([], dtype=tf.string),\n",
        "    'image/class/label': tf.FixedLenFeature([], dtype=tf.int64),\n",
        "    'image/class/raw': tf.FixedLenFeature([], dtype=tf.int64),\n",
        "    'image/class/source': tf.FixedLenFeature([], dtype=tf.int64),\n",
        "    'image/class/text': tf.FixedLenFeature([], dtype=tf.string),\n",
        "    'image/format': tf.FixedLenFeature([], dtype=tf.string),\n",
        "    'image/filename': tf.FixedLenFeature([], dtype=tf.string),\n",
        "    'image/id': tf.FixedLenFeature([], dtype=tf.int64),\n",
        "    'image/encoded': tf.FixedLenFeature([], dtype=tf.string)\n",
        "}\n",
        "\n",
        "# Extract features from serialized data\n",
        "read_data = tf.parse_single_example(serialized=serialized_example,\n",
        "                                features=read_features)\n",
        "\n",
        "# Many tf.train functions use tf.train.QueueRunner,\n",
        "# so we need to start it before we read\n",
        "tf.train.start_queue_runners(sess)\n",
        "\n",
        "# Print features\n",
        "for name, tensor in read_data.items():\n",
        "    print('{}: {}'.format(name, tensor.eval()))\n",
        "    '''"
      ],
      "execution_count": 36,
      "outputs": [
        {
          "output_type": "execute_result",
          "data": {
            "application/vnd.google.colaboratory.intrinsic+json": {
              "type": "string"
            },
            "text/plain": [
              "\"# Read and print data:\\nsess=tf.compat.v1.InteractiveSession()\\n\\n# Read TFRecord file\\nreader = tf.compat.v1.TFRecordReader()\\n#tf.compat.v1.python_io\\nfilename_queue = tf.train.string_input_producer(['180-438.tfrec'])\\n_, serialized_example = reader.read(filename_queue)\\n\\n# Define features\\nread_features = {\\n    'image/height': tf.FixedLenFeature([], dtype=tf.int64),\\n    'image/width': tf.FixedLenFeature([], dtype=tf.int64),\\n    'image/colorspace': tf.FixedLenFeature([], dtype=tf.string),\\n    'image/class/label': tf.FixedLenFeature([], dtype=tf.int64),\\n    'image/class/raw': tf.FixedLenFeature([], dtype=tf.int64),\\n    'image/class/source': tf.FixedLenFeature([], dtype=tf.int64),\\n    'image/class/text': tf.FixedLenFeature([], dtype=tf.string),\\n    'image/format': tf.FixedLenFeature([], dtype=tf.string),\\n    'image/filename': tf.FixedLenFeature([], dtype=tf.string),\\n    'image/id': tf.FixedLenFeature([], dtype=tf.int64),\\n    'image/encoded': tf.FixedLenFeature([], dtype=tf.string)\\n}\\n\\n# Extract features from serialized data\\nread_data = tf.parse_single_example(serialized=serialized_example,\\n                                features=read_features)\\n\\n# Many tf.train functions use tf.train.QueueRunner,\\n# so we need to start it before we read\\ntf.train.start_queue_runners(sess)\\n\\n# Print features\\nfor name, tensor in read_data.items():\\n    print('{}: {}'.format(name, tensor.eval()))\\n    \""
            ]
          },
          "metadata": {},
          "execution_count": 36
        }
      ]
    },
    {
      "cell_type": "markdown",
      "metadata": {
        "id": "Wt-bDzG2JJVH"
      },
      "source": [
        "## Tree Classification Model (Machine Learning)"
      ]
    },
    {
      "cell_type": "code",
      "metadata": {
        "trusted": true,
        "id": "M14orY3IJJVJ"
      },
      "source": [
        "# Import libraries\n",
        "from sklearn.tree import DecisionTreeClassifier # Import Decision Tree Classifier\n",
        "from sklearn.model_selection import train_test_split # Import train_test_split function\n",
        "from sklearn import metrics"
      ],
      "execution_count": 37,
      "outputs": []
    },
    {
      "cell_type": "code",
      "metadata": {
        "trusted": true,
        "colab": {
          "base_uri": "https://localhost:8080/",
          "height": 1000
        },
        "id": "JyAw69HTJJVK",
        "outputId": "30558f44-3916-417a-abd8-09a4705e3176"
      },
      "source": [
        "#Define y as response (No Finding category)\n",
        "y = data.iloc[:32, :1]\n",
        "y"
      ],
      "execution_count": 38,
      "outputs": [
        {
          "output_type": "execute_result",
          "data": {
            "text/html": [
              "<div>\n",
              "<style scoped>\n",
              "    .dataframe tbody tr th:only-of-type {\n",
              "        vertical-align: middle;\n",
              "    }\n",
              "\n",
              "    .dataframe tbody tr th {\n",
              "        vertical-align: top;\n",
              "    }\n",
              "\n",
              "    .dataframe thead th {\n",
              "        text-align: right;\n",
              "    }\n",
              "</style>\n",
              "<table border=\"1\" class=\"dataframe\">\n",
              "  <thead>\n",
              "    <tr style=\"text-align: right;\">\n",
              "      <th></th>\n",
              "      <th>No Finding</th>\n",
              "    </tr>\n",
              "  </thead>\n",
              "  <tbody>\n",
              "    <tr>\n",
              "      <th>0</th>\n",
              "      <td>0</td>\n",
              "    </tr>\n",
              "    <tr>\n",
              "      <th>1</th>\n",
              "      <td>0</td>\n",
              "    </tr>\n",
              "    <tr>\n",
              "      <th>2</th>\n",
              "      <td>0</td>\n",
              "    </tr>\n",
              "    <tr>\n",
              "      <th>3</th>\n",
              "      <td>1</td>\n",
              "    </tr>\n",
              "    <tr>\n",
              "      <th>4</th>\n",
              "      <td>0</td>\n",
              "    </tr>\n",
              "    <tr>\n",
              "      <th>5</th>\n",
              "      <td>0</td>\n",
              "    </tr>\n",
              "    <tr>\n",
              "      <th>6</th>\n",
              "      <td>0</td>\n",
              "    </tr>\n",
              "    <tr>\n",
              "      <th>7</th>\n",
              "      <td>0</td>\n",
              "    </tr>\n",
              "    <tr>\n",
              "      <th>8</th>\n",
              "      <td>0</td>\n",
              "    </tr>\n",
              "    <tr>\n",
              "      <th>9</th>\n",
              "      <td>0</td>\n",
              "    </tr>\n",
              "    <tr>\n",
              "      <th>10</th>\n",
              "      <td>0</td>\n",
              "    </tr>\n",
              "    <tr>\n",
              "      <th>11</th>\n",
              "      <td>0</td>\n",
              "    </tr>\n",
              "    <tr>\n",
              "      <th>12</th>\n",
              "      <td>0</td>\n",
              "    </tr>\n",
              "    <tr>\n",
              "      <th>13</th>\n",
              "      <td>1</td>\n",
              "    </tr>\n",
              "    <tr>\n",
              "      <th>14</th>\n",
              "      <td>1</td>\n",
              "    </tr>\n",
              "    <tr>\n",
              "      <th>15</th>\n",
              "      <td>1</td>\n",
              "    </tr>\n",
              "    <tr>\n",
              "      <th>16</th>\n",
              "      <td>1</td>\n",
              "    </tr>\n",
              "    <tr>\n",
              "      <th>17</th>\n",
              "      <td>1</td>\n",
              "    </tr>\n",
              "    <tr>\n",
              "      <th>18</th>\n",
              "      <td>1</td>\n",
              "    </tr>\n",
              "    <tr>\n",
              "      <th>19</th>\n",
              "      <td>0</td>\n",
              "    </tr>\n",
              "    <tr>\n",
              "      <th>20</th>\n",
              "      <td>0</td>\n",
              "    </tr>\n",
              "    <tr>\n",
              "      <th>21</th>\n",
              "      <td>1</td>\n",
              "    </tr>\n",
              "    <tr>\n",
              "      <th>22</th>\n",
              "      <td>1</td>\n",
              "    </tr>\n",
              "    <tr>\n",
              "      <th>23</th>\n",
              "      <td>0</td>\n",
              "    </tr>\n",
              "    <tr>\n",
              "      <th>24</th>\n",
              "      <td>1</td>\n",
              "    </tr>\n",
              "    <tr>\n",
              "      <th>25</th>\n",
              "      <td>0</td>\n",
              "    </tr>\n",
              "    <tr>\n",
              "      <th>26</th>\n",
              "      <td>0</td>\n",
              "    </tr>\n",
              "    <tr>\n",
              "      <th>27</th>\n",
              "      <td>0</td>\n",
              "    </tr>\n",
              "    <tr>\n",
              "      <th>28</th>\n",
              "      <td>0</td>\n",
              "    </tr>\n",
              "    <tr>\n",
              "      <th>29</th>\n",
              "      <td>1</td>\n",
              "    </tr>\n",
              "    <tr>\n",
              "      <th>30</th>\n",
              "      <td>1</td>\n",
              "    </tr>\n",
              "    <tr>\n",
              "      <th>31</th>\n",
              "      <td>1</td>\n",
              "    </tr>\n",
              "  </tbody>\n",
              "</table>\n",
              "</div>"
            ],
            "text/plain": [
              "    No Finding\n",
              "0            0\n",
              "1            0\n",
              "2            0\n",
              "3            1\n",
              "4            0\n",
              "5            0\n",
              "6            0\n",
              "7            0\n",
              "8            0\n",
              "9            0\n",
              "10           0\n",
              "11           0\n",
              "12           0\n",
              "13           1\n",
              "14           1\n",
              "15           1\n",
              "16           1\n",
              "17           1\n",
              "18           1\n",
              "19           0\n",
              "20           0\n",
              "21           1\n",
              "22           1\n",
              "23           0\n",
              "24           1\n",
              "25           0\n",
              "26           0\n",
              "27           0\n",
              "28           0\n",
              "29           1\n",
              "30           1\n",
              "31           1"
            ]
          },
          "metadata": {},
          "execution_count": 38
        }
      ]
    },
    {
      "cell_type": "code",
      "metadata": {
        "trusted": true,
        "colab": {
          "base_uri": "https://localhost:8080/"
        },
        "id": "3wO_CQXcJJVL",
        "outputId": "4effa8e7-a3ce-4dbf-e3e0-cf694f49fc3b"
      },
      "source": [
        "#define y as numpy array\n",
        "y = y.values\n",
        "y"
      ],
      "execution_count": 39,
      "outputs": [
        {
          "output_type": "execute_result",
          "data": {
            "text/plain": [
              "array([[0],\n",
              "       [0],\n",
              "       [0],\n",
              "       [1],\n",
              "       [0],\n",
              "       [0],\n",
              "       [0],\n",
              "       [0],\n",
              "       [0],\n",
              "       [0],\n",
              "       [0],\n",
              "       [0],\n",
              "       [0],\n",
              "       [1],\n",
              "       [1],\n",
              "       [1],\n",
              "       [1],\n",
              "       [1],\n",
              "       [1],\n",
              "       [0],\n",
              "       [0],\n",
              "       [1],\n",
              "       [1],\n",
              "       [0],\n",
              "       [1],\n",
              "       [0],\n",
              "       [0],\n",
              "       [0],\n",
              "       [0],\n",
              "       [1],\n",
              "       [1],\n",
              "       [1]])"
            ]
          },
          "metadata": {},
          "execution_count": 39
        }
      ]
    },
    {
      "cell_type": "code",
      "metadata": {
        "trusted": true,
        "id": "y0Rd48eiJJVM"
      },
      "source": [
        "# Define x as explanatory variables\n",
        "x = image_viz"
      ],
      "execution_count": 40,
      "outputs": []
    },
    {
      "cell_type": "code",
      "metadata": {
        "trusted": true,
        "colab": {
          "base_uri": "https://localhost:8080/"
        },
        "id": "LqcrPq1DJJVM",
        "outputId": "52249bc5-669c-458f-f264-d87657cd8ee4"
      },
      "source": [
        "#Check shape of x\n",
        "x.shape"
      ],
      "execution_count": 41,
      "outputs": [
        {
          "output_type": "execute_result",
          "data": {
            "text/plain": [
              "TensorShape([32, 50, 50, 3])"
            ]
          },
          "metadata": {},
          "execution_count": 41
        }
      ]
    },
    {
      "cell_type": "code",
      "metadata": {
        "trusted": true,
        "colab": {
          "base_uri": "https://localhost:8080/"
        },
        "id": "X0ktHIkaJJVN",
        "outputId": "fafdaad4-92bc-4ece-922f-14677618ed63"
      },
      "source": [
        "#Check shape of y\n",
        "y.shape"
      ],
      "execution_count": 42,
      "outputs": [
        {
          "output_type": "execute_result",
          "data": {
            "text/plain": [
              "(32, 1)"
            ]
          },
          "metadata": {},
          "execution_count": 42
        }
      ]
    },
    {
      "cell_type": "code",
      "metadata": {
        "trusted": true,
        "id": "uZ_1JEC2JJVN"
      },
      "source": [
        "#convert x tensor to an array\n",
        "proto_tensor = tf.make_tensor_proto(image_viz)  # convert `tensor a` to a proto tensor\n",
        "x = tf.make_ndarray(proto_tensor) \n",
        "\n",
        "# output has shape (2,3)"
      ],
      "execution_count": 43,
      "outputs": []
    },
    {
      "cell_type": "code",
      "metadata": {
        "trusted": true,
        "colab": {
          "base_uri": "https://localhost:8080/"
        },
        "id": "76b8IbArJJVP",
        "outputId": "e7084589-c561-4620-8b3b-ebb881147b7e"
      },
      "source": [
        "x.shape"
      ],
      "execution_count": 44,
      "outputs": [
        {
          "output_type": "execute_result",
          "data": {
            "text/plain": [
              "(32, 50, 50, 3)"
            ]
          },
          "metadata": {},
          "execution_count": 44
        }
      ]
    },
    {
      "cell_type": "code",
      "metadata": {
        "trusted": true,
        "colab": {
          "base_uri": "https://localhost:8080/"
        },
        "id": "Gb2og5zbJJVQ",
        "outputId": "627a88ad-49d6-42c2-85d7-46ea0b2c9f20"
      },
      "source": [
        "#reshape x from 4D to 2D\n",
        "reshaped = x.reshape(32, 7500)\n",
        "reshaped.shape"
      ],
      "execution_count": 45,
      "outputs": [
        {
          "output_type": "execute_result",
          "data": {
            "text/plain": [
              "(32, 7500)"
            ]
          },
          "metadata": {},
          "execution_count": 45
        }
      ]
    },
    {
      "cell_type": "code",
      "metadata": {
        "trusted": true,
        "id": "tP6eQu0dJJVQ"
      },
      "source": [
        "# define the explanatory data as newx\n",
        "newx=reshaped"
      ],
      "execution_count": 46,
      "outputs": []
    },
    {
      "cell_type": "code",
      "metadata": {
        "trusted": true,
        "colab": {
          "base_uri": "https://localhost:8080/"
        },
        "id": "HgfkcI34JJVR",
        "outputId": "7618c93b-36b5-40cb-deef-44668ced5bfe"
      },
      "source": [
        "#Check shape\n",
        "print(newx.shape)\n",
        "print(y.shape)"
      ],
      "execution_count": 47,
      "outputs": [
        {
          "output_type": "stream",
          "name": "stdout",
          "text": [
            "(32, 7500)\n",
            "(32, 1)\n"
          ]
        }
      ]
    },
    {
      "cell_type": "code",
      "metadata": {
        "trusted": true,
        "colab": {
          "base_uri": "https://localhost:8080/"
        },
        "id": "aMxwntQuJJVR",
        "outputId": "7840d447-72d1-42b9-b9eb-74436cbcf4a9"
      },
      "source": [
        "# Split the train and test sets\n",
        "from sklearn.model_selection import train_test_split\n",
        "\n",
        "x_train, x_test, y_train, y_test = train_test_split(newx,y, test_size = 0.2, random_state = 4)\n",
        "print('Train set:', x_train.shape)\n",
        "print('Test set:', x_test.shape)\n",
        "print('Train set:', y_train.shape)\n",
        "print('Test set:', y_test.shape)"
      ],
      "execution_count": 48,
      "outputs": [
        {
          "output_type": "stream",
          "name": "stdout",
          "text": [
            "Train set: (25, 7500)\n",
            "Test set: (7, 7500)\n",
            "Train set: (25, 1)\n",
            "Test set: (7, 1)\n"
          ]
        }
      ]
    },
    {
      "cell_type": "code",
      "metadata": {
        "trusted": true,
        "colab": {
          "base_uri": "https://localhost:8080/"
        },
        "id": "nFgnRbw0JJVR",
        "outputId": "069a1854-577e-46dd-9665-12bf7427c317"
      },
      "source": [
        "# Decision Tree classifier\n",
        "tree_clf = DecisionTreeClassifier(max_depth=4, random_state=42)\n",
        "tree_clf.fit(x_train, y_train)"
      ],
      "execution_count": 49,
      "outputs": [
        {
          "output_type": "execute_result",
          "data": {
            "text/plain": [
              "DecisionTreeClassifier(max_depth=4, random_state=42)"
            ]
          },
          "metadata": {},
          "execution_count": 49
        }
      ]
    },
    {
      "cell_type": "code",
      "metadata": {
        "trusted": true,
        "colab": {
          "base_uri": "https://localhost:8080/"
        },
        "id": "rawlzeGoJJVS",
        "outputId": "50547707-fd70-49fc-9126-cc1e3c48043a"
      },
      "source": [
        "#Accuracy evaluation\n",
        "y_predict=tree_clf.predict(x_test)\n",
        "\n",
        "print(\"Train set Accuracy: \", metrics.accuracy_score(y_train, tree_clf.predict(x_train)))\n",
        "print(\"Test set Accuracy: \", metrics.accuracy_score(y_test, y_predict))"
      ],
      "execution_count": 50,
      "outputs": [
        {
          "output_type": "stream",
          "name": "stdout",
          "text": [
            "Train set Accuracy:  1.0\n",
            "Test set Accuracy:  0.42857142857142855\n"
          ]
        }
      ]
    },
    {
      "cell_type": "markdown",
      "metadata": {
        "id": "tAXi345AJJVS"
      },
      "source": [
        "Using a Decision Tree Classifier to classify the images as No Disease Finding or Yes Disease found gave a training set accuracy of 100%. The test set accuracy is about 42%, so this model is not great at predicting the disease based on the x-ray images."
      ]
    },
    {
      "cell_type": "code",
      "metadata": {
        "trusted": true,
        "colab": {
          "base_uri": "https://localhost:8080/"
        },
        "id": "rR5vN8dMJJVT",
        "outputId": "6b7b71bc-b15e-478f-d673-f44829465df9"
      },
      "source": [
        "#Confusion matrix\n",
        "from sklearn.metrics import confusion_matrix\n",
        "cm=confusion_matrix(y_test,y_predict)\n",
        "print(cm)"
      ],
      "execution_count": 51,
      "outputs": [
        {
          "output_type": "stream",
          "name": "stdout",
          "text": [
            "[[1 3]\n",
            " [1 2]]\n"
          ]
        }
      ]
    },
    {
      "cell_type": "markdown",
      "metadata": {
        "id": "6a-xBjI-JJVT"
      },
      "source": [
        "# CNN Model:"
      ]
    },
    {
      "cell_type": "code",
      "metadata": {
        "trusted": true,
        "id": "YxLp_oC8JJVT"
      },
      "source": [
        "initial_learning_rate = 0.01\n",
        "lr_schedule = tf.keras.optimizers.schedules.ExponentialDecay(\n",
        "    initial_learning_rate, decay_steps=5, decay_rate=0.96, staircase=True\n",
        ")\n"
      ],
      "execution_count": 52,
      "outputs": []
    },
    {
      "cell_type": "code",
      "metadata": {
        "trusted": true,
        "id": "hgjjLQKWJJVT"
      },
      "source": [
        "def define_model(in_shape=(IMAGE_SIZE[0], IMAGE_SIZE[1], 3), out_shape=len(heads)):\n",
        "    model = Sequential()\n",
        "    model.add(Conv2D(32, (3, 3), activation='relu', kernel_initializer='he_uniform', padding='same', input_shape=in_shape))\n",
        "    model.add(Conv2D(32, (3, 3), activation='relu', kernel_initializer='he_uniform', padding='same'))\n",
        "    model.add(MaxPooling2D((2, 2)))\n",
        "    model.add(Conv2D(64, (3, 3), activation='relu', kernel_initializer='he_uniform', padding='same'))\n",
        "    model.add(Conv2D(64, (3, 3), activation='relu', kernel_initializer='he_uniform', padding='same'))\n",
        "    model.add(MaxPooling2D((2, 2)))\n",
        "    model.add(Conv2D(128, (3, 3), activation='relu', kernel_initializer='he_uniform', padding='same'))\n",
        "    model.add(Conv2D(128, (3, 3), activation='relu', kernel_initializer='he_uniform', padding='same'))\n",
        "    model.add(MaxPooling2D((2, 2)))\n",
        "    model.add(Flatten())\n",
        "    model.add(Dense(128, activation='relu', kernel_initializer='he_uniform'))\n",
        "    model.add(Dense(out_shape, activation='sigmoid'))\n",
        "    \n",
        "    config = wandb.config\n",
        "    config.learning_rate = 0.01\n",
        "    model.compile(optimizer=tf.keras.optimizers.Adadelta(learning_rate=lr_schedule),\n",
        "                  loss='binary_crossentropy',\n",
        "                  metrics=[tf.keras.metrics.AUC(name=\"auc\")])\n",
        "    return model"
      ],
      "execution_count": 53,
      "outputs": []
    },
    {
      "cell_type": "code",
      "metadata": {
        "trusted": true,
        "colab": {
          "base_uri": "https://localhost:8080/"
        },
        "id": "z7NkYYStJJVT",
        "outputId": "0f5926eb-f75b-4a25-9637-fd3f290b1606"
      },
      "source": [
        "train_size = sum(1 for _ in tf.data.TFRecordDataset(TRAINING_FILENAMES))\n",
        "validation_size = sum(1 for _ in tf.data.TFRecordDataset(VALID_FILENAMES))\n",
        "\n",
        "epoch_steps = int(np.ceil(train_size/BATCH_SIZE))\n",
        "validation_steps = int(np.ceil(validation_size/BATCH_SIZE))\n",
        "\n",
        "epochs = 5\n",
        "\n",
        "print(\"steps_per_epoch: \" + str(epoch_steps))\n",
        "print(\"validation_steps: \" + str(validation_steps))"
      ],
      "execution_count": 54,
      "outputs": [
        {
          "output_type": "stream",
          "name": "stdout",
          "text": [
            "steps_per_epoch: 2505\n",
            "validation_steps: 288\n"
          ]
        }
      ]
    },
    {
      "cell_type": "code",
      "metadata": {
        "trusted": true,
        "colab": {
          "base_uri": "https://localhost:8080/"
        },
        "id": "v0FhQPpGJJVU",
        "outputId": "4cd4200b-0126-4a9b-c9ed-c46288873def"
      },
      "source": [
        "model = define_model()\n",
        "\n",
        "history = model.fit(\n",
        "    train_dataset,\n",
        "    epochs=epochs,\n",
        "    validation_data=valid_dataset,\n",
        "    validation_steps = validation_steps,callbacks=[WandbCallback()]\n",
        ")"
      ],
      "execution_count": 55,
      "outputs": [
        {
          "output_type": "stream",
          "name": "stdout",
          "text": [
            "Epoch 1/5\n",
            "2505/2505 [==============================] - 272s 94ms/step - loss: 0.1917 - auc: 0.7129 - val_loss: 0.1893 - val_auc: 0.7156\n",
            "Epoch 2/5\n",
            "2505/2505 [==============================] - 256s 101ms/step - loss: 0.1869 - auc: 0.7220 - val_loss: 0.1893 - val_auc: 0.7156\n",
            "Epoch 3/5\n",
            "2505/2505 [==============================] - 242s 94ms/step - loss: 0.1869 - auc: 0.7220 - val_loss: 0.1893 - val_auc: 0.7156\n",
            "Epoch 4/5\n",
            "2505/2505 [==============================] - 241s 94ms/step - loss: 0.1869 - auc: 0.7220 - val_loss: 0.1893 - val_auc: 0.7156\n",
            "Epoch 5/5\n",
            "2505/2505 [==============================] - 240s 94ms/step - loss: 0.1869 - auc: 0.7220 - val_loss: 0.1893 - val_auc: 0.7156\n"
          ]
        }
      ]
    },
    {
      "cell_type": "code",
      "metadata": {
        "trusted": true,
        "colab": {
          "base_uri": "https://localhost:8080/"
        },
        "id": "n1bvW956JJVV",
        "outputId": "49a12fc5-b487-49f5-f4db-0d259fd82c27"
      },
      "source": [
        "_, test_auc = model.evaluate(test_dataset, verbose=0)\n",
        "\n",
        "test_acc = model.evaluate(test_dataset)\n",
        "print('Test auc:', test_auc)\n",
        "print('Test :', test_acc)"
      ],
      "execution_count": 56,
      "outputs": [
        {
          "output_type": "stream",
          "name": "stdout",
          "text": [
            "712/712 [==============================] - 52s 67ms/step - loss: 0.1860 - auc: 0.7230\n",
            "Test auc: 0.7230204343795776\n",
            "Test : [0.18603891134262085, 0.7230204343795776]\n"
          ]
        }
      ]
    },
    {
      "cell_type": "markdown",
      "metadata": {
        "id": "MQ9YgnZLJJVV"
      },
      "source": [
        "The CNN model gives an accuracy of 70% when predicting x-ray images."
      ]
    },
    {
      "cell_type": "markdown",
      "metadata": {
        "id": "ETnfob4yJJVV"
      },
      "source": [
        "## Conclusions"
      ]
    },
    {
      "cell_type": "markdown",
      "metadata": {
        "id": "XpprdYM0JJVW"
      },
      "source": [
        "Conclusion:\n",
        "\n",
        "The model used for Machine Learning is the Tree Classifier \n",
        "\n",
        "The final model for tree classifier we decided to use only what category which is “Finding”, the values in this column are stating whether or not there is a disease detected instead of including all 15 categories.\n",
        "\n",
        "The accuracy from the tree classifier model gave us 100% from the training set accuracy, while for test set the accuracy was about 27%.This suggests that in the training set it appears to be some oversampling because it is not likely that the model can predict 100% accuracy\n",
        "\n",
        "\n",
        "The model used for Deep Learning is the CNN model\n",
        "\n",
        "The accuracy from the CNN model 74% to classify the disease images. This shows that the deep learning model (CNN) performed better than the decision tree.\n",
        "\n",
        "While working on the project there are some issues that we ran through like PCA\n",
        "We tried to apply PCA but we encountered some problems when converting the image files from tfrec to jpeg.\n",
        "\n",
        "Further Improvement:\n",
        "\n",
        "We could try to implement PCA model and using all the categories to see how the model accuracy changes for both Tree Classifier and CNN\n",
        "\n",
        "\n",
        "\n",
        "Reference: \n",
        "https://www.kaggle.com/hemanthhari/cv-hemanth\n"
      ]
    }
  ]
}
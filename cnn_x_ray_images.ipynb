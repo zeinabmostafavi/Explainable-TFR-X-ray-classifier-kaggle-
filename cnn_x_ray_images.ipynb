{
  "nbformat": 4,
  "nbformat_minor": 0,
  "metadata": {
    "kernelspec": {
      "language": "python",
      "display_name": "Python 3",
      "name": "python3"
    },
    "language_info": {
      "pygments_lexer": "ipython3",
      "nbconvert_exporter": "python",
      "version": "3.6.4",
      "file_extension": ".py",
      "codemirror_mode": {
        "name": "ipython",
        "version": 3
      },
      "name": "python",
      "mimetype": "text/x-python"
    },
    "colab": {
      "name": "cnn_x_ray_images(1).ipynb",
      "provenance": []
    },
    "accelerator": "GPU"
  },
  "cells": [
    {
      "cell_type": "code",
      "metadata": {
        "colab": {
          "base_uri": "https://localhost:8080/"
        },
        "id": "5mjy1jdpFJG2",
        "outputId": "45d05cc6-4e76-469a-8288-dce0420efd7e"
      },
      "source": [
        "from google.colab import drive\n",
        "drive.mount('/content/drive')"
      ],
      "execution_count": 1,
      "outputs": [
        {
          "output_type": "stream",
          "name": "stdout",
          "text": [
            "Mounted at /content/drive\n"
          ]
        }
      ]
    },
    {
      "cell_type": "code",
      "metadata": {
        "id": "NS_TWOrP4JCp"
      },
      "source": [
        "import zipfile\n",
        "zip_ref = zipfile.ZipFile(\"/content/drive/MyDrive/kaggle/nih-chest-xrays-tfrecords.zip\", 'r')\n",
        "zip_ref.extractall(\"/content/nih-chest-xrays-tfrecords\")\n",
        "zip_ref.close()"
      ],
      "execution_count": 2,
      "outputs": []
    },
    {
      "cell_type": "code",
      "metadata": {
        "id": "yCO2PXdwyn9d"
      },
      "source": [
        ""
      ],
      "execution_count": 2,
      "outputs": []
    },
    {
      "cell_type": "code",
      "metadata": {
        "id": "bjL6q8DZzkV7",
        "colab": {
          "base_uri": "https://localhost:8080/"
        },
        "outputId": "c49fb45a-6653-4318-f40b-1131ffb02c8e"
      },
      "source": [
        "!pip install wandb\n",
        "import wandb\n",
        "from wandb.keras import WandbCallback"
      ],
      "execution_count": 3,
      "outputs": [
        {
          "output_type": "stream",
          "name": "stdout",
          "text": [
            "Collecting wandb\n",
            "  Downloading wandb-0.12.7-py2.py3-none-any.whl (1.7 MB)\n",
            "\u001b[K     |████████████████████████████████| 1.7 MB 5.4 MB/s \n",
            "\u001b[?25hRequirement already satisfied: python-dateutil>=2.6.1 in /usr/local/lib/python3.7/dist-packages (from wandb) (2.8.2)\n",
            "Collecting GitPython>=1.0.0\n",
            "  Downloading GitPython-3.1.24-py3-none-any.whl (180 kB)\n",
            "\u001b[K     |████████████████████████████████| 180 kB 51.8 MB/s \n",
            "\u001b[?25hRequirement already satisfied: promise<3,>=2.0 in /usr/local/lib/python3.7/dist-packages (from wandb) (2.3)\n",
            "Collecting subprocess32>=3.5.3\n",
            "  Downloading subprocess32-3.5.4.tar.gz (97 kB)\n",
            "\u001b[K     |████████████████████████████████| 97 kB 6.4 MB/s \n",
            "\u001b[?25hRequirement already satisfied: PyYAML in /usr/local/lib/python3.7/dist-packages (from wandb) (3.13)\n",
            "Requirement already satisfied: six>=1.13.0 in /usr/local/lib/python3.7/dist-packages (from wandb) (1.15.0)\n",
            "Collecting configparser>=3.8.1\n",
            "  Downloading configparser-5.1.0-py3-none-any.whl (19 kB)\n",
            "Requirement already satisfied: protobuf>=3.12.0 in /usr/local/lib/python3.7/dist-packages (from wandb) (3.17.3)\n",
            "Collecting sentry-sdk>=1.0.0\n",
            "  Downloading sentry_sdk-1.5.0-py2.py3-none-any.whl (140 kB)\n",
            "\u001b[K     |████████████████████████████████| 140 kB 44.0 MB/s \n",
            "\u001b[?25hCollecting yaspin>=1.0.0\n",
            "  Downloading yaspin-2.1.0-py3-none-any.whl (18 kB)\n",
            "Collecting docker-pycreds>=0.4.0\n",
            "  Downloading docker_pycreds-0.4.0-py2.py3-none-any.whl (9.0 kB)\n",
            "Requirement already satisfied: psutil>=5.0.0 in /usr/local/lib/python3.7/dist-packages (from wandb) (5.4.8)\n",
            "Collecting pathtools\n",
            "  Downloading pathtools-0.1.2.tar.gz (11 kB)\n",
            "Requirement already satisfied: Click!=8.0.0,>=7.0 in /usr/local/lib/python3.7/dist-packages (from wandb) (7.1.2)\n",
            "Requirement already satisfied: requests<3,>=2.0.0 in /usr/local/lib/python3.7/dist-packages (from wandb) (2.23.0)\n",
            "Collecting shortuuid>=0.5.0\n",
            "  Downloading shortuuid-1.0.8-py3-none-any.whl (9.5 kB)\n",
            "Collecting gitdb<5,>=4.0.1\n",
            "  Downloading gitdb-4.0.9-py3-none-any.whl (63 kB)\n",
            "\u001b[K     |████████████████████████████████| 63 kB 1.6 MB/s \n",
            "\u001b[?25hRequirement already satisfied: typing-extensions>=3.7.4.3 in /usr/local/lib/python3.7/dist-packages (from GitPython>=1.0.0->wandb) (3.10.0.2)\n",
            "Collecting smmap<6,>=3.0.1\n",
            "  Downloading smmap-5.0.0-py3-none-any.whl (24 kB)\n",
            "Requirement already satisfied: idna<3,>=2.5 in /usr/local/lib/python3.7/dist-packages (from requests<3,>=2.0.0->wandb) (2.10)\n",
            "Requirement already satisfied: urllib3!=1.25.0,!=1.25.1,<1.26,>=1.21.1 in /usr/local/lib/python3.7/dist-packages (from requests<3,>=2.0.0->wandb) (1.24.3)\n",
            "Requirement already satisfied: certifi>=2017.4.17 in /usr/local/lib/python3.7/dist-packages (from requests<3,>=2.0.0->wandb) (2021.10.8)\n",
            "Requirement already satisfied: chardet<4,>=3.0.2 in /usr/local/lib/python3.7/dist-packages (from requests<3,>=2.0.0->wandb) (3.0.4)\n",
            "Requirement already satisfied: termcolor<2.0.0,>=1.1.0 in /usr/local/lib/python3.7/dist-packages (from yaspin>=1.0.0->wandb) (1.1.0)\n",
            "Building wheels for collected packages: subprocess32, pathtools\n",
            "  Building wheel for subprocess32 (setup.py) ... \u001b[?25l\u001b[?25hdone\n",
            "  Created wheel for subprocess32: filename=subprocess32-3.5.4-py3-none-any.whl size=6502 sha256=a89897b6899e46920e407a8c1e0f1042c4f114481a62e1b3e6eb12e5bc223120\n",
            "  Stored in directory: /root/.cache/pip/wheels/50/ca/fa/8fca8d246e64f19488d07567547ddec8eb084e8c0d7a59226a\n",
            "  Building wheel for pathtools (setup.py) ... \u001b[?25l\u001b[?25hdone\n",
            "  Created wheel for pathtools: filename=pathtools-0.1.2-py3-none-any.whl size=8807 sha256=d55d30d54c4426c654acd56d83b57cf01c1827bce9332a2efdc89b10352fab04\n",
            "  Stored in directory: /root/.cache/pip/wheels/3e/31/09/fa59cef12cdcfecc627b3d24273699f390e71828921b2cbba2\n",
            "Successfully built subprocess32 pathtools\n",
            "Installing collected packages: smmap, gitdb, yaspin, subprocess32, shortuuid, sentry-sdk, pathtools, GitPython, docker-pycreds, configparser, wandb\n",
            "Successfully installed GitPython-3.1.24 configparser-5.1.0 docker-pycreds-0.4.0 gitdb-4.0.9 pathtools-0.1.2 sentry-sdk-1.5.0 shortuuid-1.0.8 smmap-5.0.0 subprocess32-3.5.4 wandb-0.12.7 yaspin-2.1.0\n"
          ]
        }
      ]
    },
    {
      "cell_type": "code",
      "metadata": {
        "id": "xerBGOZKzkjy",
        "colab": {
          "base_uri": "https://localhost:8080/",
          "height": 130
        },
        "outputId": "a9ca8b8d-461f-4411-c81a-9b1367a018a7"
      },
      "source": [
        "wandb.init(project=\"cnn_x_ray\")"
      ],
      "execution_count": 4,
      "outputs": [
        {
          "output_type": "display_data",
          "data": {
            "application/javascript": [
              "\n",
              "        window._wandbApiKey = new Promise((resolve, reject) => {\n",
              "            function loadScript(url) {\n",
              "            return new Promise(function(resolve, reject) {\n",
              "                let newScript = document.createElement(\"script\");\n",
              "                newScript.onerror = reject;\n",
              "                newScript.onload = resolve;\n",
              "                document.body.appendChild(newScript);\n",
              "                newScript.src = url;\n",
              "            });\n",
              "            }\n",
              "            loadScript(\"https://cdn.jsdelivr.net/npm/postmate/build/postmate.min.js\").then(() => {\n",
              "            const iframe = document.createElement('iframe')\n",
              "            iframe.style.cssText = \"width:0;height:0;border:none\"\n",
              "            document.body.appendChild(iframe)\n",
              "            const handshake = new Postmate({\n",
              "                container: iframe,\n",
              "                url: 'https://wandb.ai/authorize'\n",
              "            });\n",
              "            const timeout = setTimeout(() => reject(\"Couldn't auto authenticate\"), 5000)\n",
              "            handshake.then(function(child) {\n",
              "                child.on('authorize', data => {\n",
              "                    clearTimeout(timeout)\n",
              "                    resolve(data)\n",
              "                });\n",
              "            });\n",
              "            })\n",
              "        });\n",
              "    "
            ],
            "text/plain": [
              "<IPython.core.display.Javascript object>"
            ]
          },
          "metadata": {}
        },
        {
          "output_type": "stream",
          "name": "stderr",
          "text": [
            "\u001b[34m\u001b[1mwandb\u001b[0m: You can find your API key in your browser here: https://wandb.ai/authorize\n"
          ]
        },
        {
          "name": "stdout",
          "output_type": "stream",
          "text": [
            "wandb: Paste an API key from your profile and hit enter, or press ctrl+c to quit: ··········\n"
          ]
        },
        {
          "output_type": "stream",
          "name": "stderr",
          "text": [
            "\u001b[34m\u001b[1mwandb\u001b[0m: Appending key for api.wandb.ai to your netrc file: /root/.netrc\n"
          ]
        },
        {
          "output_type": "display_data",
          "data": {
            "text/html": [
              "\n",
              "                    Syncing run <strong><a href=\"https://wandb.ai/zeinabmostafavi/cnn_x_ray/runs/1eodnkix\" target=\"_blank\">helpful-cherry-6</a></strong> to <a href=\"https://wandb.ai/zeinabmostafavi/cnn_x_ray\" target=\"_blank\">Weights & Biases</a> (<a href=\"https://docs.wandb.com/integrations/jupyter.html\" target=\"_blank\">docs</a>).<br/>\n",
              "\n",
              "                "
            ],
            "text/plain": [
              "<IPython.core.display.HTML object>"
            ]
          },
          "metadata": {}
        },
        {
          "output_type": "execute_result",
          "data": {
            "text/plain": [
              "<wandb.sdk.wandb_run.Run at 0x7f05b4c7e850>"
            ],
            "text/html": [
              "<button onClick=\"this.nextSibling.style.display='block';this.style.display='none';\">Display W&B run</button><iframe src=\"https://wandb.ai/zeinabmostafavi/cnn_x_ray/runs/1eodnkix?jupyter=true\" style=\"border:none;width:100%;height:420px;display:none;\"></iframe>"
            ]
          },
          "metadata": {},
          "execution_count": 4
        }
      ]
    },
    {
      "cell_type": "code",
      "metadata": {
        "_uuid": "8f2839f25d086af736a60e9eeb907d3b93b6e0e5",
        "_cell_guid": "b1076dfc-b9ad-4769-8c92-a6c4dae69d19",
        "execution": {
          "iopub.status.busy": "2021-07-06T08:51:09.489153Z",
          "iopub.execute_input": "2021-07-06T08:51:09.489472Z",
          "iopub.status.idle": "2021-07-06T08:51:09.612451Z",
          "shell.execute_reply.started": "2021-07-06T08:51:09.489402Z",
          "shell.execute_reply": "2021-07-06T08:51:09.611666Z"
        },
        "trusted": true,
        "id": "UVmxlsMmymBY",
        "colab": {
          "base_uri": "https://localhost:8080/"
        },
        "outputId": "3e666789-9355-40e2-de6f-15bb1602ef37"
      },
      "source": [
        "# This Python 3 environment comes with many helpful analytics libraries installed\n",
        "# It is defined by the kaggle/python Docker image: https://github.com/kaggle/docker-python\n",
        "# For example, here's several helpful packages to load\n",
        "\n",
        "import numpy as np # linear algebra\n",
        "import pandas as pd # data processing, CSV file I/O (e.g. pd.read_csv)\n",
        "\n",
        "# Input data files are available in the read-only \"../input/\" directory\n",
        "# For example, running this (by clicking run or pressing Shift+Enter) will list all files under the input directory\n",
        "\n",
        "import os\n",
        "for dirname, _, filenames in os.walk('/content/nih-chest-xrays-tfrecords'):\n",
        "    for filename in filenames:\n",
        "        print(os.path.join(dirname, filename))\n",
        "\n",
        "# You can write up to 20GB to the current directory (/kaggle/working/) that gets preserved as output when you create a version using \"Save & Run All\" \n",
        "# You can also write temporary files to /kaggle/temp/, but they won't be saved outside of the current session"
      ],
      "execution_count": 5,
      "outputs": [
        {
          "output_type": "stream",
          "name": "stdout",
          "text": [
            "/content/nih-chest-xrays-tfrecords/preprocessed_data.csv\n",
            "/content/nih-chest-xrays-tfrecords/data/053-438.tfrec\n",
            "/content/nih-chest-xrays-tfrecords/data/120-438.tfrec\n",
            "/content/nih-chest-xrays-tfrecords/data/096-438.tfrec\n",
            "/content/nih-chest-xrays-tfrecords/data/088-438.tfrec\n",
            "/content/nih-chest-xrays-tfrecords/data/196-438.tfrec\n",
            "/content/nih-chest-xrays-tfrecords/data/098-438.tfrec\n",
            "/content/nih-chest-xrays-tfrecords/data/009-438.tfrec\n",
            "/content/nih-chest-xrays-tfrecords/data/081-438.tfrec\n",
            "/content/nih-chest-xrays-tfrecords/data/069-438.tfrec\n",
            "/content/nih-chest-xrays-tfrecords/data/202-438.tfrec\n",
            "/content/nih-chest-xrays-tfrecords/data/172-438.tfrec\n",
            "/content/nih-chest-xrays-tfrecords/data/119-438.tfrec\n",
            "/content/nih-chest-xrays-tfrecords/data/199-438.tfrec\n",
            "/content/nih-chest-xrays-tfrecords/data/213-438.tfrec\n",
            "/content/nih-chest-xrays-tfrecords/data/219-438.tfrec\n",
            "/content/nih-chest-xrays-tfrecords/data/040-438.tfrec\n",
            "/content/nih-chest-xrays-tfrecords/data/177-438.tfrec\n",
            "/content/nih-chest-xrays-tfrecords/data/187-438.tfrec\n",
            "/content/nih-chest-xrays-tfrecords/data/139-438.tfrec\n",
            "/content/nih-chest-xrays-tfrecords/data/251-437.tfrec\n",
            "/content/nih-chest-xrays-tfrecords/data/205-438.tfrec\n",
            "/content/nih-chest-xrays-tfrecords/data/051-438.tfrec\n",
            "/content/nih-chest-xrays-tfrecords/data/052-438.tfrec\n",
            "/content/nih-chest-xrays-tfrecords/data/111-438.tfrec\n",
            "/content/nih-chest-xrays-tfrecords/data/080-438.tfrec\n",
            "/content/nih-chest-xrays-tfrecords/data/031-438.tfrec\n",
            "/content/nih-chest-xrays-tfrecords/data/169-438.tfrec\n",
            "/content/nih-chest-xrays-tfrecords/data/211-438.tfrec\n",
            "/content/nih-chest-xrays-tfrecords/data/090-438.tfrec\n",
            "/content/nih-chest-xrays-tfrecords/data/033-438.tfrec\n",
            "/content/nih-chest-xrays-tfrecords/data/084-438.tfrec\n",
            "/content/nih-chest-xrays-tfrecords/data/123-438.tfrec\n",
            "/content/nih-chest-xrays-tfrecords/data/034-438.tfrec\n",
            "/content/nih-chest-xrays-tfrecords/data/235-438.tfrec\n",
            "/content/nih-chest-xrays-tfrecords/data/103-438.tfrec\n",
            "/content/nih-chest-xrays-tfrecords/data/224-438.tfrec\n",
            "/content/nih-chest-xrays-tfrecords/data/086-438.tfrec\n",
            "/content/nih-chest-xrays-tfrecords/data/167-438.tfrec\n",
            "/content/nih-chest-xrays-tfrecords/data/017-438.tfrec\n",
            "/content/nih-chest-xrays-tfrecords/data/042-438.tfrec\n",
            "/content/nih-chest-xrays-tfrecords/data/059-438.tfrec\n",
            "/content/nih-chest-xrays-tfrecords/data/044-438.tfrec\n",
            "/content/nih-chest-xrays-tfrecords/data/250-437.tfrec\n",
            "/content/nih-chest-xrays-tfrecords/data/234-438.tfrec\n",
            "/content/nih-chest-xrays-tfrecords/data/171-438.tfrec\n",
            "/content/nih-chest-xrays-tfrecords/data/091-438.tfrec\n",
            "/content/nih-chest-xrays-tfrecords/data/225-438.tfrec\n",
            "/content/nih-chest-xrays-tfrecords/data/191-438.tfrec\n",
            "/content/nih-chest-xrays-tfrecords/data/153-438.tfrec\n",
            "/content/nih-chest-xrays-tfrecords/data/201-438.tfrec\n",
            "/content/nih-chest-xrays-tfrecords/data/087-438.tfrec\n",
            "/content/nih-chest-xrays-tfrecords/data/209-438.tfrec\n",
            "/content/nih-chest-xrays-tfrecords/data/083-438.tfrec\n",
            "/content/nih-chest-xrays-tfrecords/data/125-438.tfrec\n",
            "/content/nih-chest-xrays-tfrecords/data/193-438.tfrec\n",
            "/content/nih-chest-xrays-tfrecords/data/050-438.tfrec\n",
            "/content/nih-chest-xrays-tfrecords/data/238-438.tfrec\n",
            "/content/nih-chest-xrays-tfrecords/data/011-438.tfrec\n",
            "/content/nih-chest-xrays-tfrecords/data/055-438.tfrec\n",
            "/content/nih-chest-xrays-tfrecords/data/060-438.tfrec\n",
            "/content/nih-chest-xrays-tfrecords/data/229-438.tfrec\n",
            "/content/nih-chest-xrays-tfrecords/data/255-437.tfrec\n",
            "/content/nih-chest-xrays-tfrecords/data/188-438.tfrec\n",
            "/content/nih-chest-xrays-tfrecords/data/057-438.tfrec\n",
            "/content/nih-chest-xrays-tfrecords/data/161-438.tfrec\n",
            "/content/nih-chest-xrays-tfrecords/data/223-438.tfrec\n",
            "/content/nih-chest-xrays-tfrecords/data/016-438.tfrec\n",
            "/content/nih-chest-xrays-tfrecords/data/041-438.tfrec\n",
            "/content/nih-chest-xrays-tfrecords/data/043-438.tfrec\n",
            "/content/nih-chest-xrays-tfrecords/data/226-438.tfrec\n",
            "/content/nih-chest-xrays-tfrecords/data/036-438.tfrec\n",
            "/content/nih-chest-xrays-tfrecords/data/026-438.tfrec\n",
            "/content/nih-chest-xrays-tfrecords/data/178-438.tfrec\n",
            "/content/nih-chest-xrays-tfrecords/data/170-438.tfrec\n",
            "/content/nih-chest-xrays-tfrecords/data/101-438.tfrec\n",
            "/content/nih-chest-xrays-tfrecords/data/104-438.tfrec\n",
            "/content/nih-chest-xrays-tfrecords/data/239-438.tfrec\n",
            "/content/nih-chest-xrays-tfrecords/data/233-438.tfrec\n",
            "/content/nih-chest-xrays-tfrecords/data/074-438.tfrec\n",
            "/content/nih-chest-xrays-tfrecords/data/089-438.tfrec\n",
            "/content/nih-chest-xrays-tfrecords/data/244-438.tfrec\n",
            "/content/nih-chest-xrays-tfrecords/data/130-438.tfrec\n",
            "/content/nih-chest-xrays-tfrecords/data/148-438.tfrec\n",
            "/content/nih-chest-xrays-tfrecords/data/216-438.tfrec\n",
            "/content/nih-chest-xrays-tfrecords/data/210-438.tfrec\n",
            "/content/nih-chest-xrays-tfrecords/data/099-438.tfrec\n",
            "/content/nih-chest-xrays-tfrecords/data/131-438.tfrec\n",
            "/content/nih-chest-xrays-tfrecords/data/062-438.tfrec\n",
            "/content/nih-chest-xrays-tfrecords/data/212-438.tfrec\n",
            "/content/nih-chest-xrays-tfrecords/data/168-438.tfrec\n",
            "/content/nih-chest-xrays-tfrecords/data/082-438.tfrec\n",
            "/content/nih-chest-xrays-tfrecords/data/095-438.tfrec\n",
            "/content/nih-chest-xrays-tfrecords/data/085-438.tfrec\n",
            "/content/nih-chest-xrays-tfrecords/data/064-438.tfrec\n",
            "/content/nih-chest-xrays-tfrecords/data/245-438.tfrec\n",
            "/content/nih-chest-xrays-tfrecords/data/207-438.tfrec\n",
            "/content/nih-chest-xrays-tfrecords/data/078-438.tfrec\n",
            "/content/nih-chest-xrays-tfrecords/data/134-438.tfrec\n",
            "/content/nih-chest-xrays-tfrecords/data/112-438.tfrec\n",
            "/content/nih-chest-xrays-tfrecords/data/102-438.tfrec\n",
            "/content/nih-chest-xrays-tfrecords/data/010-438.tfrec\n",
            "/content/nih-chest-xrays-tfrecords/data/200-438.tfrec\n",
            "/content/nih-chest-xrays-tfrecords/data/184-438.tfrec\n",
            "/content/nih-chest-xrays-tfrecords/data/220-438.tfrec\n",
            "/content/nih-chest-xrays-tfrecords/data/137-438.tfrec\n",
            "/content/nih-chest-xrays-tfrecords/data/122-438.tfrec\n",
            "/content/nih-chest-xrays-tfrecords/data/018-438.tfrec\n",
            "/content/nih-chest-xrays-tfrecords/data/135-438.tfrec\n",
            "/content/nih-chest-xrays-tfrecords/data/164-438.tfrec\n",
            "/content/nih-chest-xrays-tfrecords/data/156-438.tfrec\n",
            "/content/nih-chest-xrays-tfrecords/data/003-438.tfrec\n",
            "/content/nih-chest-xrays-tfrecords/data/228-438.tfrec\n",
            "/content/nih-chest-xrays-tfrecords/data/015-438.tfrec\n",
            "/content/nih-chest-xrays-tfrecords/data/182-438.tfrec\n",
            "/content/nih-chest-xrays-tfrecords/data/097-438.tfrec\n",
            "/content/nih-chest-xrays-tfrecords/data/163-438.tfrec\n",
            "/content/nih-chest-xrays-tfrecords/data/109-438.tfrec\n",
            "/content/nih-chest-xrays-tfrecords/data/023-438.tfrec\n",
            "/content/nih-chest-xrays-tfrecords/data/006-438.tfrec\n",
            "/content/nih-chest-xrays-tfrecords/data/136-438.tfrec\n",
            "/content/nih-chest-xrays-tfrecords/data/061-438.tfrec\n",
            "/content/nih-chest-xrays-tfrecords/data/030-438.tfrec\n",
            "/content/nih-chest-xrays-tfrecords/data/046-438.tfrec\n",
            "/content/nih-chest-xrays-tfrecords/data/181-438.tfrec\n",
            "/content/nih-chest-xrays-tfrecords/data/185-438.tfrec\n",
            "/content/nih-chest-xrays-tfrecords/data/093-438.tfrec\n",
            "/content/nih-chest-xrays-tfrecords/data/157-438.tfrec\n",
            "/content/nih-chest-xrays-tfrecords/data/115-438.tfrec\n",
            "/content/nih-chest-xrays-tfrecords/data/076-438.tfrec\n",
            "/content/nih-chest-xrays-tfrecords/data/179-438.tfrec\n",
            "/content/nih-chest-xrays-tfrecords/data/065-438.tfrec\n",
            "/content/nih-chest-xrays-tfrecords/data/252-437.tfrec\n",
            "/content/nih-chest-xrays-tfrecords/data/186-438.tfrec\n",
            "/content/nih-chest-xrays-tfrecords/data/194-438.tfrec\n",
            "/content/nih-chest-xrays-tfrecords/data/113-438.tfrec\n",
            "/content/nih-chest-xrays-tfrecords/data/158-438.tfrec\n",
            "/content/nih-chest-xrays-tfrecords/data/066-438.tfrec\n",
            "/content/nih-chest-xrays-tfrecords/data/029-438.tfrec\n",
            "/content/nih-chest-xrays-tfrecords/data/056-438.tfrec\n",
            "/content/nih-chest-xrays-tfrecords/data/189-438.tfrec\n",
            "/content/nih-chest-xrays-tfrecords/data/204-438.tfrec\n",
            "/content/nih-chest-xrays-tfrecords/data/075-438.tfrec\n",
            "/content/nih-chest-xrays-tfrecords/data/254-437.tfrec\n",
            "/content/nih-chest-xrays-tfrecords/data/142-438.tfrec\n",
            "/content/nih-chest-xrays-tfrecords/data/071-438.tfrec\n",
            "/content/nih-chest-xrays-tfrecords/data/155-438.tfrec\n",
            "/content/nih-chest-xrays-tfrecords/data/217-438.tfrec\n",
            "/content/nih-chest-xrays-tfrecords/data/249-437.tfrec\n",
            "/content/nih-chest-xrays-tfrecords/data/048-438.tfrec\n",
            "/content/nih-chest-xrays-tfrecords/data/138-438.tfrec\n",
            "/content/nih-chest-xrays-tfrecords/data/190-438.tfrec\n",
            "/content/nih-chest-xrays-tfrecords/data/236-438.tfrec\n",
            "/content/nih-chest-xrays-tfrecords/data/002-438.tfrec\n",
            "/content/nih-chest-xrays-tfrecords/data/037-438.tfrec\n",
            "/content/nih-chest-xrays-tfrecords/data/227-438.tfrec\n",
            "/content/nih-chest-xrays-tfrecords/data/116-438.tfrec\n",
            "/content/nih-chest-xrays-tfrecords/data/247-438.tfrec\n",
            "/content/nih-chest-xrays-tfrecords/data/014-438.tfrec\n",
            "/content/nih-chest-xrays-tfrecords/data/001-438.tfrec\n",
            "/content/nih-chest-xrays-tfrecords/data/049-438.tfrec\n",
            "/content/nih-chest-xrays-tfrecords/data/107-438.tfrec\n",
            "/content/nih-chest-xrays-tfrecords/data/173-438.tfrec\n",
            "/content/nih-chest-xrays-tfrecords/data/165-438.tfrec\n",
            "/content/nih-chest-xrays-tfrecords/data/240-438.tfrec\n",
            "/content/nih-chest-xrays-tfrecords/data/117-438.tfrec\n",
            "/content/nih-chest-xrays-tfrecords/data/230-438.tfrec\n",
            "/content/nih-chest-xrays-tfrecords/data/100-438.tfrec\n",
            "/content/nih-chest-xrays-tfrecords/data/028-438.tfrec\n",
            "/content/nih-chest-xrays-tfrecords/data/133-438.tfrec\n",
            "/content/nih-chest-xrays-tfrecords/data/108-438.tfrec\n",
            "/content/nih-chest-xrays-tfrecords/data/126-438.tfrec\n",
            "/content/nih-chest-xrays-tfrecords/data/121-438.tfrec\n",
            "/content/nih-chest-xrays-tfrecords/data/114-438.tfrec\n",
            "/content/nih-chest-xrays-tfrecords/data/248-437.tfrec\n",
            "/content/nih-chest-xrays-tfrecords/data/147-438.tfrec\n",
            "/content/nih-chest-xrays-tfrecords/data/106-438.tfrec\n",
            "/content/nih-chest-xrays-tfrecords/data/180-438.tfrec\n",
            "/content/nih-chest-xrays-tfrecords/data/242-438.tfrec\n",
            "/content/nih-chest-xrays-tfrecords/data/154-438.tfrec\n",
            "/content/nih-chest-xrays-tfrecords/data/198-438.tfrec\n",
            "/content/nih-chest-xrays-tfrecords/data/110-438.tfrec\n",
            "/content/nih-chest-xrays-tfrecords/data/152-438.tfrec\n",
            "/content/nih-chest-xrays-tfrecords/data/159-438.tfrec\n",
            "/content/nih-chest-xrays-tfrecords/data/221-438.tfrec\n",
            "/content/nih-chest-xrays-tfrecords/data/063-438.tfrec\n",
            "/content/nih-chest-xrays-tfrecords/data/197-438.tfrec\n",
            "/content/nih-chest-xrays-tfrecords/data/143-438.tfrec\n",
            "/content/nih-chest-xrays-tfrecords/data/243-438.tfrec\n",
            "/content/nih-chest-xrays-tfrecords/data/174-438.tfrec\n",
            "/content/nih-chest-xrays-tfrecords/data/013-438.tfrec\n",
            "/content/nih-chest-xrays-tfrecords/data/183-438.tfrec\n",
            "/content/nih-chest-xrays-tfrecords/data/092-438.tfrec\n",
            "/content/nih-chest-xrays-tfrecords/data/047-438.tfrec\n",
            "/content/nih-chest-xrays-tfrecords/data/004-438.tfrec\n",
            "/content/nih-chest-xrays-tfrecords/data/151-438.tfrec\n",
            "/content/nih-chest-xrays-tfrecords/data/146-438.tfrec\n",
            "/content/nih-chest-xrays-tfrecords/data/141-438.tfrec\n",
            "/content/nih-chest-xrays-tfrecords/data/222-438.tfrec\n",
            "/content/nih-chest-xrays-tfrecords/data/118-438.tfrec\n",
            "/content/nih-chest-xrays-tfrecords/data/000-438.tfrec\n",
            "/content/nih-chest-xrays-tfrecords/data/160-438.tfrec\n",
            "/content/nih-chest-xrays-tfrecords/data/253-437.tfrec\n",
            "/content/nih-chest-xrays-tfrecords/data/073-438.tfrec\n",
            "/content/nih-chest-xrays-tfrecords/data/012-438.tfrec\n",
            "/content/nih-chest-xrays-tfrecords/data/079-438.tfrec\n",
            "/content/nih-chest-xrays-tfrecords/data/022-438.tfrec\n",
            "/content/nih-chest-xrays-tfrecords/data/150-438.tfrec\n",
            "/content/nih-chest-xrays-tfrecords/data/054-438.tfrec\n",
            "/content/nih-chest-xrays-tfrecords/data/045-438.tfrec\n",
            "/content/nih-chest-xrays-tfrecords/data/246-438.tfrec\n",
            "/content/nih-chest-xrays-tfrecords/data/144-438.tfrec\n",
            "/content/nih-chest-xrays-tfrecords/data/149-438.tfrec\n",
            "/content/nih-chest-xrays-tfrecords/data/132-438.tfrec\n",
            "/content/nih-chest-xrays-tfrecords/data/206-438.tfrec\n",
            "/content/nih-chest-xrays-tfrecords/data/127-438.tfrec\n",
            "/content/nih-chest-xrays-tfrecords/data/077-438.tfrec\n",
            "/content/nih-chest-xrays-tfrecords/data/068-438.tfrec\n",
            "/content/nih-chest-xrays-tfrecords/data/070-438.tfrec\n",
            "/content/nih-chest-xrays-tfrecords/data/008-438.tfrec\n",
            "/content/nih-chest-xrays-tfrecords/data/192-438.tfrec\n",
            "/content/nih-chest-xrays-tfrecords/data/140-438.tfrec\n",
            "/content/nih-chest-xrays-tfrecords/data/129-438.tfrec\n",
            "/content/nih-chest-xrays-tfrecords/data/021-438.tfrec\n",
            "/content/nih-chest-xrays-tfrecords/data/035-438.tfrec\n",
            "/content/nih-chest-xrays-tfrecords/data/024-438.tfrec\n",
            "/content/nih-chest-xrays-tfrecords/data/038-438.tfrec\n",
            "/content/nih-chest-xrays-tfrecords/data/058-438.tfrec\n",
            "/content/nih-chest-xrays-tfrecords/data/019-438.tfrec\n",
            "/content/nih-chest-xrays-tfrecords/data/218-438.tfrec\n",
            "/content/nih-chest-xrays-tfrecords/data/105-438.tfrec\n",
            "/content/nih-chest-xrays-tfrecords/data/007-438.tfrec\n",
            "/content/nih-chest-xrays-tfrecords/data/166-438.tfrec\n",
            "/content/nih-chest-xrays-tfrecords/data/241-438.tfrec\n",
            "/content/nih-chest-xrays-tfrecords/data/176-438.tfrec\n",
            "/content/nih-chest-xrays-tfrecords/data/124-438.tfrec\n",
            "/content/nih-chest-xrays-tfrecords/data/203-438.tfrec\n",
            "/content/nih-chest-xrays-tfrecords/data/067-438.tfrec\n",
            "/content/nih-chest-xrays-tfrecords/data/231-438.tfrec\n",
            "/content/nih-chest-xrays-tfrecords/data/027-438.tfrec\n",
            "/content/nih-chest-xrays-tfrecords/data/072-438.tfrec\n",
            "/content/nih-chest-xrays-tfrecords/data/032-438.tfrec\n",
            "/content/nih-chest-xrays-tfrecords/data/214-438.tfrec\n",
            "/content/nih-chest-xrays-tfrecords/data/094-438.tfrec\n",
            "/content/nih-chest-xrays-tfrecords/data/237-438.tfrec\n",
            "/content/nih-chest-xrays-tfrecords/data/128-438.tfrec\n",
            "/content/nih-chest-xrays-tfrecords/data/195-438.tfrec\n",
            "/content/nih-chest-xrays-tfrecords/data/005-438.tfrec\n",
            "/content/nih-chest-xrays-tfrecords/data/232-438.tfrec\n",
            "/content/nih-chest-xrays-tfrecords/data/208-438.tfrec\n",
            "/content/nih-chest-xrays-tfrecords/data/215-438.tfrec\n",
            "/content/nih-chest-xrays-tfrecords/data/175-438.tfrec\n",
            "/content/nih-chest-xrays-tfrecords/data/039-438.tfrec\n",
            "/content/nih-chest-xrays-tfrecords/data/025-438.tfrec\n",
            "/content/nih-chest-xrays-tfrecords/data/020-438.tfrec\n",
            "/content/nih-chest-xrays-tfrecords/data/145-438.tfrec\n",
            "/content/nih-chest-xrays-tfrecords/data/162-438.tfrec\n"
          ]
        }
      ]
    },
    {
      "cell_type": "code",
      "metadata": {
        "execution": {
          "iopub.status.busy": "2021-07-06T08:51:09.614273Z",
          "iopub.execute_input": "2021-07-06T08:51:09.614514Z",
          "iopub.status.idle": "2021-07-06T08:51:14.921199Z",
          "shell.execute_reply.started": "2021-07-06T08:51:09.614489Z",
          "shell.execute_reply": "2021-07-06T08:51:14.920367Z"
        },
        "trusted": true,
        "id": "ZFIw3vxJymCY"
      },
      "source": [
        "import tensorflow as tf\n",
        "import matplotlib.pyplot as plt\n",
        "from sklearn.model_selection import train_test_split\n",
        "from tqdm import tqdm\n",
        "import numpy as np\n",
        "from functools import partial\n",
        "from tensorflow.keras.applications import EfficientNetB1\n",
        "from tensorflow.keras.layers import Dense, GlobalAveragePooling2D, Dropout, Conv2D, MaxPooling2D, BatchNormalization, LeakyReLU, Flatten\n",
        "from tensorflow.keras.models import Model, Sequential, load_model\n",
        "from tensorflow.keras import callbacks\n",
        "import os\n",
        "import random\n",
        "import pprint\n",
        "import pandas as pd\n",
        "import numpy as np"
      ],
      "execution_count": 6,
      "outputs": []
    },
    {
      "cell_type": "code",
      "metadata": {
        "execution": {
          "iopub.status.busy": "2021-07-06T08:51:14.92295Z",
          "iopub.execute_input": "2021-07-06T08:51:14.923289Z",
          "iopub.status.idle": "2021-07-06T08:51:15.32127Z",
          "shell.execute_reply.started": "2021-07-06T08:51:14.923252Z",
          "shell.execute_reply": "2021-07-06T08:51:15.320426Z"
        },
        "trusted": true,
        "id": "-yR8XJoaymCb"
      },
      "source": [
        "df= pd.read_csv('/content/nih-chest-xrays-tfrecords/preprocessed_data.csv')"
      ],
      "execution_count": 7,
      "outputs": []
    },
    {
      "cell_type": "code",
      "metadata": {
        "execution": {
          "iopub.status.busy": "2021-07-06T08:51:15.322947Z",
          "iopub.execute_input": "2021-07-06T08:51:15.323282Z",
          "iopub.status.idle": "2021-07-06T08:51:15.358581Z",
          "shell.execute_reply.started": "2021-07-06T08:51:15.323244Z",
          "shell.execute_reply": "2021-07-06T08:51:15.357747Z"
        },
        "trusted": true,
        "id": "n19ConNuymCe",
        "colab": {
          "base_uri": "https://localhost:8080/",
          "height": 504
        },
        "outputId": "1d2693b1-32cf-45ab-933e-4266774ded92"
      },
      "source": [
        "df.rename(columns = {'Unnamed: 0' : 'image'}, inplace = True)\n",
        "df.head()"
      ],
      "execution_count": 8,
      "outputs": [
        {
          "output_type": "execute_result",
          "data": {
            "text/html": [
              "<div>\n",
              "<style scoped>\n",
              "    .dataframe tbody tr th:only-of-type {\n",
              "        vertical-align: middle;\n",
              "    }\n",
              "\n",
              "    .dataframe tbody tr th {\n",
              "        vertical-align: top;\n",
              "    }\n",
              "\n",
              "    .dataframe thead th {\n",
              "        text-align: right;\n",
              "    }\n",
              "</style>\n",
              "<table border=\"1\" class=\"dataframe\">\n",
              "  <thead>\n",
              "    <tr style=\"text-align: right;\">\n",
              "      <th></th>\n",
              "      <th>image</th>\n",
              "      <th>No Finding</th>\n",
              "      <th>Atelectasis</th>\n",
              "      <th>Consolidation</th>\n",
              "      <th>Infiltration</th>\n",
              "      <th>Pneumothorax</th>\n",
              "      <th>Edema</th>\n",
              "      <th>Emphysema</th>\n",
              "      <th>Fibrosis</th>\n",
              "      <th>Effusion</th>\n",
              "      <th>Pneumonia</th>\n",
              "      <th>Pleural_Thickening</th>\n",
              "      <th>Cardiomegaly</th>\n",
              "      <th>Nodule</th>\n",
              "      <th>Mass</th>\n",
              "      <th>Hernia</th>\n",
              "    </tr>\n",
              "  </thead>\n",
              "  <tbody>\n",
              "    <tr>\n",
              "      <th>0</th>\n",
              "      <td>../input/data/images_001/images/00000001_000.png</td>\n",
              "      <td>False</td>\n",
              "      <td>False</td>\n",
              "      <td>False</td>\n",
              "      <td>False</td>\n",
              "      <td>False</td>\n",
              "      <td>False</td>\n",
              "      <td>False</td>\n",
              "      <td>False</td>\n",
              "      <td>False</td>\n",
              "      <td>False</td>\n",
              "      <td>False</td>\n",
              "      <td>True</td>\n",
              "      <td>False</td>\n",
              "      <td>False</td>\n",
              "      <td>False</td>\n",
              "    </tr>\n",
              "    <tr>\n",
              "      <th>1</th>\n",
              "      <td>../input/data/images_001/images/00000001_001.png</td>\n",
              "      <td>False</td>\n",
              "      <td>False</td>\n",
              "      <td>False</td>\n",
              "      <td>False</td>\n",
              "      <td>False</td>\n",
              "      <td>False</td>\n",
              "      <td>True</td>\n",
              "      <td>False</td>\n",
              "      <td>False</td>\n",
              "      <td>False</td>\n",
              "      <td>False</td>\n",
              "      <td>True</td>\n",
              "      <td>False</td>\n",
              "      <td>False</td>\n",
              "      <td>False</td>\n",
              "    </tr>\n",
              "    <tr>\n",
              "      <th>2</th>\n",
              "      <td>../input/data/images_001/images/00000001_002.png</td>\n",
              "      <td>False</td>\n",
              "      <td>False</td>\n",
              "      <td>False</td>\n",
              "      <td>False</td>\n",
              "      <td>False</td>\n",
              "      <td>False</td>\n",
              "      <td>False</td>\n",
              "      <td>False</td>\n",
              "      <td>True</td>\n",
              "      <td>False</td>\n",
              "      <td>False</td>\n",
              "      <td>True</td>\n",
              "      <td>False</td>\n",
              "      <td>False</td>\n",
              "      <td>False</td>\n",
              "    </tr>\n",
              "    <tr>\n",
              "      <th>3</th>\n",
              "      <td>../input/data/images_001/images/00000002_000.png</td>\n",
              "      <td>True</td>\n",
              "      <td>False</td>\n",
              "      <td>False</td>\n",
              "      <td>False</td>\n",
              "      <td>False</td>\n",
              "      <td>False</td>\n",
              "      <td>False</td>\n",
              "      <td>False</td>\n",
              "      <td>False</td>\n",
              "      <td>False</td>\n",
              "      <td>False</td>\n",
              "      <td>False</td>\n",
              "      <td>False</td>\n",
              "      <td>False</td>\n",
              "      <td>False</td>\n",
              "    </tr>\n",
              "    <tr>\n",
              "      <th>4</th>\n",
              "      <td>../input/data/images_001/images/00000003_000.png</td>\n",
              "      <td>False</td>\n",
              "      <td>False</td>\n",
              "      <td>False</td>\n",
              "      <td>False</td>\n",
              "      <td>False</td>\n",
              "      <td>False</td>\n",
              "      <td>False</td>\n",
              "      <td>False</td>\n",
              "      <td>False</td>\n",
              "      <td>False</td>\n",
              "      <td>False</td>\n",
              "      <td>False</td>\n",
              "      <td>False</td>\n",
              "      <td>False</td>\n",
              "      <td>True</td>\n",
              "    </tr>\n",
              "  </tbody>\n",
              "</table>\n",
              "</div>"
            ],
            "text/plain": [
              "                                              image  No Finding  ...   Mass  Hernia\n",
              "0  ../input/data/images_001/images/00000001_000.png       False  ...  False   False\n",
              "1  ../input/data/images_001/images/00000001_001.png       False  ...  False   False\n",
              "2  ../input/data/images_001/images/00000001_002.png       False  ...  False   False\n",
              "3  ../input/data/images_001/images/00000002_000.png        True  ...  False   False\n",
              "4  ../input/data/images_001/images/00000003_000.png       False  ...  False    True\n",
              "\n",
              "[5 rows x 16 columns]"
            ]
          },
          "metadata": {},
          "execution_count": 8
        }
      ]
    },
    {
      "cell_type": "code",
      "metadata": {
        "execution": {
          "iopub.status.busy": "2021-07-06T08:51:15.359908Z",
          "iopub.execute_input": "2021-07-06T08:51:15.360276Z",
          "iopub.status.idle": "2021-07-06T08:51:17.231593Z",
          "shell.execute_reply.started": "2021-07-06T08:51:15.36024Z",
          "shell.execute_reply": "2021-07-06T08:51:17.230647Z"
        },
        "trusted": true,
        "id": "0gRVo043ymCg",
        "colab": {
          "base_uri": "https://localhost:8080/",
          "height": 1000
        },
        "outputId": "bdc1c89c-9f81-4e37-e86f-25a8591cb914"
      },
      "source": [
        "columns = df.columns[1:]\n",
        "plt.figure(figsize = (15,25))\n",
        "\n",
        "for j,i in zip(range(len(columns)), range(1,16)):\n",
        "            plt.subplot(4,4,i)\n",
        "            valeur = df.value_counts(columns[j],sort = False)\n",
        "            valeur.plot.bar(label =columns[j], color = {'green': 'False', 'red': 'True'})\n",
        "            plt.legend();"
      ],
      "execution_count": 9,
      "outputs": [
        {
          "output_type": "display_data",
          "data": {
            "image/png": "[encoded data removed]",
            "text/plain": [
              "<Figure size 1080x1800 with 15 Axes>"
            ]
          },
          "metadata": {
            "needs_background": "light"
          }
        }
      ]
    },
    {
      "cell_type": "code",
      "metadata": {
        "execution": {
          "iopub.status.busy": "2021-07-06T08:51:17.232662Z",
          "iopub.execute_input": "2021-07-06T08:51:17.232974Z",
          "iopub.status.idle": "2021-07-06T08:51:17.24209Z",
          "shell.execute_reply.started": "2021-07-06T08:51:17.232941Z",
          "shell.execute_reply": "2021-07-06T08:51:17.240915Z"
        },
        "trusted": true,
        "id": "ycw83ttEymCm"
      },
      "source": [
        "dossier = '/content/nih-chest-xrays-tfrecords/data/'\n",
        "image = os.listdir(dossier)\n",
        "img = [dossier+x for x in image]\n",
        "filenames = tf.io.gfile.glob(img)"
      ],
      "execution_count": 10,
      "outputs": []
    },
    {
      "cell_type": "code",
      "metadata": {
        "execution": {
          "iopub.status.busy": "2021-07-06T08:51:17.243705Z",
          "iopub.execute_input": "2021-07-06T08:51:17.244233Z",
          "iopub.status.idle": "2021-07-06T08:51:17.254254Z",
          "shell.execute_reply.started": "2021-07-06T08:51:17.244193Z",
          "shell.execute_reply": "2021-07-06T08:51:17.253054Z"
        },
        "trusted": true,
        "id": "aA3HxUtaymCm",
        "colab": {
          "base_uri": "https://localhost:8080/"
        },
        "outputId": "fd032aff-d0f4-4d64-c702-3347790e1ebf"
      },
      "source": [
        "split_ind = int(0.8 * len(filenames))\n",
        "split_ind2 = int(0.9 * len(filenames))\n",
        "\n",
        "training= filenames[:split_ind]\n",
        "valid = filenames[split_ind:split_ind2]\n",
        "test = filenames[split_ind2:]\n",
        "\n",
        "print(\"Train TFRecord Files:\", len(training))\n",
        "print(\"Validation TFRecord Files:\", len(valid))\n",
        "print(\"Test TFRecord Files:\", len(test))\n",
        "print(len(training)+len(valid)+len(test)==len(filenames))"
      ],
      "execution_count": 11,
      "outputs": [
        {
          "output_type": "stream",
          "name": "stdout",
          "text": [
            "Train TFRecord Files: 204\n",
            "Validation TFRecord Files: 26\n",
            "Test TFRecord Files: 26\n",
            "True\n"
          ]
        }
      ]
    },
    {
      "cell_type": "code",
      "metadata": {
        "execution": {
          "iopub.status.busy": "2021-07-06T08:51:17.257874Z",
          "iopub.execute_input": "2021-07-06T08:51:17.258186Z",
          "iopub.status.idle": "2021-07-06T08:51:17.267629Z",
          "shell.execute_reply.started": "2021-07-06T08:51:17.258154Z",
          "shell.execute_reply": "2021-07-06T08:51:17.266509Z"
        },
        "trusted": true,
        "id": "zYTk9Pg3ymCn",
        "colab": {
          "base_uri": "https://localhost:8080/"
        },
        "outputId": "80a8161e-1866-40df-e3e2-09c867ca8a3d"
      },
      "source": [
        "feature_map= {}\n",
        "\n",
        "for elem in list(df.columns)[1:]:\n",
        "    feature_map[elem] = tf.io.FixedLenFeature([], tf.int64)\n",
        "    \n",
        "feature_map['image'] = tf.io.FixedLenFeature([], tf.string)\n",
        "feature_map"
      ],
      "execution_count": 12,
      "outputs": [
        {
          "output_type": "execute_result",
          "data": {
            "text/plain": [
              "{'Atelectasis': FixedLenFeature(shape=[], dtype=tf.int64, default_value=None),\n",
              " 'Cardiomegaly': FixedLenFeature(shape=[], dtype=tf.int64, default_value=None),\n",
              " 'Consolidation': FixedLenFeature(shape=[], dtype=tf.int64, default_value=None),\n",
              " 'Edema': FixedLenFeature(shape=[], dtype=tf.int64, default_value=None),\n",
              " 'Effusion': FixedLenFeature(shape=[], dtype=tf.int64, default_value=None),\n",
              " 'Emphysema': FixedLenFeature(shape=[], dtype=tf.int64, default_value=None),\n",
              " 'Fibrosis': FixedLenFeature(shape=[], dtype=tf.int64, default_value=None),\n",
              " 'Hernia': FixedLenFeature(shape=[], dtype=tf.int64, default_value=None),\n",
              " 'Infiltration': FixedLenFeature(shape=[], dtype=tf.int64, default_value=None),\n",
              " 'Mass': FixedLenFeature(shape=[], dtype=tf.int64, default_value=None),\n",
              " 'No Finding': FixedLenFeature(shape=[], dtype=tf.int64, default_value=None),\n",
              " 'Nodule': FixedLenFeature(shape=[], dtype=tf.int64, default_value=None),\n",
              " 'Pleural_Thickening': FixedLenFeature(shape=[], dtype=tf.int64, default_value=None),\n",
              " 'Pneumonia': FixedLenFeature(shape=[], dtype=tf.int64, default_value=None),\n",
              " 'Pneumothorax': FixedLenFeature(shape=[], dtype=tf.int64, default_value=None),\n",
              " 'image': FixedLenFeature(shape=[], dtype=tf.string, default_value=None)}"
            ]
          },
          "metadata": {},
          "execution_count": 12
        }
      ]
    },
    {
      "cell_type": "code",
      "metadata": {
        "execution": {
          "iopub.status.busy": "2021-07-06T08:51:17.26984Z",
          "iopub.execute_input": "2021-07-06T08:51:17.270308Z",
          "iopub.status.idle": "2021-07-06T08:51:17.276532Z",
          "shell.execute_reply.started": "2021-07-06T08:51:17.270271Z",
          "shell.execute_reply": "2021-07-06T08:51:17.275361Z"
        },
        "trusted": true,
        "id": "dKZOEuH6ymCp"
      },
      "source": [
        "def read_tfrecord(example):\n",
        "    example = tf.io.parse_single_example(example, feature_map)\n",
        "    image = tf.io.decode_jpeg(example[\"image\"], channels=3)\n",
        "    image = tf.image.resize(image, (150,150))\n",
        "    image = tf.cast(image, tf.float32) / 255.0\n",
        "    \n",
        "    label = []\n",
        "    \n",
        "    for val in columns:\n",
        "        label.append(example[val])\n",
        "    \n",
        "    return image, label"
      ],
      "execution_count": 13,
      "outputs": []
    },
    {
      "cell_type": "code",
      "metadata": {
        "execution": {
          "iopub.status.busy": "2021-07-06T08:51:17.277963Z",
          "iopub.execute_input": "2021-07-06T08:51:17.281738Z",
          "iopub.status.idle": "2021-07-06T08:51:17.290225Z",
          "shell.execute_reply.started": "2021-07-06T08:51:17.281673Z",
          "shell.execute_reply": "2021-07-06T08:51:17.289026Z"
        },
        "trusted": true,
        "id": "VWkqTXATymCr"
      },
      "source": [
        "def load_dataset(filenames):\n",
        "    ignore_order = tf.data.Options()\n",
        "    ignore_order.experimental_deterministic = False\n",
        "    dataset = tf.data.TFRecordDataset(filenames)\n",
        "    dataset = dataset.with_options(ignore_order)\n",
        "    dataset = dataset.map(read_tfrecord)\n",
        "    \n",
        "    return dataset"
      ],
      "execution_count": 14,
      "outputs": []
    },
    {
      "cell_type": "code",
      "metadata": {
        "execution": {
          "iopub.status.busy": "2021-07-06T08:51:17.291841Z",
          "iopub.execute_input": "2021-07-06T08:51:17.292336Z",
          "iopub.status.idle": "2021-07-06T08:51:17.298974Z",
          "shell.execute_reply.started": "2021-07-06T08:51:17.292296Z",
          "shell.execute_reply": "2021-07-06T08:51:17.297938Z"
        },
        "trusted": true,
        "id": "xQs-cVfOymCr"
      },
      "source": [
        "AUTOTUNE = tf.data.experimental.AUTOTUNE\n",
        "def get_dataset(filenames):\n",
        "    dataset = load_dataset(filenames)\n",
        "    dataset = dataset.shuffle(2048)\n",
        "    dataset = dataset.prefetch(buffer_size=AUTOTUNE)\n",
        "    dataset = dataset.batch(64)\n",
        "    \n",
        "    return dataset"
      ],
      "execution_count": 15,
      "outputs": []
    },
    {
      "cell_type": "code",
      "metadata": {
        "execution": {
          "iopub.status.busy": "2021-07-06T08:51:17.300725Z",
          "iopub.execute_input": "2021-07-06T08:51:17.301207Z",
          "iopub.status.idle": "2021-07-06T08:51:19.149395Z",
          "shell.execute_reply.started": "2021-07-06T08:51:17.301168Z",
          "shell.execute_reply": "2021-07-06T08:51:19.148565Z"
        },
        "trusted": true,
        "id": "zkxozDOYymCt"
      },
      "source": [
        "train_dataset = get_dataset(training)\n",
        "valid_dataset = get_dataset(valid)\n",
        "test_dataset = get_dataset(test)"
      ],
      "execution_count": 16,
      "outputs": []
    },
    {
      "cell_type": "code",
      "metadata": {
        "execution": {
          "iopub.status.busy": "2021-07-06T08:51:19.150814Z",
          "iopub.execute_input": "2021-07-06T08:51:19.151154Z",
          "iopub.status.idle": "2021-07-06T08:51:22.009372Z",
          "shell.execute_reply.started": "2021-07-06T08:51:19.151105Z",
          "shell.execute_reply": "2021-07-06T08:51:22.00852Z"
        },
        "trusted": true,
        "id": "L9ZQYPhDymCu",
        "colab": {
          "base_uri": "https://localhost:8080/"
        },
        "outputId": "ddcfc7c5-f3e3-4399-b534-4c221fadb596"
      },
      "source": [
        "eff = EfficientNetB1(include_top = False, input_shape=(150,150,3))\n",
        "for layer in eff.layers:\n",
        "    layer.trainable = False"
      ],
      "execution_count": 17,
      "outputs": [
        {
          "output_type": "stream",
          "name": "stdout",
          "text": [
            "Downloading data from https://storage.googleapis.com/keras-applications/efficientnetb1_notop.h5\n",
            "27025408/27018416 [==============================] - 0s 0us/step\n",
            "27033600/27018416 [==============================] - 0s 0us/step\n"
          ]
        }
      ]
    },
    {
      "cell_type": "code",
      "metadata": {
        "execution": {
          "iopub.status.busy": "2021-07-06T08:51:22.012535Z",
          "iopub.execute_input": "2021-07-06T08:51:22.012807Z",
          "iopub.status.idle": "2021-07-06T08:51:23.037711Z",
          "shell.execute_reply.started": "2021-07-06T08:51:22.012773Z",
          "shell.execute_reply": "2021-07-06T08:51:23.036885Z"
        },
        "trusted": true,
        "id": "fil0nvZ2ymCv"
      },
      "source": [
        "model = Sequential()\n",
        "model.add(eff)\n",
        "model.add(GlobalAveragePooling2D())\n",
        "model.add(Dense(1024, activation='relu'))\n",
        "model.add(Dropout(0.2))\n",
        "model.add(Dense(512, activation='relu'))\n",
        "model.add(Dropout(0.2))\n",
        "model.add(Dense(15, activation='softmax'))"
      ],
      "execution_count": 18,
      "outputs": []
    },
    {
      "cell_type": "code",
      "metadata": {
        "execution": {
          "iopub.status.busy": "2021-07-06T08:51:23.038841Z",
          "iopub.execute_input": "2021-07-06T08:51:23.039177Z",
          "iopub.status.idle": "2021-07-06T08:51:23.066977Z",
          "shell.execute_reply.started": "2021-07-06T08:51:23.039143Z",
          "shell.execute_reply": "2021-07-06T08:51:23.066059Z"
        },
        "trusted": true,
        "id": "0-yOkYrMymCw",
        "colab": {
          "base_uri": "https://localhost:8080/"
        },
        "outputId": "40101e3d-9e6e-4487-c754-d5357b991630"
      },
      "source": [
        "model.summary()"
      ],
      "execution_count": 19,
      "outputs": [
        {
          "output_type": "stream",
          "name": "stdout",
          "text": [
            "Model: \"sequential\"\n",
            "_________________________________________________________________\n",
            " Layer (type)                Output Shape              Param #   \n",
            "=================================================================\n",
            " efficientnetb1 (Functional)  (None, 5, 5, 1280)       6575239   \n",
            "                                                                 \n",
            " global_average_pooling2d (G  (None, 1280)             0         \n",
            " lobalAveragePooling2D)                                          \n",
            "                                                                 \n",
            " dense (Dense)               (None, 1024)              1311744   \n",
            "                                                                 \n",
            " dropout (Dropout)           (None, 1024)              0         \n",
            "                                                                 \n",
            " dense_1 (Dense)             (None, 512)               524800    \n",
            "                                                                 \n",
            " dropout_1 (Dropout)         (None, 512)               0         \n",
            "                                                                 \n",
            " dense_2 (Dense)             (None, 15)                7695      \n",
            "                                                                 \n",
            "=================================================================\n",
            "Total params: 8,419,478\n",
            "Trainable params: 1,844,239\n",
            "Non-trainable params: 6,575,239\n",
            "_________________________________________________________________\n"
          ]
        }
      ]
    },
    {
      "cell_type": "code",
      "metadata": {
        "execution": {
          "iopub.status.busy": "2021-07-06T08:51:23.068313Z",
          "iopub.execute_input": "2021-07-06T08:51:23.068653Z",
          "iopub.status.idle": "2021-07-06T08:51:23.094418Z",
          "shell.execute_reply.started": "2021-07-06T08:51:23.068615Z",
          "shell.execute_reply": "2021-07-06T08:51:23.093657Z"
        },
        "trusted": true,
        "id": "D6XHirGOymCw"
      },
      "source": [
        "config = wandb.config\n",
        "config.learning_rate = 0.01\n",
        "model.compile(optimizer='adam', loss ='binary_crossentropy',\n",
        "              metrics = [tf.keras.metrics.AUC(name=\"auc\")])"
      ],
      "execution_count": 20,
      "outputs": []
    },
    {
      "cell_type": "code",
      "metadata": {
        "execution": {
          "iopub.status.busy": "2021-07-06T08:51:23.095578Z",
          "iopub.execute_input": "2021-07-06T08:51:23.09606Z",
          "iopub.status.idle": "2021-07-06T08:51:23.101269Z",
          "shell.execute_reply.started": "2021-07-06T08:51:23.096022Z",
          "shell.execute_reply": "2021-07-06T08:51:23.100001Z"
        },
        "trusted": true,
        "id": "U7uA_6HtymCx"
      },
      "source": [
        "plateau = callbacks.ReduceLROnPlateau(monitor='val_auc',\n",
        "                                     patience = 1,\n",
        "                                     factor = 0.01,\n",
        "                                     mode = 'max')\n",
        "\n",
        "early_stopping = callbacks.EarlyStopping(monitor = 'val_auc',\n",
        "                                        patience = 3,\n",
        "                                        restore_best_weights=True,\n",
        "                                        mode = 'max')"
      ],
      "execution_count": 21,
      "outputs": []
    },
    {
      "cell_type": "code",
      "metadata": {
        "execution": {
          "iopub.status.busy": "2021-07-06T08:51:23.102615Z",
          "iopub.execute_input": "2021-07-06T08:51:23.103352Z",
          "iopub.status.idle": "2021-07-06T08:59:01.005966Z",
          "shell.execute_reply.started": "2021-07-06T08:51:23.103315Z",
          "shell.execute_reply": "2021-07-06T08:59:01.005157Z"
        },
        "trusted": true,
        "colab": {
          "base_uri": "https://localhost:8080/"
        },
        "id": "F50YFXQ2ymCx",
        "outputId": "78ba3b13-0f3e-460a-a209-499637cf2f34"
      },
      "source": [
        "\n",
        "model.fit(train_dataset, epochs = 1,\n",
        "          callbacks=[[WandbCallback()],plateau, early_stopping,], validation_data=valid_dataset)"
      ],
      "execution_count": 26,
      "outputs": [
        {
          "output_type": "stream",
          "name": "stdout",
          "text": [
            "1396/1396 [==============================] - 331s 233ms/step - loss: 0.2200 - auc: 0.8273 - val_loss: 0.2180 - val_auc: 0.8311 - lr: 0.0010\n"
          ]
        },
        {
          "output_type": "execute_result",
          "data": {
            "text/plain": [
              "<keras.callbacks.History at 0x7f04c0029750>"
            ]
          },
          "metadata": {},
          "execution_count": 26
        }
      ]
    },
    {
      "cell_type": "code",
      "metadata": {
        "execution": {
          "iopub.status.busy": "2021-07-06T08:59:01.007452Z",
          "iopub.execute_input": "2021-07-06T08:59:01.007831Z",
          "iopub.status.idle": "2021-07-06T08:59:53.793896Z",
          "shell.execute_reply.started": "2021-07-06T08:59:01.007793Z",
          "shell.execute_reply": "2021-07-06T08:59:53.793118Z"
        },
        "trusted": true,
        "id": "vgBfkZg1ymCy",
        "colab": {
          "base_uri": "https://localhost:8080/"
        },
        "outputId": "30735ceb-345f-488e-9751-d2e53840d4b2"
      },
      "source": [
        "model.evaluate(test_dataset)"
      ],
      "execution_count": 23,
      "outputs": [
        {
          "output_type": "stream",
          "name": "stdout",
          "text": [
            "178/178 [==============================] - 41s 197ms/step - loss: 0.2181 - auc: 0.8303\n"
          ]
        },
        {
          "output_type": "execute_result",
          "data": {
            "text/plain": [
              "[0.21807734668254852, 0.8302568793296814]"
            ]
          },
          "metadata": {},
          "execution_count": 23
        }
      ]
    }
  ]
}